{
 "cells": [
  {
   "cell_type": "code",
   "execution_count": 1,
   "metadata": {
    "collapsed": true
   },
   "outputs": [],
   "source": [
    "import pandas as pd\n",
    "import numpy as np"
   ]
  },
  {
   "cell_type": "code",
   "execution_count": 2,
   "metadata": {
    "collapsed": true
   },
   "outputs": [],
   "source": [
    "import csv\n",
    "f = open(\"E:/master/beer.csv\", 'rb')\n",
    "reader = csv.reader(f)"
   ]
  },
  {
   "cell_type": "code",
   "execution_count": 3,
   "metadata": {
    "collapsed": true,
    "scrolled": true
   },
   "outputs": [],
   "source": [
    "beer = pd.read_csv (f, sep =\",\", error_bad_lines=False)"
   ]
  },
  {
   "cell_type": "code",
   "execution_count": 4,
   "metadata": {
    "scrolled": true
   },
   "outputs": [
    {
     "data": {
      "text/html": [
       "<div>\n",
       "<table border=\"1\" class=\"dataframe\">\n",
       "  <thead>\n",
       "    <tr style=\"text-align: right;\">\n",
       "      <th></th>\n",
       "      <th>Unnamed: 0</th>\n",
       "      <th>names</th>\n",
       "      <th>Id</th>\n",
       "      <th>brewerId</th>\n",
       "      <th>ABV</th>\n",
       "      <th>style</th>\n",
       "      <th>appearance</th>\n",
       "      <th>aroma</th>\n",
       "      <th>palate</th>\n",
       "      <th>taste</th>\n",
       "      <th>overall</th>\n",
       "      <th>time</th>\n",
       "      <th>profile_name</th>\n",
       "    </tr>\n",
       "  </thead>\n",
       "  <tbody>\n",
       "    <tr>\n",
       "      <th>0</th>\n",
       "      <td>0</td>\n",
       "      <td>Sausa Weizen</td>\n",
       "      <td>47986</td>\n",
       "      <td>10325</td>\n",
       "      <td>5.00</td>\n",
       "      <td>Hefeweizen</td>\n",
       "      <td>2.5</td>\n",
       "      <td>2.0</td>\n",
       "      <td>1.5</td>\n",
       "      <td>1.5</td>\n",
       "      <td>1.5</td>\n",
       "      <td>1234817823</td>\n",
       "      <td>stcules</td>\n",
       "    </tr>\n",
       "    <tr>\n",
       "      <th>1</th>\n",
       "      <td>1</td>\n",
       "      <td>Red Moon</td>\n",
       "      <td>48213</td>\n",
       "      <td>10325</td>\n",
       "      <td>6.20</td>\n",
       "      <td>English Strong Ale</td>\n",
       "      <td>3.0</td>\n",
       "      <td>2.5</td>\n",
       "      <td>3.0</td>\n",
       "      <td>3.0</td>\n",
       "      <td>3.0</td>\n",
       "      <td>1235915097</td>\n",
       "      <td>stcules</td>\n",
       "    </tr>\n",
       "    <tr>\n",
       "      <th>2</th>\n",
       "      <td>2</td>\n",
       "      <td>Black Horse Black Beer</td>\n",
       "      <td>48215</td>\n",
       "      <td>10325</td>\n",
       "      <td>6.50</td>\n",
       "      <td>Foreign / Export Stout</td>\n",
       "      <td>3.0</td>\n",
       "      <td>2.5</td>\n",
       "      <td>3.0</td>\n",
       "      <td>3.0</td>\n",
       "      <td>3.0</td>\n",
       "      <td>1235916604</td>\n",
       "      <td>stcules</td>\n",
       "    </tr>\n",
       "    <tr>\n",
       "      <th>3</th>\n",
       "      <td>3</td>\n",
       "      <td>Sausa Pils</td>\n",
       "      <td>47969</td>\n",
       "      <td>10325</td>\n",
       "      <td>5.00</td>\n",
       "      <td>German Pilsener</td>\n",
       "      <td>3.5</td>\n",
       "      <td>3.0</td>\n",
       "      <td>2.5</td>\n",
       "      <td>3.0</td>\n",
       "      <td>3.0</td>\n",
       "      <td>1234725145</td>\n",
       "      <td>stcules</td>\n",
       "    </tr>\n",
       "    <tr>\n",
       "      <th>4</th>\n",
       "      <td>4</td>\n",
       "      <td>Cauldron DIPA</td>\n",
       "      <td>64883</td>\n",
       "      <td>1075</td>\n",
       "      <td>7.70</td>\n",
       "      <td>American Double / Imperial IPA</td>\n",
       "      <td>4.0</td>\n",
       "      <td>4.5</td>\n",
       "      <td>4.0</td>\n",
       "      <td>4.5</td>\n",
       "      <td>4.0</td>\n",
       "      <td>1293735206</td>\n",
       "      <td>johnmichaelsen</td>\n",
       "    </tr>\n",
       "  </tbody>\n",
       "</table>\n",
       "</div>"
      ],
      "text/plain": [
       "   Unnamed: 0                    names     Id  brewerId    ABV  \\\n",
       "0           0             Sausa Weizen  47986     10325   5.00   \n",
       "1           1                 Red Moon  48213     10325   6.20   \n",
       "2           2   Black Horse Black Beer  48215     10325   6.50   \n",
       "3           3               Sausa Pils  47969     10325   5.00   \n",
       "4           4            Cauldron DIPA  64883      1075   7.70   \n",
       "\n",
       "                             style  appearance  aroma  palate  taste  overall  \\\n",
       "0                       Hefeweizen         2.5    2.0     1.5    1.5      1.5   \n",
       "1               English Strong Ale         3.0    2.5     3.0    3.0      3.0   \n",
       "2           Foreign / Export Stout         3.0    2.5     3.0    3.0      3.0   \n",
       "3                  German Pilsener         3.5    3.0     2.5    3.0      3.0   \n",
       "4   American Double / Imperial IPA         4.0    4.5     4.0    4.5      4.0   \n",
       "\n",
       "         time     profile_name  \n",
       "0  1234817823          stcules  \n",
       "1  1235915097          stcules  \n",
       "2  1235916604          stcules  \n",
       "3  1234725145          stcules  \n",
       "4  1293735206   johnmichaelsen  "
      ]
     },
     "execution_count": 4,
     "metadata": {},
     "output_type": "execute_result"
    }
   ],
   "source": [
    "beer.head()"
   ]
  },
  {
   "cell_type": "code",
   "execution_count": 5,
   "metadata": {},
   "outputs": [
    {
     "data": {
      "text/plain": [
       "(1586187, 13)"
      ]
     },
     "execution_count": 5,
     "metadata": {},
     "output_type": "execute_result"
    }
   ],
   "source": [
    "beer.shape"
   ]
  },
  {
   "cell_type": "code",
   "execution_count": 6,
   "metadata": {},
   "outputs": [
    {
     "data": {
      "text/plain": [
       "0    1234817823\n",
       "1    1235915097\n",
       "Name: time, dtype: int64"
      ]
     },
     "execution_count": 6,
     "metadata": {},
     "output_type": "execute_result"
    }
   ],
   "source": [
    "beer['time'].head(2)"
   ]
  },
  {
   "cell_type": "code",
   "execution_count": null,
   "metadata": {
    "collapsed": true
   },
   "outputs": [],
   "source": [
    "## type int64\n",
    "\n",
    "# import datetime\n",
    "# prueba=datetime.datetime.fromtimestamp(int(\"1234817823\")).strftime('%Y-%m-%d %H:%M:%S')\n",
    "# prueba2=datetime.datetime.fromtimestamp(int(\"1234817823\")).strftime('%Y-%m-%d')\n",
    "\n",
    "#print prueba\n",
    "#print prueba2"
   ]
  },
  {
   "cell_type": "code",
   "execution_count": null,
   "metadata": {
    "collapsed": true
   },
   "outputs": [],
   "source": [
    "## https://stackoverflow.com/questions/45218284/convert-date-from-int64-to-datetime\n",
    "\n",
    "# beer['time2'] = pd.to_datetime((beer['time']), unit='ms')\n",
    "# beer['time2'].head(2)"
   ]
  },
  {
   "cell_type": "code",
   "execution_count": null,
   "metadata": {
    "collapsed": true
   },
   "outputs": [],
   "source": [
    "## Name: time3, dtype: datetime64[ns] probamos con ns en vez de ms-->milliseconds\n",
    "## same problem, the output date is wrong\n",
    "\n",
    "#beer['time2'] = pd.to_datetime((beer['time']), unit='ns')\n",
    "#beer['time2'].head(2)"
   ]
  },
  {
   "cell_type": "code",
   "execution_count": 7,
   "metadata": {
    "collapsed": true
   },
   "outputs": [],
   "source": [
    "import datetime\n",
    "def convert_stamp_to_date(stamp):\n",
    "    try:\n",
    "        d = datetime.datetime.utcfromtimestamp(stamp)\n",
    "    except:\n",
    "        d = datetime.datetime.utcfromtimestamp(0)\n",
    "    d = datetime.datetime(d.year, d.month, d.day)\n",
    "    return d"
   ]
  },
  {
   "cell_type": "code",
   "execution_count": 8,
   "metadata": {
    "collapsed": true
   },
   "outputs": [],
   "source": [
    "beer['time2'] = beer['time'].apply(lambda x: convert_stamp_to_date(x))"
   ]
  },
  {
   "cell_type": "code",
   "execution_count": 9,
   "metadata": {},
   "outputs": [
    {
     "data": {
      "text/plain": [
       "0   2009-02-16\n",
       "1   2009-03-01\n",
       "2   2009-03-01\n",
       "3   2009-02-15\n",
       "4   2010-12-30\n",
       "Name: time2, dtype: datetime64[ns]"
      ]
     },
     "execution_count": 9,
     "metadata": {},
     "output_type": "execute_result"
    }
   ],
   "source": [
    "beer['time2'].head() "
   ]
  },
  {
   "cell_type": "code",
   "execution_count": 11,
   "metadata": {
    "scrolled": false
   },
   "outputs": [
    {
     "data": {
      "text/html": [
       "<div>\n",
       "<table border=\"1\" class=\"dataframe\">\n",
       "  <thead>\n",
       "    <tr style=\"text-align: right;\">\n",
       "      <th></th>\n",
       "      <th>Unnamed: 0</th>\n",
       "      <th>names</th>\n",
       "      <th>Id</th>\n",
       "      <th>brewerId</th>\n",
       "      <th>ABV</th>\n",
       "      <th>style</th>\n",
       "      <th>appearance</th>\n",
       "      <th>aroma</th>\n",
       "      <th>palate</th>\n",
       "      <th>taste</th>\n",
       "      <th>overall</th>\n",
       "      <th>time</th>\n",
       "      <th>profile_name</th>\n",
       "      <th>time2</th>\n",
       "      <th>day</th>\n",
       "      <th>month</th>\n",
       "      <th>year</th>\n",
       "    </tr>\n",
       "  </thead>\n",
       "  <tbody>\n",
       "    <tr>\n",
       "      <th>0</th>\n",
       "      <td>0</td>\n",
       "      <td>Sausa Weizen</td>\n",
       "      <td>47986</td>\n",
       "      <td>10325</td>\n",
       "      <td>5.00</td>\n",
       "      <td>Hefeweizen</td>\n",
       "      <td>2.5</td>\n",
       "      <td>2.0</td>\n",
       "      <td>1.5</td>\n",
       "      <td>1.5</td>\n",
       "      <td>1.5</td>\n",
       "      <td>1234817823</td>\n",
       "      <td>stcules</td>\n",
       "      <td>2009-02-16</td>\n",
       "      <td>16</td>\n",
       "      <td>2</td>\n",
       "      <td>2009</td>\n",
       "    </tr>\n",
       "    <tr>\n",
       "      <th>1</th>\n",
       "      <td>1</td>\n",
       "      <td>Red Moon</td>\n",
       "      <td>48213</td>\n",
       "      <td>10325</td>\n",
       "      <td>6.20</td>\n",
       "      <td>English Strong Ale</td>\n",
       "      <td>3.0</td>\n",
       "      <td>2.5</td>\n",
       "      <td>3.0</td>\n",
       "      <td>3.0</td>\n",
       "      <td>3.0</td>\n",
       "      <td>1235915097</td>\n",
       "      <td>stcules</td>\n",
       "      <td>2009-03-01</td>\n",
       "      <td>1</td>\n",
       "      <td>3</td>\n",
       "      <td>2009</td>\n",
       "    </tr>\n",
       "    <tr>\n",
       "      <th>2</th>\n",
       "      <td>2</td>\n",
       "      <td>Black Horse Black Beer</td>\n",
       "      <td>48215</td>\n",
       "      <td>10325</td>\n",
       "      <td>6.50</td>\n",
       "      <td>Foreign / Export Stout</td>\n",
       "      <td>3.0</td>\n",
       "      <td>2.5</td>\n",
       "      <td>3.0</td>\n",
       "      <td>3.0</td>\n",
       "      <td>3.0</td>\n",
       "      <td>1235916604</td>\n",
       "      <td>stcules</td>\n",
       "      <td>2009-03-01</td>\n",
       "      <td>1</td>\n",
       "      <td>3</td>\n",
       "      <td>2009</td>\n",
       "    </tr>\n",
       "    <tr>\n",
       "      <th>3</th>\n",
       "      <td>3</td>\n",
       "      <td>Sausa Pils</td>\n",
       "      <td>47969</td>\n",
       "      <td>10325</td>\n",
       "      <td>5.00</td>\n",
       "      <td>German Pilsener</td>\n",
       "      <td>3.5</td>\n",
       "      <td>3.0</td>\n",
       "      <td>2.5</td>\n",
       "      <td>3.0</td>\n",
       "      <td>3.0</td>\n",
       "      <td>1234725145</td>\n",
       "      <td>stcules</td>\n",
       "      <td>2009-02-15</td>\n",
       "      <td>15</td>\n",
       "      <td>2</td>\n",
       "      <td>2009</td>\n",
       "    </tr>\n",
       "    <tr>\n",
       "      <th>4</th>\n",
       "      <td>4</td>\n",
       "      <td>Cauldron DIPA</td>\n",
       "      <td>64883</td>\n",
       "      <td>1075</td>\n",
       "      <td>7.70</td>\n",
       "      <td>American Double / Imperial IPA</td>\n",
       "      <td>4.0</td>\n",
       "      <td>4.5</td>\n",
       "      <td>4.0</td>\n",
       "      <td>4.5</td>\n",
       "      <td>4.0</td>\n",
       "      <td>1293735206</td>\n",
       "      <td>johnmichaelsen</td>\n",
       "      <td>2010-12-30</td>\n",
       "      <td>30</td>\n",
       "      <td>12</td>\n",
       "      <td>2010</td>\n",
       "    </tr>\n",
       "  </tbody>\n",
       "</table>\n",
       "</div>"
      ],
      "text/plain": [
       "   Unnamed: 0                    names     Id  brewerId    ABV  \\\n",
       "0           0             Sausa Weizen  47986     10325   5.00   \n",
       "1           1                 Red Moon  48213     10325   6.20   \n",
       "2           2   Black Horse Black Beer  48215     10325   6.50   \n",
       "3           3               Sausa Pils  47969     10325   5.00   \n",
       "4           4            Cauldron DIPA  64883      1075   7.70   \n",
       "\n",
       "                             style  appearance  aroma  palate  taste  overall  \\\n",
       "0                       Hefeweizen         2.5    2.0     1.5    1.5      1.5   \n",
       "1               English Strong Ale         3.0    2.5     3.0    3.0      3.0   \n",
       "2           Foreign / Export Stout         3.0    2.5     3.0    3.0      3.0   \n",
       "3                  German Pilsener         3.5    3.0     2.5    3.0      3.0   \n",
       "4   American Double / Imperial IPA         4.0    4.5     4.0    4.5      4.0   \n",
       "\n",
       "         time     profile_name      time2  day  month  year  \n",
       "0  1234817823          stcules 2009-02-16   16      2  2009  \n",
       "1  1235915097          stcules 2009-03-01    1      3  2009  \n",
       "2  1235916604          stcules 2009-03-01    1      3  2009  \n",
       "3  1234725145          stcules 2009-02-15   15      2  2009  \n",
       "4  1293735206   johnmichaelsen 2010-12-30   30     12  2010  "
      ]
     },
     "execution_count": 11,
     "metadata": {},
     "output_type": "execute_result"
    }
   ],
   "source": [
    "beer.head()"
   ]
  },
  {
   "cell_type": "code",
   "execution_count": 10,
   "metadata": {
    "collapsed": true
   },
   "outputs": [],
   "source": [
    "## extract the year, month, day\n",
    "\n",
    "beer[\"day\"] = beer['time2'].map(lambda x: x.day)\n",
    "beer[\"month\"] = beer['time2'].map(lambda x: x.month)\n",
    "beer[\"year\"] = beer['time2'].map(lambda x: x.year)"
   ]
  },
  {
   "cell_type": "code",
   "execution_count": 12,
   "metadata": {},
   "outputs": [
    {
     "data": {
      "text/html": [
       "<div>\n",
       "<table border=\"1\" class=\"dataframe\">\n",
       "  <thead>\n",
       "    <tr style=\"text-align: right;\">\n",
       "      <th></th>\n",
       "      <th>Unnamed: 0</th>\n",
       "      <th>names</th>\n",
       "      <th>Id</th>\n",
       "      <th>brewerId</th>\n",
       "      <th>ABV</th>\n",
       "      <th>style</th>\n",
       "      <th>appearance</th>\n",
       "      <th>aroma</th>\n",
       "      <th>palate</th>\n",
       "      <th>taste</th>\n",
       "      <th>overall</th>\n",
       "      <th>time</th>\n",
       "      <th>profile_name</th>\n",
       "      <th>time2</th>\n",
       "      <th>day</th>\n",
       "      <th>month</th>\n",
       "      <th>year</th>\n",
       "    </tr>\n",
       "  </thead>\n",
       "  <tbody>\n",
       "    <tr>\n",
       "      <th>0</th>\n",
       "      <td>0</td>\n",
       "      <td>Sausa Weizen</td>\n",
       "      <td>47986</td>\n",
       "      <td>10325</td>\n",
       "      <td>5.00</td>\n",
       "      <td>Hefeweizen</td>\n",
       "      <td>2.5</td>\n",
       "      <td>2.0</td>\n",
       "      <td>1.5</td>\n",
       "      <td>1.5</td>\n",
       "      <td>1.5</td>\n",
       "      <td>1234817823</td>\n",
       "      <td>stcules</td>\n",
       "      <td>2009-02-16</td>\n",
       "      <td>16</td>\n",
       "      <td>2</td>\n",
       "      <td>2009</td>\n",
       "    </tr>\n",
       "    <tr>\n",
       "      <th>1</th>\n",
       "      <td>1</td>\n",
       "      <td>Red Moon</td>\n",
       "      <td>48213</td>\n",
       "      <td>10325</td>\n",
       "      <td>6.20</td>\n",
       "      <td>English Strong Ale</td>\n",
       "      <td>3.0</td>\n",
       "      <td>2.5</td>\n",
       "      <td>3.0</td>\n",
       "      <td>3.0</td>\n",
       "      <td>3.0</td>\n",
       "      <td>1235915097</td>\n",
       "      <td>stcules</td>\n",
       "      <td>2009-03-01</td>\n",
       "      <td>1</td>\n",
       "      <td>3</td>\n",
       "      <td>2009</td>\n",
       "    </tr>\n",
       "    <tr>\n",
       "      <th>2</th>\n",
       "      <td>2</td>\n",
       "      <td>Black Horse Black Beer</td>\n",
       "      <td>48215</td>\n",
       "      <td>10325</td>\n",
       "      <td>6.50</td>\n",
       "      <td>Foreign / Export Stout</td>\n",
       "      <td>3.0</td>\n",
       "      <td>2.5</td>\n",
       "      <td>3.0</td>\n",
       "      <td>3.0</td>\n",
       "      <td>3.0</td>\n",
       "      <td>1235916604</td>\n",
       "      <td>stcules</td>\n",
       "      <td>2009-03-01</td>\n",
       "      <td>1</td>\n",
       "      <td>3</td>\n",
       "      <td>2009</td>\n",
       "    </tr>\n",
       "    <tr>\n",
       "      <th>3</th>\n",
       "      <td>3</td>\n",
       "      <td>Sausa Pils</td>\n",
       "      <td>47969</td>\n",
       "      <td>10325</td>\n",
       "      <td>5.00</td>\n",
       "      <td>German Pilsener</td>\n",
       "      <td>3.5</td>\n",
       "      <td>3.0</td>\n",
       "      <td>2.5</td>\n",
       "      <td>3.0</td>\n",
       "      <td>3.0</td>\n",
       "      <td>1234725145</td>\n",
       "      <td>stcules</td>\n",
       "      <td>2009-02-15</td>\n",
       "      <td>15</td>\n",
       "      <td>2</td>\n",
       "      <td>2009</td>\n",
       "    </tr>\n",
       "    <tr>\n",
       "      <th>4</th>\n",
       "      <td>4</td>\n",
       "      <td>Cauldron DIPA</td>\n",
       "      <td>64883</td>\n",
       "      <td>1075</td>\n",
       "      <td>7.70</td>\n",
       "      <td>American Double / Imperial IPA</td>\n",
       "      <td>4.0</td>\n",
       "      <td>4.5</td>\n",
       "      <td>4.0</td>\n",
       "      <td>4.5</td>\n",
       "      <td>4.0</td>\n",
       "      <td>1293735206</td>\n",
       "      <td>johnmichaelsen</td>\n",
       "      <td>2010-12-30</td>\n",
       "      <td>30</td>\n",
       "      <td>12</td>\n",
       "      <td>2010</td>\n",
       "    </tr>\n",
       "  </tbody>\n",
       "</table>\n",
       "</div>"
      ],
      "text/plain": [
       "   Unnamed: 0                    names     Id  brewerId    ABV  \\\n",
       "0           0             Sausa Weizen  47986     10325   5.00   \n",
       "1           1                 Red Moon  48213     10325   6.20   \n",
       "2           2   Black Horse Black Beer  48215     10325   6.50   \n",
       "3           3               Sausa Pils  47969     10325   5.00   \n",
       "4           4            Cauldron DIPA  64883      1075   7.70   \n",
       "\n",
       "                             style  appearance  aroma  palate  taste  overall  \\\n",
       "0                       Hefeweizen         2.5    2.0     1.5    1.5      1.5   \n",
       "1               English Strong Ale         3.0    2.5     3.0    3.0      3.0   \n",
       "2           Foreign / Export Stout         3.0    2.5     3.0    3.0      3.0   \n",
       "3                  German Pilsener         3.5    3.0     2.5    3.0      3.0   \n",
       "4   American Double / Imperial IPA         4.0    4.5     4.0    4.5      4.0   \n",
       "\n",
       "         time     profile_name      time2  day  month  year  \n",
       "0  1234817823          stcules 2009-02-16   16      2  2009  \n",
       "1  1235915097          stcules 2009-03-01    1      3  2009  \n",
       "2  1235916604          stcules 2009-03-01    1      3  2009  \n",
       "3  1234725145          stcules 2009-02-15   15      2  2009  \n",
       "4  1293735206   johnmichaelsen 2010-12-30   30     12  2010  "
      ]
     },
     "execution_count": 12,
     "metadata": {},
     "output_type": "execute_result"
    }
   ],
   "source": [
    "beer.head()"
   ]
  },
  {
   "cell_type": "markdown",
   "metadata": {},
   "source": [
    "# Missing values"
   ]
  },
  {
   "cell_type": "code",
   "execution_count": 13,
   "metadata": {},
   "outputs": [
    {
     "data": {
      "text/plain": [
       "Unnamed: 0      0\n",
       "names           0\n",
       "Id              0\n",
       "brewerId        0\n",
       "ABV             0\n",
       "style           0\n",
       "appearance      0\n",
       "aroma           0\n",
       "palate          0\n",
       "taste           0\n",
       "overall         0\n",
       "time            0\n",
       "profile_name    0\n",
       "time2           0\n",
       "day             0\n",
       "month           0\n",
       "year            0\n",
       "dtype: int64"
      ]
     },
     "execution_count": 13,
     "metadata": {},
     "output_type": "execute_result"
    }
   ],
   "source": [
    "beer.isnull().sum()"
   ]
  },
  {
   "cell_type": "code",
   "execution_count": 14,
   "metadata": {
    "scrolled": true
   },
   "outputs": [
    {
     "data": {
      "text/plain": [
       "Index([], dtype='object')"
      ]
     },
     "execution_count": 14,
     "metadata": {},
     "output_type": "execute_result"
    }
   ],
   "source": [
    "beer.columns[beer.isnull().any()]  ## .tolist() is there any column with missing values?"
   ]
  },
  {
   "cell_type": "code",
   "execution_count": 15,
   "metadata": {},
   "outputs": [
    {
     "data": {
      "text/plain": [
       "0"
      ]
     },
     "execution_count": 15,
     "metadata": {},
     "output_type": "execute_result"
    }
   ],
   "source": [
    "beer.ABV.isnull().sum()  ## Alcohol By Volume: it something that we can re coded as 99. that is a easy identifiable number"
   ]
  },
  {
   "cell_type": "code",
   "execution_count": null,
   "metadata": {
    "collapsed": true
   },
   "outputs": [],
   "source": [
    "# replace with 99 those missing or NaN values from the ABV column\n",
    "beer.ABV=beer.ABV.fillna(value=99)"
   ]
  },
  {
   "cell_type": "code",
   "execution_count": null,
   "metadata": {
    "scrolled": true
   },
   "outputs": [],
   "source": [
    "beer.ABV.isnull().sum()"
   ]
  },
  {
   "cell_type": "code",
   "execution_count": null,
   "metadata": {},
   "outputs": [],
   "source": [
    "beer.profile_name.isnull().sum() ## We should identify the rows and delete them, since if we do not know which consumer it is, the associated data to that rows, are not useful for our algoritmo"
   ]
  },
  {
   "cell_type": "code",
   "execution_count": null,
   "metadata": {
    "collapsed": true
   },
   "outputs": [],
   "source": [
    "index_na=beer.profile_name.index[beer.profile_name.isnull()]"
   ]
  },
  {
   "cell_type": "code",
   "execution_count": null,
   "metadata": {},
   "outputs": [],
   "source": [
    "index_na"
   ]
  },
  {
   "cell_type": "code",
   "execution_count": null,
   "metadata": {
    "collapsed": true
   },
   "outputs": [],
   "source": [
    "beer=beer.dropna(axis=0)"
   ]
  },
  {
   "cell_type": "code",
   "execution_count": null,
   "metadata": {},
   "outputs": [],
   "source": [
    "beer.profile_name.isnull().sum()"
   ]
  },
  {
   "cell_type": "markdown",
   "metadata": {},
   "source": [
    "## Some statistics"
   ]
  },
  {
   "cell_type": "code",
   "execution_count": null,
   "metadata": {},
   "outputs": [],
   "source": [
    "# total customers\n",
    "customers=beer['profile_name'].nunique()\n",
    "customers"
   ]
  },
  {
   "cell_type": "code",
   "execution_count": null,
   "metadata": {
    "scrolled": true
   },
   "outputs": [],
   "source": [
    "# total beers by style\n",
    "beer_style=beer['style'].nunique()\n",
    "beer_style"
   ]
  },
  {
   "cell_type": "code",
   "execution_count": null,
   "metadata": {},
   "outputs": [],
   "source": [
    "# total beers by Id\n",
    "beer_Id=beer['Id'].nunique()\n",
    "beer_Id"
   ]
  },
  {
   "cell_type": "code",
   "execution_count": null,
   "metadata": {},
   "outputs": [],
   "source": [
    "# total beers by brewerId\n",
    "beer_brewerId=beer['brewerId'].nunique()\n",
    "beer_brewerId"
   ]
  },
  {
   "cell_type": "code",
   "execution_count": null,
   "metadata": {},
   "outputs": [],
   "source": [
    "# total beers by names\n",
    "beer_name=beer['names'].nunique()\n",
    "beer_name"
   ]
  },
  {
   "cell_type": "markdown",
   "metadata": {},
   "source": [
    "## Weird things to think about"
   ]
  },
  {
   "cell_type": "markdown",
   "metadata": {},
   "source": [
    "### As we have seen, there are 56845 names of beers and 66036 Ids... so there must be an explanation for those names having more than one Id"
   ]
  },
  {
   "cell_type": "code",
   "execution_count": null,
   "metadata": {
    "scrolled": false
   },
   "outputs": [],
   "source": [
    "brand_by_name=beer.groupby('names')['Id'].nunique()\n",
    "brand_by_name.sort_values(ascending = False).head(10)"
   ]
  },
  {
   "cell_type": "code",
   "execution_count": null,
   "metadata": {},
   "outputs": [],
   "source": [
    "## the beer called Oktoberfest has 5 different styles\n",
    "brand_by_name2=beer.groupby(['names']).get_group('Oktoberfest')['style'].nunique()\n",
    "brand_by_name2"
   ]
  },
  {
   "cell_type": "markdown",
   "metadata": {},
   "source": [
    "### Name of the beer == Oktoberfest ??"
   ]
  },
  {
   "cell_type": "code",
   "execution_count": null,
   "metadata": {
    "collapsed": true
   },
   "outputs": [],
   "source": [
    "brand_by_name2=beer.groupby(['names']).get_group('Oktoberfest')\n",
    "brand_by_name2"
   ]
  },
  {
   "cell_type": "markdown",
   "metadata": {},
   "source": [
    "### Märzen / Oktoberfest has 194 Ids differentes, Looking at the data, \n",
    "### it could be that the Id changes within the same beer name and style attending to the ABV variable"
   ]
  },
  {
   "cell_type": "code",
   "execution_count": null,
   "metadata": {
    "scrolled": true
   },
   "outputs": [],
   "source": [
    "brand_by_name22=brand_by_name2.groupby(['style'])['Id'].nunique()\n",
    "brand_by_name22"
   ]
  },
  {
   "cell_type": "code",
   "execution_count": null,
   "metadata": {},
   "outputs": [],
   "source": [
    "brand_by_name4=brand_by_name2.groupby(['style','ABV'])['Id'].nunique()\n",
    "brand_by_name4"
   ]
  },
  {
   "cell_type": "markdown",
   "metadata": {},
   "source": [
    "### TODO more checks"
   ]
  },
  {
   "cell_type": "markdown",
   "metadata": {},
   "source": [
    "## Another statistics"
   ]
  },
  {
   "cell_type": "code",
   "execution_count": null,
   "metadata": {},
   "outputs": [],
   "source": [
    "# Num of beers (brand/names) broup by style\n",
    "brand_by_style=beer.groupby('style')['names'].nunique()\n",
    "brand_by_style.sort_values(ascending = False).head(10)"
   ]
  },
  {
   "cell_type": "code",
   "execution_count": null,
   "metadata": {
    "scrolled": true
   },
   "outputs": [],
   "source": [
    "brand_by_style2=beer.groupby('style').get_group('American IPA')['names'].nunique()\n",
    "brand_by_style2"
   ]
  },
  {
   "cell_type": "code",
   "execution_count": null,
   "metadata": {},
   "outputs": [],
   "source": [
    "prueba=beer.groupby('style').get_group('American IPA')\n",
    "type(prueba)\n",
    "prueba2=prueba.groupby('names')['Id'].nunique()\n",
    "prueba2.sort_values(ascending = False).head(10)"
   ]
  },
  {
   "cell_type": "code",
   "execution_count": null,
   "metadata": {
    "scrolled": false
   },
   "outputs": [],
   "source": [
    "# Beers most rated by style\n",
    "most_rated_style=beer.groupby('style')['profile_name'].count()\n",
    "most_rated_style.sort_values(ascending = False).head(10)"
   ]
  },
  {
   "cell_type": "code",
   "execution_count": null,
   "metadata": {
    "scrolled": true
   },
   "outputs": [],
   "source": [
    "# Customer preferences \n",
    "customerPreferences=beer.groupby('profile_name')['overall'].agg(['min', 'max','count'])\n",
    "customerPreferences\n",
    "# max =best rated, min = worst rated, count= num of beers rated by each customer\n",
    "customerPreferences.sort(['count'], ascending=False)"
   ]
  },
  {
   "cell_type": "code",
   "execution_count": null,
   "metadata": {},
   "outputs": [],
   "source": [
    "# total beers by name\n",
    "beer_names=beer['names'].nunique()\n",
    "beer_names"
   ]
  },
  {
   "cell_type": "code",
   "execution_count": null,
   "metadata": {},
   "outputs": [],
   "source": [
    "beer_Id=beer['Id'].nunique()\n",
    "beer_Id"
   ]
  },
  {
   "cell_type": "code",
   "execution_count": null,
   "metadata": {
    "scrolled": true
   },
   "outputs": [],
   "source": [
    "# Customers that have rated more beers (breaking down by year and month)\n",
    "beer_by_customer=beer.groupby(['profile_name', 'year', 'month'])['names'].count()\n",
    "beer_by_customer.sort_values(ascending = False).head(10)"
   ]
  },
  {
   "cell_type": "code",
   "execution_count": null,
   "metadata": {
    "collapsed": true,
    "scrolled": true
   },
   "outputs": [],
   "source": [
    "# Customers that have rated more beers (breaking down by year)\n",
    "beer_by_customer2=beer.groupby(['profile_name', 'year'])['names'].count()"
   ]
  },
  {
   "cell_type": "code",
   "execution_count": null,
   "metadata": {},
   "outputs": [],
   "source": [
    "# Customers that have rated more beers (total)\n",
    "beer_by_customer3=beer.groupby(['profile_name'])['names'].count()\n",
    "beer_by_customer3.sort_values(ascending = False).head(10)"
   ]
  },
  {
   "cell_type": "code",
   "execution_count": null,
   "metadata": {},
   "outputs": [],
   "source": [
    "beer_by_customer3.sort_values(ascending = False).tail(10)"
   ]
  },
  {
   "cell_type": "code",
   "execution_count": null,
   "metadata": {
    "scrolled": true
   },
   "outputs": [],
   "source": [
    "# Beers best and worst rated \n",
    "rated_beers=beer.groupby('style')['overall'].agg(['min', 'max','mean', 'count'])\n",
    "rated_beers"
   ]
  },
  {
   "cell_type": "code",
   "execution_count": null,
   "metadata": {},
   "outputs": [],
   "source": [
    "rated_beers2=beer.groupby(['style'])['overall'].mean()\n",
    "rated_beers2.sort_values(ascending = False).head(10)"
   ]
  },
  {
   "cell_type": "code",
   "execution_count": null,
   "metadata": {},
   "outputs": [],
   "source": [
    "rated_beers2=beer.groupby(['style'])['overall'].mean()\n",
    "rated_beers2.sort_values(ascending = False).tail(10)"
   ]
  },
  {
   "cell_type": "markdown",
   "metadata": {},
   "source": [
    "## IPA and I.P.A. ??"
   ]
  },
  {
   "cell_type": "code",
   "execution_count": null,
   "metadata": {
    "collapsed": true
   },
   "outputs": [],
   "source": [
    "##there are both "
   ]
  },
  {
   "cell_type": "code",
   "execution_count": null,
   "metadata": {
    "collapsed": true
   },
   "outputs": [],
   "source": []
  }
 ],
 "metadata": {
  "kernelspec": {
   "display_name": "Python 2",
   "language": "python",
   "name": "python2"
  },
  "language_info": {
   "codemirror_mode": {
    "name": "ipython",
    "version": 2
   },
   "file_extension": ".py",
   "mimetype": "text/x-python",
   "name": "python",
   "nbconvert_exporter": "python",
   "pygments_lexer": "ipython2",
   "version": "2.7.13"
  }
 },
 "nbformat": 4,
 "nbformat_minor": 2
}
