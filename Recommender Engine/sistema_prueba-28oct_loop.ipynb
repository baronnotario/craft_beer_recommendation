{
 "cells": [
  {
   "cell_type": "code",
   "execution_count": 1,
   "metadata": {
    "collapsed": true
   },
   "outputs": [],
   "source": [
    "%matplotlib inline\n",
    "import matplotlib.pyplot as plt\n",
    "import numpy as np\n",
    "import pandas as pd"
   ]
  },
  {
   "cell_type": "code",
   "execution_count": 2,
   "metadata": {
    "collapsed": true
   },
   "outputs": [],
   "source": [
    "df = pd.read_csv ('beer_prueba1.csv')\n"
   ]
  },
  {
   "cell_type": "code",
   "execution_count": 3,
   "metadata": {
    "scrolled": false
   },
   "outputs": [
    {
     "data": {
      "text/html": [
       "<div>\n",
       "<style>\n",
       "    .dataframe thead tr:only-child th {\n",
       "        text-align: right;\n",
       "    }\n",
       "\n",
       "    .dataframe thead th {\n",
       "        text-align: left;\n",
       "    }\n",
       "\n",
       "    .dataframe tbody tr th {\n",
       "        vertical-align: top;\n",
       "    }\n",
       "</style>\n",
       "<table border=\"1\" class=\"dataframe\">\n",
       "  <thead>\n",
       "    <tr style=\"text-align: right;\">\n",
       "      <th></th>\n",
       "      <th>Unnamed: 0</th>\n",
       "      <th>profile_name</th>\n",
       "      <th>Unnamed: 0.1</th>\n",
       "      <th>Unnamed: 0.1.1</th>\n",
       "      <th>Unnamed: 0.1.1</th>\n",
       "      <th>names</th>\n",
       "      <th>Id</th>\n",
       "      <th>brewerId</th>\n",
       "      <th>ABV</th>\n",
       "      <th>style</th>\n",
       "      <th>...</th>\n",
       "      <th>aroma</th>\n",
       "      <th>palate</th>\n",
       "      <th>taste</th>\n",
       "      <th>overall</th>\n",
       "      <th>time</th>\n",
       "      <th>text</th>\n",
       "      <th>time2</th>\n",
       "      <th>day</th>\n",
       "      <th>month</th>\n",
       "      <th>year</th>\n",
       "    </tr>\n",
       "  </thead>\n",
       "  <tbody>\n",
       "    <tr>\n",
       "      <th>0</th>\n",
       "      <td>0</td>\n",
       "      <td>007</td>\n",
       "      <td>985797</td>\n",
       "      <td>985797</td>\n",
       "      <td>985797</td>\n",
       "      <td>Fraoch Heather Ale</td>\n",
       "      <td>245</td>\n",
       "      <td>12142</td>\n",
       "      <td>5.0</td>\n",
       "      <td>Scottish Gruit / Ancient Herbed Ale</td>\n",
       "      <td>...</td>\n",
       "      <td>2.5</td>\n",
       "      <td>3.5</td>\n",
       "      <td>4.0</td>\n",
       "      <td>4.5</td>\n",
       "      <td>1220542724</td>\n",
       "      <td>\" First tried this as part of a mix case sever...</td>\n",
       "      <td>2008-09-04</td>\n",
       "      <td>4</td>\n",
       "      <td>9</td>\n",
       "      <td>2008</td>\n",
       "    </tr>\n",
       "    <tr>\n",
       "      <th>1</th>\n",
       "      <td>1</td>\n",
       "      <td>007</td>\n",
       "      <td>1539730</td>\n",
       "      <td>1539730</td>\n",
       "      <td>1539730</td>\n",
       "      <td>Saison Du BUFF</td>\n",
       "      <td>61351</td>\n",
       "      <td>345</td>\n",
       "      <td>6.8</td>\n",
       "      <td>Saison / Farmhouse Ale</td>\n",
       "      <td>...</td>\n",
       "      <td>3.5</td>\n",
       "      <td>4.5</td>\n",
       "      <td>3.5</td>\n",
       "      <td>4.5</td>\n",
       "      <td>1285854092</td>\n",
       "      <td>\" Poured from bottle into pint glass. \\t\\tHazy...</td>\n",
       "      <td>2010-09-30</td>\n",
       "      <td>30</td>\n",
       "      <td>9</td>\n",
       "      <td>2010</td>\n",
       "    </tr>\n",
       "    <tr>\n",
       "      <th>2</th>\n",
       "      <td>2</td>\n",
       "      <td>007</td>\n",
       "      <td>1544437</td>\n",
       "      <td>1544437</td>\n",
       "      <td>1544437</td>\n",
       "      <td>HopDevil Ale</td>\n",
       "      <td>1005</td>\n",
       "      <td>345</td>\n",
       "      <td>6.7</td>\n",
       "      <td>American IPA</td>\n",
       "      <td>...</td>\n",
       "      <td>5.0</td>\n",
       "      <td>4.5</td>\n",
       "      <td>5.0</td>\n",
       "      <td>5.0</td>\n",
       "      <td>1286891828</td>\n",
       "      <td>\" A- dark amber, lasting head, delicate epheme...</td>\n",
       "      <td>2010-10-12</td>\n",
       "      <td>12</td>\n",
       "      <td>10</td>\n",
       "      <td>2010</td>\n",
       "    </tr>\n",
       "    <tr>\n",
       "      <th>3</th>\n",
       "      <td>3</td>\n",
       "      <td>007</td>\n",
       "      <td>1545868</td>\n",
       "      <td>1545868</td>\n",
       "      <td>1545868</td>\n",
       "      <td>Helios  (V Saison)</td>\n",
       "      <td>47776</td>\n",
       "      <td>345</td>\n",
       "      <td>7.5</td>\n",
       "      <td>Saison / Farmhouse Ale</td>\n",
       "      <td>...</td>\n",
       "      <td>3.5</td>\n",
       "      <td>3.5</td>\n",
       "      <td>4.0</td>\n",
       "      <td>4.0</td>\n",
       "      <td>1291840287</td>\n",
       "      <td>\" A. Hazy orange, little head retention but ni...</td>\n",
       "      <td>2010-12-08</td>\n",
       "      <td>8</td>\n",
       "      <td>12</td>\n",
       "      <td>2010</td>\n",
       "    </tr>\n",
       "    <tr>\n",
       "      <th>4</th>\n",
       "      <td>4</td>\n",
       "      <td>007</td>\n",
       "      <td>1549890</td>\n",
       "      <td>1549890</td>\n",
       "      <td>1549890</td>\n",
       "      <td>Victory Lager</td>\n",
       "      <td>1002</td>\n",
       "      <td>345</td>\n",
       "      <td>4.8</td>\n",
       "      <td>Munich Helles Lager</td>\n",
       "      <td>...</td>\n",
       "      <td>3.5</td>\n",
       "      <td>3.5</td>\n",
       "      <td>4.0</td>\n",
       "      <td>4.0</td>\n",
       "      <td>1288210632</td>\n",
       "      <td>\" Victory Lager was my introduction to craft b...</td>\n",
       "      <td>2010-10-27</td>\n",
       "      <td>27</td>\n",
       "      <td>10</td>\n",
       "      <td>2010</td>\n",
       "    </tr>\n",
       "  </tbody>\n",
       "</table>\n",
       "<p>5 rows × 21 columns</p>\n",
       "</div>"
      ],
      "text/plain": [
       "   Unnamed: 0 profile_name  Unnamed: 0.1  Unnamed: 0.1.1  Unnamed: 0.1.1  \\\n",
       "0           0          007        985797          985797          985797   \n",
       "1           1          007       1539730         1539730         1539730   \n",
       "2           2          007       1544437         1544437         1544437   \n",
       "3           3          007       1545868         1545868         1545868   \n",
       "4           4          007       1549890         1549890         1549890   \n",
       "\n",
       "                 names     Id  brewerId  ABV  \\\n",
       "0   Fraoch Heather Ale    245     12142  5.0   \n",
       "1       Saison Du BUFF  61351       345  6.8   \n",
       "2         HopDevil Ale   1005       345  6.7   \n",
       "3   Helios  (V Saison)  47776       345  7.5   \n",
       "4        Victory Lager   1002       345  4.8   \n",
       "\n",
       "                                  style  ...   aroma  palate  taste  overall  \\\n",
       "0   Scottish Gruit / Ancient Herbed Ale  ...     2.5     3.5    4.0      4.5   \n",
       "1                Saison / Farmhouse Ale  ...     3.5     4.5    3.5      4.5   \n",
       "2                          American IPA  ...     5.0     4.5    5.0      5.0   \n",
       "3                Saison / Farmhouse Ale  ...     3.5     3.5    4.0      4.0   \n",
       "4                   Munich Helles Lager  ...     3.5     3.5    4.0      4.0   \n",
       "\n",
       "         time                                               text       time2  \\\n",
       "0  1220542724  \" First tried this as part of a mix case sever...  2008-09-04   \n",
       "1  1285854092  \" Poured from bottle into pint glass. \\t\\tHazy...  2010-09-30   \n",
       "2  1286891828  \" A- dark amber, lasting head, delicate epheme...  2010-10-12   \n",
       "3  1291840287  \" A. Hazy orange, little head retention but ni...  2010-12-08   \n",
       "4  1288210632  \" Victory Lager was my introduction to craft b...  2010-10-27   \n",
       "\n",
       "  day  month  year  \n",
       "0   4      9  2008  \n",
       "1  30      9  2010  \n",
       "2  12     10  2010  \n",
       "3   8     12  2010  \n",
       "4  27     10  2010  \n",
       "\n",
       "[5 rows x 21 columns]"
      ]
     },
     "execution_count": 3,
     "metadata": {},
     "output_type": "execute_result"
    }
   ],
   "source": [
    "df.head()"
   ]
  },
  {
   "cell_type": "code",
   "execution_count": null,
   "metadata": {
    "collapsed": true
   },
   "outputs": [],
   "source": []
  },
  {
   "cell_type": "code",
   "execution_count": 4,
   "metadata": {},
   "outputs": [
    {
     "data": {
      "text/html": [
       "<div>\n",
       "<style>\n",
       "    .dataframe thead tr:only-child th {\n",
       "        text-align: right;\n",
       "    }\n",
       "\n",
       "    .dataframe thead th {\n",
       "        text-align: left;\n",
       "    }\n",
       "\n",
       "    .dataframe tbody tr th {\n",
       "        vertical-align: top;\n",
       "    }\n",
       "</style>\n",
       "<table border=\"1\" class=\"dataframe\">\n",
       "  <thead>\n",
       "    <tr style=\"text-align: right;\">\n",
       "      <th></th>\n",
       "      <th>profile_name</th>\n",
       "      <th>names</th>\n",
       "      <th>Id</th>\n",
       "      <th>brewerId</th>\n",
       "      <th>ABV</th>\n",
       "      <th>style</th>\n",
       "      <th>appearance</th>\n",
       "      <th>aroma</th>\n",
       "      <th>palate</th>\n",
       "      <th>taste</th>\n",
       "      <th>overall</th>\n",
       "      <th>text</th>\n",
       "      <th>time2</th>\n",
       "      <th>day</th>\n",
       "      <th>month</th>\n",
       "      <th>year</th>\n",
       "    </tr>\n",
       "  </thead>\n",
       "  <tbody>\n",
       "    <tr>\n",
       "      <th>0</th>\n",
       "      <td>007</td>\n",
       "      <td>Fraoch Heather Ale</td>\n",
       "      <td>245</td>\n",
       "      <td>12142</td>\n",
       "      <td>5.0</td>\n",
       "      <td>Scottish Gruit / Ancient Herbed Ale</td>\n",
       "      <td>3.5</td>\n",
       "      <td>2.5</td>\n",
       "      <td>3.5</td>\n",
       "      <td>4.0</td>\n",
       "      <td>4.5</td>\n",
       "      <td>\" First tried this as part of a mix case sever...</td>\n",
       "      <td>2008-09-04</td>\n",
       "      <td>4</td>\n",
       "      <td>9</td>\n",
       "      <td>2008</td>\n",
       "    </tr>\n",
       "    <tr>\n",
       "      <th>1</th>\n",
       "      <td>007</td>\n",
       "      <td>Saison Du BUFF</td>\n",
       "      <td>61351</td>\n",
       "      <td>345</td>\n",
       "      <td>6.8</td>\n",
       "      <td>Saison / Farmhouse Ale</td>\n",
       "      <td>4.0</td>\n",
       "      <td>3.5</td>\n",
       "      <td>4.5</td>\n",
       "      <td>3.5</td>\n",
       "      <td>4.5</td>\n",
       "      <td>\" Poured from bottle into pint glass. \\t\\tHazy...</td>\n",
       "      <td>2010-09-30</td>\n",
       "      <td>30</td>\n",
       "      <td>9</td>\n",
       "      <td>2010</td>\n",
       "    </tr>\n",
       "    <tr>\n",
       "      <th>2</th>\n",
       "      <td>007</td>\n",
       "      <td>HopDevil Ale</td>\n",
       "      <td>1005</td>\n",
       "      <td>345</td>\n",
       "      <td>6.7</td>\n",
       "      <td>American IPA</td>\n",
       "      <td>4.5</td>\n",
       "      <td>5.0</td>\n",
       "      <td>4.5</td>\n",
       "      <td>5.0</td>\n",
       "      <td>5.0</td>\n",
       "      <td>\" A- dark amber, lasting head, delicate epheme...</td>\n",
       "      <td>2010-10-12</td>\n",
       "      <td>12</td>\n",
       "      <td>10</td>\n",
       "      <td>2010</td>\n",
       "    </tr>\n",
       "    <tr>\n",
       "      <th>3</th>\n",
       "      <td>007</td>\n",
       "      <td>Helios  (V Saison)</td>\n",
       "      <td>47776</td>\n",
       "      <td>345</td>\n",
       "      <td>7.5</td>\n",
       "      <td>Saison / Farmhouse Ale</td>\n",
       "      <td>4.0</td>\n",
       "      <td>3.5</td>\n",
       "      <td>3.5</td>\n",
       "      <td>4.0</td>\n",
       "      <td>4.0</td>\n",
       "      <td>\" A. Hazy orange, little head retention but ni...</td>\n",
       "      <td>2010-12-08</td>\n",
       "      <td>8</td>\n",
       "      <td>12</td>\n",
       "      <td>2010</td>\n",
       "    </tr>\n",
       "    <tr>\n",
       "      <th>4</th>\n",
       "      <td>007</td>\n",
       "      <td>Victory Lager</td>\n",
       "      <td>1002</td>\n",
       "      <td>345</td>\n",
       "      <td>4.8</td>\n",
       "      <td>Munich Helles Lager</td>\n",
       "      <td>3.0</td>\n",
       "      <td>3.5</td>\n",
       "      <td>3.5</td>\n",
       "      <td>4.0</td>\n",
       "      <td>4.0</td>\n",
       "      <td>\" Victory Lager was my introduction to craft b...</td>\n",
       "      <td>2010-10-27</td>\n",
       "      <td>27</td>\n",
       "      <td>10</td>\n",
       "      <td>2010</td>\n",
       "    </tr>\n",
       "  </tbody>\n",
       "</table>\n",
       "</div>"
      ],
      "text/plain": [
       "  profile_name                names     Id  brewerId  ABV  \\\n",
       "0          007   Fraoch Heather Ale    245     12142  5.0   \n",
       "1          007       Saison Du BUFF  61351       345  6.8   \n",
       "2          007         HopDevil Ale   1005       345  6.7   \n",
       "3          007   Helios  (V Saison)  47776       345  7.5   \n",
       "4          007        Victory Lager   1002       345  4.8   \n",
       "\n",
       "                                  style  appearance  aroma  palate  taste  \\\n",
       "0   Scottish Gruit / Ancient Herbed Ale         3.5    2.5     3.5    4.0   \n",
       "1                Saison / Farmhouse Ale         4.0    3.5     4.5    3.5   \n",
       "2                          American IPA         4.5    5.0     4.5    5.0   \n",
       "3                Saison / Farmhouse Ale         4.0    3.5     3.5    4.0   \n",
       "4                   Munich Helles Lager         3.0    3.5     3.5    4.0   \n",
       "\n",
       "   overall                                               text       time2  \\\n",
       "0      4.5  \" First tried this as part of a mix case sever...  2008-09-04   \n",
       "1      4.5  \" Poured from bottle into pint glass. \\t\\tHazy...  2010-09-30   \n",
       "2      5.0  \" A- dark amber, lasting head, delicate epheme...  2010-10-12   \n",
       "3      4.0  \" A. Hazy orange, little head retention but ni...  2010-12-08   \n",
       "4      4.0  \" Victory Lager was my introduction to craft b...  2010-10-27   \n",
       "\n",
       "   day  month  year  \n",
       "0    4      9  2008  \n",
       "1   30      9  2010  \n",
       "2   12     10  2010  \n",
       "3    8     12  2010  \n",
       "4   27     10  2010  "
      ]
     },
     "execution_count": 4,
     "metadata": {},
     "output_type": "execute_result"
    }
   ],
   "source": [
    "df = df.drop (df.columns[[0, 2, 3, 4, 15]], axis=1)\n",
    "df.head()"
   ]
  },
  {
   "cell_type": "code",
   "execution_count": 5,
   "metadata": {
    "collapsed": true
   },
   "outputs": [],
   "source": [
    "from sklearn import preprocessing"
   ]
  },
  {
   "cell_type": "code",
   "execution_count": 6,
   "metadata": {
    "collapsed": true
   },
   "outputs": [],
   "source": [
    "from sklearn.preprocessing import LabelEncoder"
   ]
  },
  {
   "cell_type": "code",
   "execution_count": 7,
   "metadata": {
    "collapsed": true
   },
   "outputs": [],
   "source": [
    "df['user_id'] = LabelEncoder().fit_transform(df.profile_name)"
   ]
  },
  {
   "cell_type": "markdown",
   "metadata": {
    "collapsed": true
   },
   "source": [
    "https://stackoverflow.com/questions/35869175/how-to-aggregate-the-values-of-a-dataframe-and-output-a-numpy-array-quickly"
   ]
  },
  {
   "cell_type": "code",
   "execution_count": 70,
   "metadata": {},
   "outputs": [
    {
     "data": {
      "text/html": [
       "<div>\n",
       "<style>\n",
       "    .dataframe thead tr:only-child th {\n",
       "        text-align: right;\n",
       "    }\n",
       "\n",
       "    .dataframe thead th {\n",
       "        text-align: left;\n",
       "    }\n",
       "\n",
       "    .dataframe tbody tr th {\n",
       "        vertical-align: top;\n",
       "    }\n",
       "</style>\n",
       "<table border=\"1\" class=\"dataframe\">\n",
       "  <thead>\n",
       "    <tr style=\"text-align: right;\">\n",
       "      <th></th>\n",
       "      <th>profile_name</th>\n",
       "      <th>names</th>\n",
       "      <th>Id</th>\n",
       "      <th>brewerId</th>\n",
       "      <th>ABV</th>\n",
       "      <th>style</th>\n",
       "      <th>appearance</th>\n",
       "      <th>aroma</th>\n",
       "      <th>palate</th>\n",
       "      <th>taste</th>\n",
       "      <th>overall</th>\n",
       "      <th>text</th>\n",
       "      <th>time2</th>\n",
       "      <th>day</th>\n",
       "      <th>month</th>\n",
       "      <th>year</th>\n",
       "      <th>user_id</th>\n",
       "    </tr>\n",
       "  </thead>\n",
       "  <tbody>\n",
       "    <tr>\n",
       "      <th>0</th>\n",
       "      <td>007</td>\n",
       "      <td>Fraoch Heather Ale</td>\n",
       "      <td>245</td>\n",
       "      <td>12142</td>\n",
       "      <td>5.0</td>\n",
       "      <td>Scottish Gruit / Ancient Herbed Ale</td>\n",
       "      <td>3.5</td>\n",
       "      <td>2.5</td>\n",
       "      <td>3.5</td>\n",
       "      <td>4.0</td>\n",
       "      <td>4.5</td>\n",
       "      <td>\" First tried this as part of a mix case sever...</td>\n",
       "      <td>2008-09-04</td>\n",
       "      <td>4</td>\n",
       "      <td>9</td>\n",
       "      <td>2008</td>\n",
       "      <td>0</td>\n",
       "    </tr>\n",
       "    <tr>\n",
       "      <th>1</th>\n",
       "      <td>007</td>\n",
       "      <td>Saison Du BUFF</td>\n",
       "      <td>61351</td>\n",
       "      <td>345</td>\n",
       "      <td>6.8</td>\n",
       "      <td>Saison / Farmhouse Ale</td>\n",
       "      <td>4.0</td>\n",
       "      <td>3.5</td>\n",
       "      <td>4.5</td>\n",
       "      <td>3.5</td>\n",
       "      <td>4.5</td>\n",
       "      <td>\" Poured from bottle into pint glass. \\t\\tHazy...</td>\n",
       "      <td>2010-09-30</td>\n",
       "      <td>30</td>\n",
       "      <td>9</td>\n",
       "      <td>2010</td>\n",
       "      <td>0</td>\n",
       "    </tr>\n",
       "    <tr>\n",
       "      <th>2</th>\n",
       "      <td>007</td>\n",
       "      <td>HopDevil Ale</td>\n",
       "      <td>1005</td>\n",
       "      <td>345</td>\n",
       "      <td>6.7</td>\n",
       "      <td>American IPA</td>\n",
       "      <td>4.5</td>\n",
       "      <td>5.0</td>\n",
       "      <td>4.5</td>\n",
       "      <td>5.0</td>\n",
       "      <td>5.0</td>\n",
       "      <td>\" A- dark amber, lasting head, delicate epheme...</td>\n",
       "      <td>2010-10-12</td>\n",
       "      <td>12</td>\n",
       "      <td>10</td>\n",
       "      <td>2010</td>\n",
       "      <td>0</td>\n",
       "    </tr>\n",
       "    <tr>\n",
       "      <th>3</th>\n",
       "      <td>007</td>\n",
       "      <td>Helios  (V Saison)</td>\n",
       "      <td>47776</td>\n",
       "      <td>345</td>\n",
       "      <td>7.5</td>\n",
       "      <td>Saison / Farmhouse Ale</td>\n",
       "      <td>4.0</td>\n",
       "      <td>3.5</td>\n",
       "      <td>3.5</td>\n",
       "      <td>4.0</td>\n",
       "      <td>4.0</td>\n",
       "      <td>\" A. Hazy orange, little head retention but ni...</td>\n",
       "      <td>2010-12-08</td>\n",
       "      <td>8</td>\n",
       "      <td>12</td>\n",
       "      <td>2010</td>\n",
       "      <td>0</td>\n",
       "    </tr>\n",
       "    <tr>\n",
       "      <th>4</th>\n",
       "      <td>007</td>\n",
       "      <td>Victory Lager</td>\n",
       "      <td>1002</td>\n",
       "      <td>345</td>\n",
       "      <td>4.8</td>\n",
       "      <td>Munich Helles Lager</td>\n",
       "      <td>3.0</td>\n",
       "      <td>3.5</td>\n",
       "      <td>3.5</td>\n",
       "      <td>4.0</td>\n",
       "      <td>4.0</td>\n",
       "      <td>\" Victory Lager was my introduction to craft b...</td>\n",
       "      <td>2010-10-27</td>\n",
       "      <td>27</td>\n",
       "      <td>10</td>\n",
       "      <td>2010</td>\n",
       "      <td>0</td>\n",
       "    </tr>\n",
       "    <tr>\n",
       "      <th>5</th>\n",
       "      <td>00766</td>\n",
       "      <td>Aphrodisiaque</td>\n",
       "      <td>10330</td>\n",
       "      <td>1141</td>\n",
       "      <td>6.5</td>\n",
       "      <td>American Stout</td>\n",
       "      <td>4.5</td>\n",
       "      <td>4.5</td>\n",
       "      <td>4.0</td>\n",
       "      <td>4.0</td>\n",
       "      <td>4.0</td>\n",
       "      <td>Poured cool but for small head. Nice tan head...</td>\n",
       "      <td>2011-10-23</td>\n",
       "      <td>23</td>\n",
       "      <td>10</td>\n",
       "      <td>2011</td>\n",
       "      <td>1</td>\n",
       "    </tr>\n",
       "    <tr>\n",
       "      <th>6</th>\n",
       "      <td>00766</td>\n",
       "      <td>Imperial Pumpkin Ale</td>\n",
       "      <td>25880</td>\n",
       "      <td>392</td>\n",
       "      <td>8.0</td>\n",
       "      <td>Pumpkin Ale</td>\n",
       "      <td>4.5</td>\n",
       "      <td>4.5</td>\n",
       "      <td>4.5</td>\n",
       "      <td>5.0</td>\n",
       "      <td>4.5</td>\n",
       "      <td>\" A Nice beer with subtle spicing. It is not t...</td>\n",
       "      <td>2011-10-11</td>\n",
       "      <td>11</td>\n",
       "      <td>10</td>\n",
       "      <td>2011</td>\n",
       "      <td>1</td>\n",
       "    </tr>\n",
       "    <tr>\n",
       "      <th>7</th>\n",
       "      <td>01001111</td>\n",
       "      <td>Lips Of Faith - Kick</td>\n",
       "      <td>71919</td>\n",
       "      <td>192</td>\n",
       "      <td>8.5</td>\n",
       "      <td>Fruit / Vegetable Beer</td>\n",
       "      <td>3.0</td>\n",
       "      <td>2.5</td>\n",
       "      <td>2.5</td>\n",
       "      <td>3.0</td>\n",
       "      <td>3.0</td>\n",
       "      <td>A, Pale amber.\\t\\tS,\" The smell is quite subt...</td>\n",
       "      <td>2012-01-02</td>\n",
       "      <td>2</td>\n",
       "      <td>1</td>\n",
       "      <td>2012</td>\n",
       "      <td>2</td>\n",
       "    </tr>\n",
       "    <tr>\n",
       "      <th>8</th>\n",
       "      <td>01001111</td>\n",
       "      <td>Reserve Wheat Ale</td>\n",
       "      <td>48084</td>\n",
       "      <td>13065</td>\n",
       "      <td>5.0</td>\n",
       "      <td>Berliner Weissbier</td>\n",
       "      <td>4.5</td>\n",
       "      <td>4.0</td>\n",
       "      <td>4.5</td>\n",
       "      <td>4.5</td>\n",
       "      <td>4.5</td>\n",
       "      <td>A,\" Golden straw, hazy white grape juice.\\t\\t...</td>\n",
       "      <td>2012-01-10</td>\n",
       "      <td>10</td>\n",
       "      <td>1</td>\n",
       "      <td>2012</td>\n",
       "      <td>2</td>\n",
       "    </tr>\n",
       "    <tr>\n",
       "      <th>9</th>\n",
       "      <td>01001111</td>\n",
       "      <td>CoCoNut Porter</td>\n",
       "      <td>37795</td>\n",
       "      <td>16057</td>\n",
       "      <td>6.0</td>\n",
       "      <td>American Porter</td>\n",
       "      <td>4.0</td>\n",
       "      <td>4.5</td>\n",
       "      <td>4.5</td>\n",
       "      <td>4.5</td>\n",
       "      <td>4.5</td>\n",
       "      <td>A,\" A deep, dark chocolate brown.\\t\\tS\", The ...</td>\n",
       "      <td>2011-12-28</td>\n",
       "      <td>28</td>\n",
       "      <td>12</td>\n",
       "      <td>2011</td>\n",
       "      <td>2</td>\n",
       "    </tr>\n",
       "  </tbody>\n",
       "</table>\n",
       "</div>"
      ],
      "text/plain": [
       "  profile_name                  names     Id  brewerId  ABV  \\\n",
       "0          007     Fraoch Heather Ale    245     12142  5.0   \n",
       "1          007         Saison Du BUFF  61351       345  6.8   \n",
       "2          007           HopDevil Ale   1005       345  6.7   \n",
       "3          007     Helios  (V Saison)  47776       345  7.5   \n",
       "4          007          Victory Lager   1002       345  4.8   \n",
       "5        00766          Aphrodisiaque  10330      1141  6.5   \n",
       "6        00766   Imperial Pumpkin Ale  25880       392  8.0   \n",
       "7     01001111   Lips Of Faith - Kick  71919       192  8.5   \n",
       "8     01001111      Reserve Wheat Ale  48084     13065  5.0   \n",
       "9     01001111         CoCoNut Porter  37795     16057  6.0   \n",
       "\n",
       "                                  style  appearance  aroma  palate  taste  \\\n",
       "0   Scottish Gruit / Ancient Herbed Ale         3.5    2.5     3.5    4.0   \n",
       "1                Saison / Farmhouse Ale         4.0    3.5     4.5    3.5   \n",
       "2                          American IPA         4.5    5.0     4.5    5.0   \n",
       "3                Saison / Farmhouse Ale         4.0    3.5     3.5    4.0   \n",
       "4                   Munich Helles Lager         3.0    3.5     3.5    4.0   \n",
       "5                        American Stout         4.5    4.5     4.0    4.0   \n",
       "6                           Pumpkin Ale         4.5    4.5     4.5    5.0   \n",
       "7                Fruit / Vegetable Beer         3.0    2.5     2.5    3.0   \n",
       "8                    Berliner Weissbier         4.5    4.0     4.5    4.5   \n",
       "9                       American Porter         4.0    4.5     4.5    4.5   \n",
       "\n",
       "   overall                                               text       time2  \\\n",
       "0      4.5  \" First tried this as part of a mix case sever...  2008-09-04   \n",
       "1      4.5  \" Poured from bottle into pint glass. \\t\\tHazy...  2010-09-30   \n",
       "2      5.0  \" A- dark amber, lasting head, delicate epheme...  2010-10-12   \n",
       "3      4.0  \" A. Hazy orange, little head retention but ni...  2010-12-08   \n",
       "4      4.0  \" Victory Lager was my introduction to craft b...  2010-10-27   \n",
       "5      4.0   Poured cool but for small head. Nice tan head...  2011-10-23   \n",
       "6      4.5  \" A Nice beer with subtle spicing. It is not t...  2011-10-11   \n",
       "7      3.0   A, Pale amber.\\t\\tS,\" The smell is quite subt...  2012-01-02   \n",
       "8      4.5   A,\" Golden straw, hazy white grape juice.\\t\\t...  2012-01-10   \n",
       "9      4.5   A,\" A deep, dark chocolate brown.\\t\\tS\", The ...  2011-12-28   \n",
       "\n",
       "   day  month  year  user_id  \n",
       "0    4      9  2008        0  \n",
       "1   30      9  2010        0  \n",
       "2   12     10  2010        0  \n",
       "3    8     12  2010        0  \n",
       "4   27     10  2010        0  \n",
       "5   23     10  2011        1  \n",
       "6   11     10  2011        1  \n",
       "7    2      1  2012        2  \n",
       "8   10      1  2012        2  \n",
       "9   28     12  2011        2  "
      ]
     },
     "execution_count": 70,
     "metadata": {},
     "output_type": "execute_result"
    }
   ],
   "source": [
    "df.head(10)"
   ]
  },
  {
   "cell_type": "code",
   "execution_count": 8,
   "metadata": {
    "collapsed": true
   },
   "outputs": [],
   "source": [
    "df_most = df[df.overall>=4.0]"
   ]
  },
  {
   "cell_type": "code",
   "execution_count": 9,
   "metadata": {},
   "outputs": [
    {
     "data": {
      "text/plain": [
       "(989514, 17)"
      ]
     },
     "execution_count": 9,
     "metadata": {},
     "output_type": "execute_result"
    }
   ],
   "source": [
    "df_most.shape"
   ]
  },
  {
   "cell_type": "code",
   "execution_count": 10,
   "metadata": {
    "collapsed": true
   },
   "outputs": [],
   "source": [
    "df_ratings = df_most[['user_id', 'Id', 'overall']].copy()"
   ]
  },
  {
   "cell_type": "code",
   "execution_count": 11,
   "metadata": {
    "scrolled": false
   },
   "outputs": [
    {
     "data": {
      "text/html": [
       "<div>\n",
       "<style>\n",
       "    .dataframe thead tr:only-child th {\n",
       "        text-align: right;\n",
       "    }\n",
       "\n",
       "    .dataframe thead th {\n",
       "        text-align: left;\n",
       "    }\n",
       "\n",
       "    .dataframe tbody tr th {\n",
       "        vertical-align: top;\n",
       "    }\n",
       "</style>\n",
       "<table border=\"1\" class=\"dataframe\">\n",
       "  <thead>\n",
       "    <tr style=\"text-align: right;\">\n",
       "      <th></th>\n",
       "      <th>user_id</th>\n",
       "      <th>Id</th>\n",
       "      <th>overall</th>\n",
       "    </tr>\n",
       "  </thead>\n",
       "  <tbody>\n",
       "    <tr>\n",
       "      <th>910680</th>\n",
       "      <td>16719</td>\n",
       "      <td>58380</td>\n",
       "      <td>4.0</td>\n",
       "    </tr>\n",
       "    <tr>\n",
       "      <th>355109</th>\n",
       "      <td>6315</td>\n",
       "      <td>27107</td>\n",
       "      <td>4.5</td>\n",
       "    </tr>\n",
       "    <tr>\n",
       "      <th>1235694</th>\n",
       "      <td>23869</td>\n",
       "      <td>20678</td>\n",
       "      <td>4.5</td>\n",
       "    </tr>\n",
       "    <tr>\n",
       "      <th>803612</th>\n",
       "      <td>14423</td>\n",
       "      <td>67480</td>\n",
       "      <td>4.5</td>\n",
       "    </tr>\n",
       "    <tr>\n",
       "      <th>331691</th>\n",
       "      <td>5930</td>\n",
       "      <td>695</td>\n",
       "      <td>4.0</td>\n",
       "    </tr>\n",
       "  </tbody>\n",
       "</table>\n",
       "</div>"
      ],
      "text/plain": [
       "         user_id     Id  overall\n",
       "910680     16719  58380      4.0\n",
       "355109      6315  27107      4.5\n",
       "1235694    23869  20678      4.5\n",
       "803612     14423  67480      4.5\n",
       "331691      5930    695      4.0"
      ]
     },
     "execution_count": 11,
     "metadata": {},
     "output_type": "execute_result"
    }
   ],
   "source": [
    "df_ratings.sample(5)"
   ]
  },
  {
   "cell_type": "code",
   "execution_count": 71,
   "metadata": {
    "collapsed": true
   },
   "outputs": [],
   "source": [
    "df_ratings.to_csv('ratings.csv')"
   ]
  },
  {
   "cell_type": "code",
   "execution_count": 77,
   "metadata": {
    "collapsed": true
   },
   "outputs": [],
   "source": [
    "df_days = df_most[['user_id', 'Id', 'day']].copy()"
   ]
  },
  {
   "cell_type": "code",
   "execution_count": 78,
   "metadata": {
    "collapsed": true
   },
   "outputs": [],
   "source": [
    "df_days.to_csv('days.csv')"
   ]
  },
  {
   "cell_type": "code",
   "execution_count": 12,
   "metadata": {},
   "outputs": [
    {
     "name": "stdout",
     "output_type": "stream",
     "text": [
      "There are 27717 users and 48936 Id's\n"
     ]
    }
   ],
   "source": [
    "users = df_ratings.user_id.unique().shape[0]\n",
    "items = df_ratings.Id.unique().shape[0]\n",
    "print(\"There are %s users and %s Id's\" %(users, items))"
   ]
  },
  {
   "cell_type": "code",
   "execution_count": 13,
   "metadata": {
    "scrolled": true
   },
   "outputs": [
    {
     "data": {
      "text/plain": [
       "array([[ 0.,  0.,  0., ...,  0.,  0.,  0.],\n",
       "       [ 0.,  0.,  0., ...,  0.,  0.,  0.],\n",
       "       [ 0.,  0.,  0., ...,  0.,  0.,  0.],\n",
       "       ..., \n",
       "       [ 0.,  0.,  0., ...,  0.,  0.,  0.],\n",
       "       [ 0.,  0.,  0., ...,  0.,  0.,  0.],\n",
       "       [ 0.,  0.,  0., ...,  0.,  0.,  0.]])"
      ]
     },
     "execution_count": 13,
     "metadata": {},
     "output_type": "execute_result"
    }
   ],
   "source": [
    "ratings = np.zeros((users,items))\n",
    "\n",
    "ratings"
   ]
  },
  {
   "cell_type": "code",
   "execution_count": 43,
   "metadata": {},
   "outputs": [
    {
     "data": {
      "text/plain": [
       "array([[  0.00000000e+00,   2.45000000e+02,   4.50000000e+00],\n",
       "       [  0.00000000e+00,   6.13510000e+04,   4.50000000e+00],\n",
       "       [  0.00000000e+00,   1.00500000e+03,   5.00000000e+00],\n",
       "       ..., \n",
       "       [  3.06720000e+04,   1.41000000e+02,   4.50000000e+00],\n",
       "       [  3.06720000e+04,   2.86870000e+04,   4.00000000e+00],\n",
       "       [  3.06730000e+04,   2.27000000e+03,   5.00000000e+00]])"
      ]
     },
     "execution_count": 43,
     "metadata": {},
     "output_type": "execute_result"
    }
   ],
   "source": [
    "array = df_ratings.values\n",
    "array"
   ]
  },
  {
   "cell_type": "code",
   "execution_count": 44,
   "metadata": {
    "collapsed": true
   },
   "outputs": [],
   "source": [
    "def fill(df_ratings):\n",
    "     for row in array:\n",
    "        ratings[row[0], row[1]] = df_ratings['overall']\n",
    "        return ratings"
   ]
  },
  {
   "cell_type": "code",
   "execution_count": 45,
   "metadata": {},
   "outputs": [
    {
     "ename": "IndexError",
     "evalue": "only integers, slices (`:`), ellipsis (`...`), numpy.newaxis (`None`) and integer or boolean arrays are valid indices",
     "output_type": "error",
     "traceback": [
      "\u001b[0;31m\u001b[0m",
      "\u001b[0;31mIndexError\u001b[0mTraceback (most recent call last)",
      "\u001b[0;32m<ipython-input-45-035282a4d39c>\u001b[0m in \u001b[0;36m<module>\u001b[0;34m()\u001b[0m\n\u001b[0;32m----> 1\u001b[0;31m \u001b[0mfill\u001b[0m\u001b[0;34m(\u001b[0m\u001b[0mdf_ratings\u001b[0m\u001b[0;34m)\u001b[0m\u001b[0;34m\u001b[0m\u001b[0m\n\u001b[0m",
      "\u001b[0;32m<ipython-input-44-78838d613fc5>\u001b[0m in \u001b[0;36mfill\u001b[0;34m(df_ratings)\u001b[0m\n\u001b[1;32m      1\u001b[0m \u001b[0;32mdef\u001b[0m \u001b[0mfill\u001b[0m\u001b[0;34m(\u001b[0m\u001b[0mdf_ratings\u001b[0m\u001b[0;34m)\u001b[0m\u001b[0;34m:\u001b[0m\u001b[0;34m\u001b[0m\u001b[0m\n\u001b[1;32m      2\u001b[0m      \u001b[0;32mfor\u001b[0m \u001b[0mrow\u001b[0m \u001b[0;32min\u001b[0m \u001b[0marray\u001b[0m\u001b[0;34m:\u001b[0m\u001b[0;34m\u001b[0m\u001b[0m\n\u001b[0;32m----> 3\u001b[0;31m         \u001b[0mratings\u001b[0m\u001b[0;34m[\u001b[0m\u001b[0mrow\u001b[0m\u001b[0;34m[\u001b[0m\u001b[0;36m0\u001b[0m\u001b[0;34m]\u001b[0m\u001b[0;34m,\u001b[0m \u001b[0mrow\u001b[0m\u001b[0;34m[\u001b[0m\u001b[0;36m1\u001b[0m\u001b[0;34m]\u001b[0m\u001b[0;34m]\u001b[0m \u001b[0;34m=\u001b[0m \u001b[0mdf_ratings\u001b[0m\u001b[0;34m[\u001b[0m\u001b[0;34m'overall'\u001b[0m\u001b[0;34m]\u001b[0m\u001b[0;34m\u001b[0m\u001b[0m\n\u001b[0m\u001b[1;32m      4\u001b[0m         \u001b[0;32mreturn\u001b[0m \u001b[0mratings\u001b[0m\u001b[0;34m\u001b[0m\u001b[0m\n",
      "\u001b[0;31mIndexError\u001b[0m: only integers, slices (`:`), ellipsis (`...`), numpy.newaxis (`None`) and integer or boolean arrays are valid indices"
     ]
    }
   ],
   "source": [
    "fill(df_ratings)"
   ]
  },
  {
   "cell_type": "code",
   "execution_count": 50,
   "metadata": {
    "scrolled": true
   },
   "outputs": [
    {
     "data": {
      "text/html": [
       "<div>\n",
       "<style>\n",
       "    .dataframe thead tr:only-child th {\n",
       "        text-align: right;\n",
       "    }\n",
       "\n",
       "    .dataframe thead th {\n",
       "        text-align: left;\n",
       "    }\n",
       "\n",
       "    .dataframe tbody tr th {\n",
       "        vertical-align: top;\n",
       "    }\n",
       "</style>\n",
       "<table border=\"1\" class=\"dataframe\">\n",
       "  <thead>\n",
       "    <tr style=\"text-align: right;\">\n",
       "      <th></th>\n",
       "      <th>user_id</th>\n",
       "      <th>Id</th>\n",
       "      <th>overall</th>\n",
       "    </tr>\n",
       "  </thead>\n",
       "  <tbody>\n",
       "    <tr>\n",
       "      <th>1453315</th>\n",
       "      <td>28434</td>\n",
       "      <td>576</td>\n",
       "      <td>4.5</td>\n",
       "    </tr>\n",
       "    <tr>\n",
       "      <th>848810</th>\n",
       "      <td>15392</td>\n",
       "      <td>39296</td>\n",
       "      <td>4.5</td>\n",
       "    </tr>\n",
       "    <tr>\n",
       "      <th>674077</th>\n",
       "      <td>12076</td>\n",
       "      <td>2464</td>\n",
       "      <td>4.0</td>\n",
       "    </tr>\n",
       "    <tr>\n",
       "      <th>1303610</th>\n",
       "      <td>25039</td>\n",
       "      <td>13726</td>\n",
       "      <td>4.0</td>\n",
       "    </tr>\n",
       "    <tr>\n",
       "      <th>1435284</th>\n",
       "      <td>28048</td>\n",
       "      <td>32228</td>\n",
       "      <td>4.0</td>\n",
       "    </tr>\n",
       "  </tbody>\n",
       "</table>\n",
       "</div>"
      ],
      "text/plain": [
       "         user_id     Id  overall\n",
       "1453315    28434    576      4.5\n",
       "848810     15392  39296      4.5\n",
       "674077     12076   2464      4.0\n",
       "1303610    25039  13726      4.0\n",
       "1435284    28048  32228      4.0"
      ]
     },
     "execution_count": 50,
     "metadata": {},
     "output_type": "execute_result"
    }
   ],
   "source": [
    "sample = df_ratings.sample(100)\n",
    "sample.head()"
   ]
  },
  {
   "cell_type": "code",
   "execution_count": 48,
   "metadata": {},
   "outputs": [
    {
     "name": "stdout",
     "output_type": "stream",
     "text": [
      "There are 98 users and 96 Id's\n"
     ]
    }
   ],
   "source": [
    "users_s = sample.user_id.unique().shape[0]\n",
    "items_s = sample.Id.unique().shape[0]\n",
    "print(\"There are %s users and %s Id's\" %(users_s, items_s))"
   ]
  },
  {
   "cell_type": "code",
   "execution_count": 49,
   "metadata": {},
   "outputs": [
    {
     "data": {
      "text/plain": [
       "array([[ 0.,  0.,  0., ...,  0.,  0.,  0.],\n",
       "       [ 0.,  0.,  0., ...,  0.,  0.,  0.],\n",
       "       [ 0.,  0.,  0., ...,  0.,  0.,  0.],\n",
       "       ..., \n",
       "       [ 0.,  0.,  0., ...,  0.,  0.,  0.],\n",
       "       [ 0.,  0.,  0., ...,  0.,  0.,  0.],\n",
       "       [ 0.,  0.,  0., ...,  0.,  0.,  0.]])"
      ]
     },
     "execution_count": 49,
     "metadata": {},
     "output_type": "execute_result"
    }
   ],
   "source": [
    "ratings_s = np.zeros((users_s,items_s))\n",
    "\n",
    "ratings_s"
   ]
  },
  {
   "cell_type": "code",
   "execution_count": 56,
   "metadata": {
    "collapsed": true
   },
   "outputs": [],
   "source": [
    "def pivotarray(sample):\n",
    "    users,i= np.unique(sample['user_id'],return_inverse=True)\n",
    "    item,j= np.unique(sample['Id'],return_inverse=True)\n",
    "    b= np.zeros((len(users),len(item)), float)\n",
    "    b[i,j]= sample['overall']\n",
    "    return b"
   ]
  },
  {
   "cell_type": "code",
   "execution_count": 57,
   "metadata": {},
   "outputs": [
    {
     "data": {
      "text/plain": [
       "array([[ 0.,  0.,  0., ...,  0.,  0.,  0.],\n",
       "       [ 0.,  0.,  0., ...,  0.,  0.,  0.],\n",
       "       [ 0.,  0.,  0., ...,  0.,  0.,  0.],\n",
       "       ..., \n",
       "       [ 0.,  0.,  0., ...,  0.,  0.,  0.],\n",
       "       [ 0.,  0.,  0., ...,  0.,  0.,  0.],\n",
       "       [ 0.,  0.,  0., ...,  0.,  0.,  0.]])"
      ]
     },
     "execution_count": 57,
     "metadata": {},
     "output_type": "execute_result"
    }
   ],
   "source": [
    "pivotarray(sample)[1:50]"
   ]
  },
  {
   "cell_type": "code",
   "execution_count": 61,
   "metadata": {},
   "outputs": [
    {
     "ename": "IndexError",
     "evalue": "tuple index out of range",
     "output_type": "error",
     "traceback": [
      "\u001b[0;31m\u001b[0m",
      "\u001b[0;31mIndexError\u001b[0mTraceback (most recent call last)",
      "\u001b[0;32m<ipython-input-61-c8062f8cf293>\u001b[0m in \u001b[0;36m<module>\u001b[0;34m()\u001b[0m\n\u001b[1;32m      1\u001b[0m \u001b[0;32mfor\u001b[0m \u001b[0mrow\u001b[0m \u001b[0;32min\u001b[0m \u001b[0msample\u001b[0m\u001b[0;34m.\u001b[0m\u001b[0miterrows\u001b[0m\u001b[0;34m(\u001b[0m\u001b[0;34m)\u001b[0m\u001b[0;34m:\u001b[0m\u001b[0;34m\u001b[0m\u001b[0m\n\u001b[0;32m----> 2\u001b[0;31m     \u001b[0mratings_s\u001b[0m\u001b[0;34m[\u001b[0m\u001b[0mrow\u001b[0m\u001b[0;34m[\u001b[0m\u001b[0;36m1\u001b[0m\u001b[0;34m]\u001b[0m\u001b[0;34m,\u001b[0m \u001b[0mrow\u001b[0m\u001b[0;34m[\u001b[0m\u001b[0;36m2\u001b[0m\u001b[0;34m]\u001b[0m\u001b[0;34m]\u001b[0m \u001b[0;34m=\u001b[0m \u001b[0mrow\u001b[0m\u001b[0;34m[\u001b[0m\u001b[0;36m3\u001b[0m\u001b[0;34m]\u001b[0m\u001b[0;34m\u001b[0m\u001b[0m\n\u001b[0m",
      "\u001b[0;31mIndexError\u001b[0m: tuple index out of range"
     ]
    }
   ],
   "source": [
    "for row in sample.iterrows():\n",
    "    ratings_s[row[1], row[2]] = row[3]"
   ]
  },
  {
   "cell_type": "code",
   "execution_count": null,
   "metadata": {
    "collapsed": true
   },
   "outputs": [],
   "source": []
  },
  {
   "cell_type": "code",
   "execution_count": null,
   "metadata": {
    "collapsed": true
   },
   "outputs": [],
   "source": []
  },
  {
   "cell_type": "code",
   "execution_count": null,
   "metadata": {
    "collapsed": true
   },
   "outputs": [],
   "source": []
  },
  {
   "cell_type": "code",
   "execution_count": null,
   "metadata": {
    "collapsed": true
   },
   "outputs": [],
   "source": []
  },
  {
   "cell_type": "code",
   "execution_count": null,
   "metadata": {
    "collapsed": true
   },
   "outputs": [],
   "source": [
    "def pivotarray(df_ratings):\n",
    "    users,i= np.unique(df_ratings['user_id'],return_inverse=True)\n",
    "    item,j= np.unique(df_ratings['Id'],return_inverse=True)\n",
    "    b=np.zeros((len(users),len(item)))\n",
    "    b[i,j]=df_ratings['overall']\n",
    "    return b\n"
   ]
  },
  {
   "cell_type": "code",
   "execution_count": null,
   "metadata": {
    "collapsed": true,
    "scrolled": true
   },
   "outputs": [],
   "source": [
    "pivotarray(df_ratings)"
   ]
  },
  {
   "cell_type": "code",
   "execution_count": null,
   "metadata": {
    "collapsed": true
   },
   "outputs": [],
   "source": []
  }
 ],
 "metadata": {
  "kernelspec": {
   "display_name": "Python 2",
   "language": "python",
   "name": "python2"
  },
  "language_info": {
   "codemirror_mode": {
    "name": "ipython",
    "version": 2
   },
   "file_extension": ".py",
   "mimetype": "text/x-python",
   "name": "python",
   "nbconvert_exporter": "python",
   "pygments_lexer": "ipython2",
   "version": "2.7.13"
  }
 },
 "nbformat": 4,
 "nbformat_minor": 2
}
