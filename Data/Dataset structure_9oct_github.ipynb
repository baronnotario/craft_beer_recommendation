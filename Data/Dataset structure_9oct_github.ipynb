{
 "cells": [
  {
   "cell_type": "markdown",
   "metadata": {},
   "source": [
    "# Looking at the dataset structure\n",
    "Since the dataset was not created by us, but has been obtained by an external source, before start to model the data, it is necessary understand all the variables contained the file and do some checks in order to detect possible errors or outliers"
   ]
  },
  {
   "cell_type": "code",
   "execution_count": 1,
   "metadata": {
    "collapsed": true
   },
   "outputs": [],
   "source": [
    "import csv\n",
    "import pandas as pd\n",
    "import numpy as np"
   ]
  },
  {
   "cell_type": "code",
   "execution_count": 2,
   "metadata": {},
   "outputs": [],
   "source": [
    "beer = pd.read_csv ('beer_clean.csv')"
   ]
  },
  {
   "cell_type": "markdown",
   "metadata": {},
   "source": [
    "## How many data do we have?, How is our dataset structure   \n",
    "There are 104 styles of beer, and 5.840  brewers companies which supply 56.845 different beers. The Id is an unique identify for each beer, so if there are more Ids (66.036) than names of beers means that we have cases with same style, same supplier and same name of beer but labeled with different Id\n",
    "\n",
    "#### Hierarchy   \n",
    "1.Style --> 104   \n",
    "2.BrewerId --> 5840   \n",
    "3.Names --> 56845   \n",
    "4.Id --> 66036"
   ]
  },
  {
   "cell_type": "code",
   "execution_count": 3,
   "metadata": {},
   "outputs": [
    {
     "data": {
      "text/plain": [
       "33381"
      ]
     },
     "execution_count": 3,
     "metadata": {},
     "output_type": "execute_result"
    }
   ],
   "source": [
    "# total customers\n",
    "customers=beer['profile_name'].nunique()\n",
    "customers"
   ]
  },
  {
   "cell_type": "code",
   "execution_count": 4,
   "metadata": {
    "scrolled": true
   },
   "outputs": [
    {
     "data": {
      "text/plain": [
       "104"
      ]
     },
     "execution_count": 4,
     "metadata": {},
     "output_type": "execute_result"
    }
   ],
   "source": [
    "# total beers by style\n",
    "beer_style=beer['style'].nunique()\n",
    "beer_style"
   ]
  },
  {
   "cell_type": "code",
   "execution_count": 5,
   "metadata": {},
   "outputs": [
    {
     "data": {
      "text/plain": [
       "66036"
      ]
     },
     "execution_count": 5,
     "metadata": {},
     "output_type": "execute_result"
    }
   ],
   "source": [
    "# total beers by Id\n",
    "beer_Id=beer['Id'].nunique()\n",
    "beer_Id"
   ]
  },
  {
   "cell_type": "code",
   "execution_count": 6,
   "metadata": {},
   "outputs": [
    {
     "data": {
      "text/plain": [
       "5840"
      ]
     },
     "execution_count": 6,
     "metadata": {},
     "output_type": "execute_result"
    }
   ],
   "source": [
    "# total beers by brewerId\n",
    "beer_brewerId=beer['brewerId'].nunique()\n",
    "beer_brewerId"
   ]
  },
  {
   "cell_type": "code",
   "execution_count": 7,
   "metadata": {},
   "outputs": [
    {
     "data": {
      "text/plain": [
       "56845"
      ]
     },
     "execution_count": 7,
     "metadata": {},
     "output_type": "execute_result"
    }
   ],
   "source": [
    "# total beers by names\n",
    "beer_name=beer['names'].nunique()\n",
    "beer_name"
   ]
  },
  {
   "cell_type": "markdown",
   "metadata": {},
   "source": [
    "## Question 1: \n",
    "### We have less names than Ids. Are there beers with the same name, style and same brewerId, but different Id? \n",
    "As we have seen, there are 56.845 names of beers and 66.036 Ids. There must be an explanation for those names having more than one Id.   \n",
    "Grouping by the names, we can see how there are names of beer with more than 100 different ID, e.g Oktoberfest. Instead of one name = one ID \n"
   ]
  },
  {
   "cell_type": "code",
   "execution_count": 8,
   "metadata": {
    "scrolled": false
   },
   "outputs": [
    {
     "data": {
      "text/plain": [
       "names\n",
       " Oktoberfest       199\n",
       " Pale Ale          198\n",
       " Oatmeal Stout     161\n",
       " IPA               147\n",
       " Hefeweizen        143\n",
       " India Pale Ale    140\n",
       " Porter            107\n",
       " Maibock           101\n",
       " Imperial Stout     95\n",
       " Amber Ale          86\n",
       "Name: Id, dtype: int64"
      ]
     },
     "execution_count": 8,
     "metadata": {},
     "output_type": "execute_result"
    }
   ],
   "source": [
    "brand_by_name=beer.groupby('names')['Id'].nunique()\n",
    "brand_by_name.sort_values(ascending = False).head(10)"
   ]
  },
  {
   "cell_type": "markdown",
   "metadata": {},
   "source": [
    "### Eg,name of beer = Oktoberfest has 199 Ids. Why?"
   ]
  },
  {
   "cell_type": "code",
   "execution_count": 9,
   "metadata": {
    "scrolled": false
   },
   "outputs": [
    {
     "data": {
      "text/plain": [
       "5"
      ]
     },
     "execution_count": 9,
     "metadata": {},
     "output_type": "execute_result"
    }
   ],
   "source": [
    "## the beer called Oktoberfest has 5 different styles\n",
    "brand_study=beer.groupby(['names']).get_group(' Oktoberfest')['style'].nunique()\n",
    "brand_study\n"
   ]
  },
  {
   "cell_type": "code",
   "execution_count": 10,
   "metadata": {},
   "outputs": [
    {
     "data": {
      "text/plain": [
       "style\n",
       " American Amber / Red Ale        1\n",
       " American Amber / Red Lager      1\n",
       " American Dark Wheat Ale         1\n",
       " Märzen / Oktoberfest          194\n",
       " Vienna Lager                    2\n",
       "Name: Id, dtype: int64"
      ]
     },
     "execution_count": 10,
     "metadata": {},
     "output_type": "execute_result"
    }
   ],
   "source": [
    "brand_study=beer.groupby(['names']).get_group(' Oktoberfest')\n",
    "brand_by_name2=brand_study.groupby(['style'])['Id'].nunique()\n",
    "brand_by_name2"
   ]
  },
  {
   "cell_type": "markdown",
   "metadata": {},
   "source": [
    "### Checking the Märzen / Oktoberfest style which has 194 Ids\n",
    "- **It could be that the Id changes within the same beer name and style attending to the ABV variable**   \n",
    "- Same name, same style, differents Ids (probably the ABV has something to do with it)   \n",
    "- Is it possible that differents brewer company have the same name of beer?   "
   ]
  },
  {
   "cell_type": "code",
   "execution_count": 11,
   "metadata": {},
   "outputs": [
    {
     "data": {
      "text/plain": [
       "style                        ABV  \n",
       " American Amber / Red Ale    99.00      1\n",
       " American Amber / Red Lager  5.40       1\n",
       " American Dark Wheat Ale     5.20       1\n",
       " Märzen / Oktoberfest        3.80       1\n",
       "                             4.30       1\n",
       "                             4.80       1\n",
       "                             4.90       3\n",
       "                             5.00       7\n",
       "                             5.10       1\n",
       "                             5.20       6\n",
       "                             5.30       3\n",
       "                             5.40       4\n",
       "                             5.50       8\n",
       "                             5.60       3\n",
       "                             5.70       4\n",
       "                             5.75       1\n",
       "                             5.80       8\n",
       "                             5.90       2\n",
       "                             6.00      15\n",
       "                             6.20       3\n",
       "                             6.25       1\n",
       "                             6.40       1\n",
       "                             6.50       3\n",
       "                             6.60       2\n",
       "                             6.70       1\n",
       "                             6.80       2\n",
       "                             7.00       1\n",
       "                             7.50       1\n",
       "                             99.00    111\n",
       " Vienna Lager                5.80       1\n",
       "                             6.50       1\n",
       "Name: Id, dtype: int64"
      ]
     },
     "execution_count": 11,
     "metadata": {},
     "output_type": "execute_result"
    }
   ],
   "source": [
    "brand_by_name3=brand_study.groupby(['style','ABV'])['Id'].nunique()\n",
    "brand_by_name3"
   ]
  },
  {
   "cell_type": "markdown",
   "metadata": {},
   "source": [
    "###  Ids are related with the ABV\n",
    "- Most of the Ids are concentrate on the variable ABV = 99 (we recoded those null fields with a 99 code). This reaffirms the theory that one beer with the same style and the name, can  have different Ids attending to its alcoholic graduation.  \n",
    "- Let's check now, the  beer that has 6 degrees and 15 differents Ids. By doing a few filters, we can verify that these beers belong to 15 different breweries and therefore we can say that our data are correct (they have sense)"
   ]
  },
  {
   "cell_type": "code",
   "execution_count": 12,
   "metadata": {},
   "outputs": [
    {
     "data": {
      "text/plain": [
       "brewerId\n",
       "144      1\n",
       "395      1\n",
       "959      1\n",
       "1683     1\n",
       "2310     1\n",
       "2454     1\n",
       "2599     1\n",
       "3925     1\n",
       "4426     1\n",
       "10567    1\n",
       "11936    1\n",
       "15205    1\n",
       "21683    1\n",
       "22035    1\n",
       "24791    1\n",
       "Name: Id, dtype: int64"
      ]
     },
     "execution_count": 12,
     "metadata": {},
     "output_type": "execute_result"
    }
   ],
   "source": [
    "marzen=beer[(beer['style'] == \" Märzen / Oktoberfest\") & (beer['names'] == \" Oktoberfest\")  & (beer['ABV'] == 6)]\n",
    "marzen2=marzen.groupby(['brewerId'])['Id'].nunique()\n",
    "marzen2"
   ]
  },
  {
   "cell_type": "markdown",
   "metadata": {},
   "source": [
    "# Most popular beers\n",
    "**American IPA** with 3.167 different beers, and the **American Pale Ale** with 2.886, are the styles of beer more offered by the brewers.   \n",
    "The **IPA style**, following by the **Imperial IPA style**, are the most rated/consumed by the customers (with 12.479 and 10.977 ratings respectively)"
   ]
  },
  {
   "cell_type": "code",
   "execution_count": 13,
   "metadata": {
    "scrolled": true
   },
   "outputs": [
    {
     "data": {
      "text/plain": [
       "style\n",
       " American IPA                3167\n",
       " American Pale Ale (APA)     2886\n",
       " American Amber / Red Ale    2230\n",
       " American Porter             1839\n",
       " Fruit / Vegetable Beer      1603\n",
       "Name: names, dtype: int64"
      ]
     },
     "execution_count": 13,
     "metadata": {},
     "output_type": "execute_result"
    }
   ],
   "source": [
    "# Num of beers (brand/names) broup by style\n",
    "brand_by_style=beer.groupby('style')['names'].nunique()\n",
    "brand_by_style.sort_values(ascending = False).head()"
   ]
  },
  {
   "cell_type": "code",
   "execution_count": 14,
   "metadata": {
    "scrolled": true
   },
   "outputs": [
    {
     "data": {
      "text/plain": [
       "style\n",
       " Faro                               19\n",
       " Bière de Champagne / Bière Brut    20\n",
       " Sahti                              25\n",
       " Gose                               27\n",
       " Kvass                              43\n",
       "Name: names, dtype: int64"
      ]
     },
     "execution_count": 14,
     "metadata": {},
     "output_type": "execute_result"
    }
   ],
   "source": [
    "brand_by_style.sort_values(ascending = True).head()"
   ]
  },
  {
   "cell_type": "code",
   "execution_count": 15,
   "metadata": {
    "scrolled": false
   },
   "outputs": [
    {
     "data": {
      "text/plain": [
       "style\n",
       " American IPA                      12479\n",
       " American Double / Imperial IPA    10977\n",
       " American Pale Ale (APA)            9252\n",
       " Russian Imperial Stout             8990\n",
       " American Porter                    8464\n",
       "Name: profile_name, dtype: int64"
      ]
     },
     "execution_count": 15,
     "metadata": {},
     "output_type": "execute_result"
    }
   ],
   "source": [
    "# Beers most rated by style\n",
    "most_rated_style=beer.groupby('style')['profile_name'].nunique()\n",
    "most_rated_style.sort_values(ascending = False).head()"
   ]
  },
  {
   "cell_type": "code",
   "execution_count": 16,
   "metadata": {},
   "outputs": [
    {
     "data": {
      "text/plain": [
       "names\n",
       " 90 Minute IPA                          3206\n",
       " Old Rasputin Russian Imperial Stout    3038\n",
       " Sierra Nevada Celebration Ale          2929\n",
       " Stone Ruination IPA                    2644\n",
       " Arrogant Bastard Ale                   2633\n",
       "Name: profile_name, dtype: int64"
      ]
     },
     "execution_count": 16,
     "metadata": {},
     "output_type": "execute_result"
    }
   ],
   "source": [
    "customerPreferences2=beer.groupby('names')['profile_name'].nunique()\n",
    "customerPreferences2.sort_values(ascending = False).head()"
   ]
  },
  {
   "cell_type": "markdown",
   "metadata": {},
   "source": [
    "# Customer preferences\n",
    "## Question 2:    \n",
    "### Is it possible that there are customers who have rated more than 100 beers in one day?\n",
    "- It could be that they make annotations and then rate all the beers that they tested at once\n",
    "- It could be a profile_name of a shop, or it can corresponds to a event.   \n",
    "- Also we can see how there is a profile name labeled as BeerAdvocate which is the name of the website (from where we took the data). So it could be a good idea to take it out.   \n",
    "\n",
    "Let's check the data in more detail"
   ]
  },
  {
   "cell_type": "code",
   "execution_count": 17,
   "metadata": {},
   "outputs": [
    {
     "data": {
      "text/plain": [
       "profile_name    year  month  day\n",
       " RblWthACoz     2007  12     30     361\n",
       "                             31     257\n",
       "                2008  1      1      247\n",
       " LilBeerDoctor  2010  12     23     217\n",
       " magictrokini   2008  12     10     215\n",
       "                             5      214\n",
       " JDV            2008  4      6      176\n",
       " changeup45     2008  8      24     173\n",
       " yesyouam       2008  12     20     169\n",
       " JDV            2008  6      30     168\n",
       " magictrokini   2008  12     16     165\n",
       " changeup45     2008  8      23     157\n",
       " thekevlarkid   2008  8      20     153\n",
       " BeerAdvocate   2011  1      11     146\n",
       " LilBeerDoctor  2009  7      11     146\n",
       "                2008  12     23     141\n",
       "                             20     132\n",
       " JDV            2008  3      15     126\n",
       " Thorpe429      2010  10     24     122\n",
       "                      11     14     122\n",
       " LilBeerDoctor  2009  12     19     115\n",
       " BeerAdvocate   2010  9      20     104\n",
       " BMan1113VR     2008  2      7      102\n",
       " grub           2011  2      4       97\n",
       " magictrokini   2008  12     4       96\n",
       " corby112       2008  11     28      93\n",
       " Pencible       2008  3      27      91\n",
       " CuriousMonk    2011  1      27      90\n",
       " femALEist      2010  3      25      88\n",
       " LilBeerDoctor  2008  12     28      86\n",
       "Name: names, dtype: int64"
      ]
     },
     "execution_count": 17,
     "metadata": {},
     "output_type": "execute_result"
    }
   ],
   "source": [
    "# Customer preferences \n",
    "customers=beer.groupby(['profile_name', 'year', 'month', 'day'])['names'].count()\n",
    "customers.nlargest(30)"
   ]
  },
  {
   "cell_type": "markdown",
   "metadata": {},
   "source": [
    "- The customer who rated more beers in one day is _\"RblWthACoz\"_ .Another one that rated a lot of beers in different days is called _\"JDV\"_.   \n",
    "- We can check the **customer comments to see if they are different  over all their ratings** (if they are quite similar or equal , it could means that they are not from a real customer)\n",
    "- In order to have an idea of if their **ratings are real ones** or look like they **belong to a store** or they comming from a kind of **automatic scoring**   \n",
    "- If we have into account the **ratio between the ratings per day and the total ratings of each customer**, we can check if the higher rating days are a normal behavior of the customer or an outlier"
   ]
  },
  {
   "cell_type": "markdown",
   "metadata": {},
   "source": [
    "### RblWthACoz comments: it seems that they are differents"
   ]
  },
  {
   "cell_type": "code",
   "execution_count": 18,
   "metadata": {},
   "outputs": [
    {
     "data": {
      "text/html": [
       "<div>\n",
       "<style>\n",
       "    .dataframe thead tr:only-child th {\n",
       "        text-align: right;\n",
       "    }\n",
       "\n",
       "    .dataframe thead th {\n",
       "        text-align: left;\n",
       "    }\n",
       "\n",
       "    .dataframe tbody tr th {\n",
       "        vertical-align: top;\n",
       "    }\n",
       "</style>\n",
       "<table border=\"1\" class=\"dataframe\">\n",
       "  <thead>\n",
       "    <tr style=\"text-align: right;\">\n",
       "      <th></th>\n",
       "      <th>text</th>\n",
       "    </tr>\n",
       "  </thead>\n",
       "  <tbody>\n",
       "    <tr>\n",
       "      <th>2484</th>\n",
       "      <td>\" Pours a clear, but darker ruby hued brown. Thin light tan head. Flavor is sweet, and too much so I have to say. Calms down a bit over time, but the memory of it sticks with me. Fruit tones and a tart bitterness ride on the backside of things. Feel is slick on liquid and the carbonation is slightly subdued. This is an okay beer. As it warms it's initially abrasive qualities seem to calm down a bit and I enjoy it more than I thought I would.\\t\\t\"</td>\n",
       "    </tr>\n",
       "    <tr>\n",
       "      <th>2485</th>\n",
       "      <td>\" Quite the schnazzy label we've got here. \\t\\tPours a foggy orange gold with a decent off-white head. Nose is like fruit that's been sitting out too long. Wow. Flavor is clearly smoked. This is like a rauchbier, yet Belgian in style. Defined meat tones and smoky as well. As I drink more of it, I see where it comes from on the nose. Besides everything else so far, there is a clear sweet edge with fruit tones as well. As time goes on the rauch qualities fade away and a sweet tone really sets in. Yet occasionally the rauch character hits me in the back of the mouth as an aftertaste ever so subtly. Feel is slick and smooth, yet a bit thick, on liquid. Carbonation is middle of the road. Well this was an interesting beer. I definitely suggest you try it if you have the chance.\\t\\t\"</td>\n",
       "    </tr>\n",
       "    <tr>\n",
       "      <th>2487</th>\n",
       "      <td>\" Pours a foggy orange with a brown touch and a thicker light head. Nose is like citrus rinds and concentrated orange as well. Flavor is intense orange, almost like the flavor of Tang. A bit too much IMO. Feel has a fuller carbonation. Liquid is about right. This beer just doesn't work for me. Way too much tang and unbalanced.\\t\\t\"</td>\n",
       "    </tr>\n",
       "    <tr>\n",
       "      <th>2488</th>\n",
       "      <td>\" Pours a foggy orange gold with a decent sized crme head. Nose is quite sweet, but not overpowering. Definite citrus as well. Flavor is interestingly complex. Sweet tones are firmly there with numerous fruit layers. Feel is a bit thicker on liquid. Carbonation is full enough, though not abrasive. I like this beer. Quite tasty and a pleasure to drink.\\t\\t\"</td>\n",
       "    </tr>\n",
       "    <tr>\n",
       "      <th>2989</th>\n",
       "      <td>Pours a slightly hazed orange amber. Nose is a lot of dough and spices. Flavor is tangy with citrus. Nice level of sweetness. Spices are backing it up. Smooth and nice really. Much better than I was expecting. Feel is smooth on liquid. But the one detractor is the carbonation. A bit too much IMO. However. This is still a pretty tasty brew.\\t\\t</td>\n",
       "    </tr>\n",
       "    <tr>\n",
       "      <th>3229</th>\n",
       "      <td>\" Pours a clear very dark amber with brown and reddish tints. Minimal tannish head doesn't really stay long, but leaves decent lacing on the way down. Nose is super floral hops. Strong and unrelenting. Flavor is very strong. Acidic almost at first. Firm woody edges. Very, very earthy. Feel is sticky on liquid and the carbonation is good. Surprisingly, this ends up being a pretty drinkable DIPA as I tore through the bottle and was finished well before I wished. A nice DIPA, though a bit heavy on the robust side.\\t\\t\"</td>\n",
       "    </tr>\n",
       "    <tr>\n",
       "      <th>3874</th>\n",
       "      <td>\" Pours a clear amber with a full creme head that sticks around and leaves nice lace on the way down. Nose is hoppy, of course, but has a soapy edge. Overall fragrances are not very powerful and carry very minor pine character. Flavor is smooth. Balanced bitter tones with noticeable leafy and woody hop tones, though not firm or anywhere near overpowering. Seems like some alcohol is there as well. Feel is nice. Pretty full carbonation on a slick liquid feel. This is a nice drinker. More woody than most other things. I think this on cask would be interesting.\\t\\t\"</td>\n",
       "    </tr>\n",
       "    <tr>\n",
       "      <th>5568</th>\n",
       "      <td>\" Pours pitch black and thick with a smaller dark tan head that forms and falls to nothing. No lacing. Malty tones on the nose. Extremely slight amount of roasted edge to it. Flavor is extremely smooth. Unbelievably smooth. Thick malts accented by mild oat. Sweet tone almost like a molasses that's more smooth and sweet than thick and bitter with a biting edge. Man, oh man. Very mild amount of alcohol biting on the back side. On the aftertaste I feel it burning just a slight bit as well. Feel is thick on liquid and carries a low, but smooth enough carbonation. Is this easy to drink? You better believe it. Truly exceptional. I wish I had a case of this instead of just this one bottle.\\t\\t\"</td>\n",
       "    </tr>\n",
       "    <tr>\n",
       "      <th>6887</th>\n",
       "      <td>\" Pours a clouded amber. Light tan head. Nose is fruity with some kriek and raspberry lambic kind of tones. Flavor is a slight fruit with a sourness on the same level. This is like a lambic, a flanders red, and a Belgian ale mixed into one. But more so leaning towards the flanders. Feel is smooth on the liquid, but a bit thin. Nice carbonation to it. Overall very drinkable. Smooth and well defined. Worth trying.\\t\\t\"</td>\n",
       "    </tr>\n",
       "    <tr>\n",
       "      <th>7054</th>\n",
       "      <td>\" Love the graphics on this bottle. Love the bottle cap. Pours a clouded brown hued orange/gold with a decent purely white head. Nose is mainly citrus. Also seems strongly like some kind of citrus toned cleaning product. Flavor is oddly doughy with strong floral tones. Unique. Very floral-forward. Feel is smooth on liquid. Carbonation bites and nips at the mouth rather sharply. This is a nice ale to drink. A bit robust and intense, but carries some good characteristics that makes it an interesting ale to sip on.\\t\\t\"</td>\n",
       "    </tr>\n",
       "    <tr>\n",
       "      <th>8495</th>\n",
       "      <td>\" Pours a foggy orange hued brown. Decent creme head. Nutty nose. Flavor is unusual. A bit tangy with citrus and a very noticeable nutty character. Feel has a sharp carbonation that nips the tongue. Liquid is a bit thicker and sticky. An interesting APA. Doesn't really fit what I consider the style to be, but it works. \\t\\tThanks to Cresant for a chance to try this one.\\t\\t\"</td>\n",
       "    </tr>\n",
       "    <tr>\n",
       "      <th>8752</th>\n",
       "      <td>\" Pours black with a light brown head. Nose is sweet molasses with dark baking chocolate. Flavor is roasted and smoked a bit. Bourbon kicks a slight bit, yes. Smooths out over subsequent sips. Thick malts. Warming aftertaste.as it warms it gets much better, displayin cocoa character and a thick, even, and lasting flavor profile. (it's enough to bump up the score .5) Feel is thick on liquid but appropriately lower on carbonation. An easy to drink stout. I wonder what age would do to this.\\t\\tThanks to Grafter for this one on a very generous trade.\\t\\t\"</td>\n",
       "    </tr>\n",
       "    <tr>\n",
       "      <th>10149</th>\n",
       "      <td>\" Thanks to DHGranstrand for this bottle in a recent trade. Pours like midnight with a decent sized tan head. Nose is like molasses and tar, but really there isn't a whole lot of it there. Flavor is thick with molasses tones. Noticeable roasted aspect to it is there. Nice thick flavor profile that stays consistent. Just a slightly biting carbonation to it. Liquid is slick. Pretty nice to drink on this one. A very robust and well made stout. A nice sipper and a pleasure to drink.\\t\\t\"</td>\n",
       "    </tr>\n",
       "    <tr>\n",
       "      <th>11555</th>\n",
       "      <td>\" Pours a clear yellow with a white head. Nose is almost non-existent. Flavor is smooth. Decent grain tones with a bit of an earthy bite. Feel is smooth on liquid. Carbonation is decent and jut slightly high. Overall an easy drinker. There are certainly some bad examples of this style out there and this isn't one of them. Not going to blow you away, but it works.\\t\\t\"</td>\n",
       "    </tr>\n",
       "    <tr>\n",
       "      <th>12820</th>\n",
       "      <td>I got the last bit of this one out of the cask. Pours a slightly clouded amber with a frothy creme head. Nose is fruity nuts. Flavor oddly reminds me of a white wine. Chalky dryness. Feel is smooth and drier like a cotton ball. Very nice ESB. Could go for numerous of these.\\t\\t</td>\n",
       "    </tr>\n",
       "    <tr>\n",
       "      <th>12987</th>\n",
       "      <td>Pours a clear dark amber brown. No head. Nose is like almost a caramel that has been overcooked. Bordering on burnt. Flavor is leafy. Kind of a dead leaf kind of thing. A bit rustic and worn down. Kind of slightly sweet on the side. Feel is thick on the liquid with standard carbonation. Overall this is one you wouldn't miss much on if you passed. No great shakes.\\t\\t</td>\n",
       "    </tr>\n",
       "    <tr>\n",
       "      <th>13357</th>\n",
       "      <td>Pours a dark brown with basically no head. Nose is like roasted qualities. Flavor is roasted and just an old coffee bean kinda flavor profile. Feel is standard. Just feels a touch light. Lots of carbonation. Overall this is an odd porter. I can't really put it up against others I have had as far as similarities go. The body seems lighter for a porter. Overall though it is pretty drinkable. I would just never go back to it.\\t\\t</td>\n",
       "    </tr>\n",
       "    <tr>\n",
       "      <th>15472</th>\n",
       "      <td>\" Pours an almost opaque black with ruby lining the edges. Nose is strong with chocolatey roasted goodness. Flavor is slightly bold with coffee tones, but also an interesting infusion of hops at the end after the coffee hits you. Feel is silky over the tongue. Definitely drinkable. Smooth and pleasurable. This wont go down as the world's greatest porter, but it's a pretty good one overall.\\t\\t\"</td>\n",
       "    </tr>\n",
       "    <tr>\n",
       "      <th>15782</th>\n",
       "      <td>\" Off notes from 3-2007. Pours a clouded garnet/ruby with a nice tan head that falls. Nose is beautiful. Strong wood influence with cherry tones. You can tell this was made with care. Flavor is a mild wood with a stronger cherry profile. Feel has a thick bubble to it that hits the back of my mouth and leaves quickly. The liquid feel seems a bit thin. This reminds me oh so much of a lambic. Overall, very drinkable. It might have to be your cup of tea, but I dig it. If you like lambics, you will like this. After two 9 ounce beers and a burger, this was my dessert. As it got closer to the end, I wished there would have been more. \\t\\tI weep for you if you go in and this beer is not available.\\t\\t\"</td>\n",
       "    </tr>\n",
       "    <tr>\n",
       "      <th>16115</th>\n",
       "      <td>\" Pours a very slightly clouded amber with a white head. Nose is smooth hops with the expected citrus tones. Flavor is slightly bitter with a somewhat strong hop edge that lingers. I am convinced there is an underlying apricot flavor here. It never punches you in the mouth, but it continually caresses the palate. Feel is good with the bubble on my tongue and meaty on the liquid. Drinkable. Though the mature bitter edge seems to detract just a touch. Overall, it's still pretty good.\\t\\t\"</td>\n",
       "    </tr>\n",
       "    <tr>\n",
       "      <th>17586</th>\n",
       "      <td>\" Pours a foggy darker brown/amber with a ruby hue and a thick creme head. Nose is clogged with character. Globs of hops and malts with alcohol in the mix as well. Flavor is fully hops. It reminds me a lot of the DFH 120. Just thick hop character that needs some time to calm down. Sickly sweet aftertaste lingers after the ridonkulous hop invasion. Feel is pretty smooth.\\t\\tThis needs time to mellow. I say don't drink it immediately, but feel free to grab a couple bottles so that you can observe it over time.\\t\\t\"</td>\n",
       "    </tr>\n",
       "    <tr>\n",
       "      <th>18367</th>\n",
       "      <td>\" Pours pinkish red. Pink head. Nose is bland. Cherry and one-dimensional. Flavor is cherry, and it is so-so. Too much fruit juice, not enough beer. Feel is thin on liquid and the carbonation is fairly vibrant. I don't dig this. Too much fruity and not enough beerness.\\t\\t\"</td>\n",
       "    </tr>\n",
       "    <tr>\n",
       "      <th>19288</th>\n",
       "      <td>Pours a dark ruby hued brown with a thin tan head. Nose is malty with an almost cardboard tree kind of thing going on. The first thing I thought when I took a sip was,\" boozy! Thankfully that seems to fade away as time goes on. What I get after that is a thick malty backbone with a sweet earthy edge. Peaty edge on the backside. Full flavor profile, not a mass of complexity. Feel is smooth on liquid and carbonation is lower. After the booze calms down here this gets better.\\t\\tThanks to tburkhart for this one.\\t\\t\"</td>\n",
       "    </tr>\n",
       "    <tr>\n",
       "      <th>20234</th>\n",
       "      <td>\" Pours black with a brownish head. Nose is boozy with touches of molasses. Flavor is intense coffee off the first hit. Lots of roasted malts. Just a punch in the mouth nearly. Mellows out and gives a lot of molasses too fairly quickly. Thick and robust. Seems a bit too boisterous to be bringing the subtleties that you might be able to draw off the other \"\"biggies.\"\" Either way, who cares. It's still hearty and robust and carries a great flavor profile. Thick molasses and quite malty. (But mostly, it's bringing the molasses.) Feel is thick and smooth on liquid. Carbonation is low. A pretty intense and hearty RIS. Another Founders beer I have enjoyed.\\t\\t\"</td>\n",
       "    </tr>\n",
       "    <tr>\n",
       "      <th>20968</th>\n",
       "      <td>\" Pours a quite foggy orange gold with a thinner light creme head. Nose is pungent pine and salty hops. Flavor is quite salty and intense. Not precisely the \"\"wet-hopped\"\" characters I would expect, but really\",\" how wet can the hops be upon delivery to Michigan? Not hatin', just sayin'. On the powerfully salty hops with minor pine tones there seems like some obliterated lemon tang as well. Feel is smooth and slightly thick on liquid and the carbonation is middle of the road. This is super hoppy and I can dig it. But the label says \"\"wet-hopped ale\"\" and I would have never guessed so in a blind taste test.\\t\\t\"</td>\n",
       "    </tr>\n",
       "    <tr>\n",
       "      <th>22191</th>\n",
       "      <td>\" Pours pitch black with a dark tan head. Nose is coffee, molasses. Flavor is oustanding. Unbelievably thick and complex. Loads of coffee. Good amount of molasses. Massive malts. It's like a meal in a bottle. Feel is smooth on liquid and with a minimal carbonation. This is a damn good beer. Simply amazing and much better than I recall it being on-tap.\\t\\t\"</td>\n",
       "    </tr>\n",
       "    <tr>\n",
       "      <th>22412</th>\n",
       "      <td>\" Pours pitch black with a tan head. Flavor is woody, earthy, but mostly malts with some coffee in the mix. Nice bitter edge that is very noticeable, but works well. Feel has a biting carbonation and a nice enough liquid feel. For what it is, very easy to drink. Vedy, vedy nice.\\t\\t\"</td>\n",
       "    </tr>\n",
       "    <tr>\n",
       "      <th>24074</th>\n",
       "      <td>\" Pours a reddish/pinkish hue with a very small pink head. Nose is definitely raspberries. Nice and full edge. Flavor is definitely fruity and full of raspberries. But this tastes like Kool-Aid with alcohol in it to me. A bit too one sided with not a lot of complexity to it. The feel has a great level of carbonation that just soothes the mouth. Overall though, this leaves a lot to be desired. No complexity and too much kool-aid-ness. I'd pass on this next time I think.\\t\\t\"</td>\n",
       "    </tr>\n",
       "    <tr>\n",
       "      <th>25389</th>\n",
       "      <td>\" Listen kids. Do as I say and not as I do. Do not pour firmly with this one unless you want a six inch head. \\t\\tPours dark brown with a tan head that is massive from way too firm a pour. Nose is a mass of complexity. Definite malts here. Caramel, wood tones, and just a good amount of things to take in. Flavor is pretty meaty with a consistent wood character going on. Thick caramel sweetness is there as well. Nice and robust. It seems like I am getting a small amount of alcohol on the flavor though. Feel has a decent carbonation and a smooth liquid feel. Overall pretty good. Nice and hearty and pretty rustic. I can't say it is really lacking, but I can't say it is the smoothest of the style I have ever had.\\t\\t\"</td>\n",
       "    </tr>\n",
       "    <tr>\n",
       "      <th>25981</th>\n",
       "      <td>\" Pours like carbonated Kool-Aid. Foggy red, and absolutely no head. Weird. Nose is raspberry toned for sure and not much else. Flavor is overpowering raspberries. In your face, in your mouth, and up in everything else it can get into. Very tangy and distinct. Feel has a lot of carbonation and a decent liquid feel, but it leaves a real sticky feel in the mouth that seems odd. This is a decently well made beer that goes way overboard with the raspberries. It is just too much and creates a one dimensional experience.\\t\\t\"</td>\n",
       "    </tr>\n",
       "    <tr>\n",
       "      <th>...</th>\n",
       "      <td>...</td>\n",
       "    </tr>\n",
       "    <tr>\n",
       "      <th>1572711</th>\n",
       "      <td>\" Pours a brown hued orange with a very thin creme head. Nose is biting citrus with hops trailing. Flavor is vibrant. Citrus and hops. Very \"\"bright.\"\" Hops seem to create a bit of a sweet tone, with a minor bitter bite on the back end. Feel is thicker and smooth on liquid. Carbonation is slightly boisterous. A nice pale ale that comes off as an IPA to me. Would probably do well on cask.\\t\\tThanks to tburkhart for this one.\\t\\t\"</td>\n",
       "    </tr>\n",
       "    <tr>\n",
       "      <th>1572780</th>\n",
       "      <td>\" Pours black with a very frothy light tan head. Nose is a roasted thing with minor molasses and a good load of coffee. Flavor is earthy and a fair portion of coffee. The flavor is a bit difficult to decipher as the carbonation is so intense and extremely full that it hinders the delivery of flavor. Still though, it's nice. Overall a pretty decent porter, except the issue of the carbonation.\\t\\tThanks to tburkhart for this one.\\t\\tEdit\",\" After warming up, the intense carbonation subdues and the flavor more clearly shows.\\t\\t\"</td>\n",
       "    </tr>\n",
       "    <tr>\n",
       "      <th>1572844</th>\n",
       "      <td>\" The first of a massive horde of beers compliments of tburkhart for the Secret Santa. \\t\\tPours a foggy orange hued brown. Nice creme head. Nose is quite citric. Flavor is the same with pungent salty hops. Almost seems to be a touch of apples on there as well. Feel has a silky smooth kind of carbonation. Liquid is well bodied. This is a nice IPA. Hearty and robust, I think this would be interesting in a cask version.\\t\\t12 ounces of beer down, 286 to go!\\t\\t\"</td>\n",
       "    </tr>\n",
       "    <tr>\n",
       "      <th>1572878</th>\n",
       "      <td>Pours a slightly hazed golden yellow that gets fairly hazy with sediment from the bottom. This beer reminds me of a lot of Eastern Block lagers. Smooth and slightly sweet. Seems to be a touch of booze as it warms? Still quite easy to drink and smooth. They should can this and mass market it. IMO.\\t\\t</td>\n",
       "    </tr>\n",
       "    <tr>\n",
       "      <th>1572916</th>\n",
       "      <td>\" Thanks to tburkhart, I'll be able to try this one in my Mad Anthony glass while wearing my Mad Anthony sweatshirt.\\t\\tPours a foggy dull amber. Nose is kind of nutty it seems. Flavor brings the same. Overall sweet tone that's not overbearing. But mostly that nutty character is all that shows. Feel has a carbonationcthat nibbles fairly aggressively at the tongue. Liquid is typical, this is a nice enough brew. Well put together and an easy session brew.\\t\\t\"</td>\n",
       "    </tr>\n",
       "    <tr>\n",
       "      <th>1573001</th>\n",
       "      <td>\" Pours perfectly clear amber with a nice frothy crme head. Flavor carries a decent grain body. Almost seems to be an alcohol bite there, but in actuality, it's not. Feel is smooth on liquid with a decent carbonation. Not a bad first beer to start off my French artisanal brew trip on.\\t\\t\"</td>\n",
       "    </tr>\n",
       "    <tr>\n",
       "      <th>1574089</th>\n",
       "      <td>\" Pours extremely dark with a very dark ruby color to it. Whatever head is there after a very firm pour quickly goes away. Nose is firm wood, nut, and caramel. Lots of deep red wood mostly though. Flavor is a faint, but noticeable nut on top of a robust leafy and woody character with a strongly pronounced sweetness. Feel is fairly syrup like on the liquid and low on the carbonation. Overall very drinkable. A good brew. A bit lacking it seems in certain areas, but still pleasurable.\\t\\t\"</td>\n",
       "    </tr>\n",
       "    <tr>\n",
       "      <th>1574117</th>\n",
       "      <td>\" Pours a slightly clouded amber. No head. Nose is slightly sweet with a touch of a dry leaf character. It is definitely a smooth flavor profile though. Feel is good on the liquid and the carbonation as well. Overall a good drinking experience. I just have to say that every altbier I have tried, I don't really dig so much. Maybe the style isn't for me.\\t\\t\"</td>\n",
       "    </tr>\n",
       "    <tr>\n",
       "      <th>1574167</th>\n",
       "      <td>\" Pours a clouded gold with very little head. Nose is light fruits with a very faint touch of piney hops. Almost an effervescent orange on there as well. Very light. Flavor has a hoppy tone to it. Full, but not overpowering. Strong, but not shoving it down your throat. I guess I will describe it as full. Feel is a bit thicker on the liquid and high on carbonation. Very drinkable. A well crafted and calmer APA. Worth a shot.\\t\\t\"</td>\n",
       "    </tr>\n",
       "    <tr>\n",
       "      <th>1574235</th>\n",
       "      <td>\" Pours a fully fogged in amber. Nose is pretty subdued with a metallic edge and slight hops. There is a pretty distinct alcohol edge that peeked out when things got warmer. Flavor is a bit meaty with a fairly prominent alcohol on the tongue. Slight hop character and a bitter tang is there. I would be interested to know the precise ABV on this puppy. Feel is good with the bubble and kind of thick on the liquid. Overall drinkable. Though the hit of alcohol on the tongue doesn't really add. Is kind of a mild DIPA and doesn't really carry any punch in the mouth as far as that goes. Smooth, but doesn't really carry a mass of character. Do away with that alcohol showing up and you'd make things even more interesting I think.\\t\\t\"</td>\n",
       "    </tr>\n",
       "    <tr>\n",
       "      <th>1574935</th>\n",
       "      <td>It's time like these that take me back to my late teenage years when I tasted Spaten for the first time and though to myself,\" \"\"What the hell is this?? This is what beer can be??\"\" \\t\\tPours a very dark brown amber. Looks ruby tinted when held to light. Nose is mild cherry woods. Stays consistent and never waivers. Flavor is mildy sour. Mild wood character. Really; mild is the key word here. Feel is thick a bit on the liquid and good on the bubble. Overall pretty drinkable. Seems a bit rough around the edges (though it isn't much really). Definitely a very good version of the style, but not the absolute greatest. This might be a good introductory beer for newcomers to the style.\\t\\t\"</td>\n",
       "    </tr>\n",
       "    <tr>\n",
       "      <th>1575710</th>\n",
       "      <td>\" Strange thing about this is that the name states IPA, but at the Chelsea Cask Festival, it clearly states that it is an English Bitter.\\t\\tPours a murky orange hued brown. No head. Nose is mild with a very slightly roasted tone. Flavor is interesting. I'm getting spices. And they keep coming and coming. Pepper. Clove. Probably a ton of other things I just don't know about as far as spices go. Nice earthy and woody tones. Smooth feel with a low but slightly noticeable carbonation. Damn this is pretty interesting. It struck me as odd that several people didn't care for this beer at the Chelsea Cask Festival. From my point of view, this is definitely worth trying. Just expect an unusual flavor ride.\\t\\t\"</td>\n",
       "    </tr>\n",
       "    <tr>\n",
       "      <th>1576636</th>\n",
       "      <td>Sweet. 16 ounce cans. I can dig that. \\t\\tPours a foggy amber brown with a creme head. Nose is an earthy kind of pine. Flavor has a distinct tangy almost resin edge to it. I also get a resin/chalky thing too. It's fairly dry I have to say. Overall pretty pine like (surprise!). Feel is smooth and slick on liquid. Low on carbonation. Pretty easy to drink I have to say. I bet this would be pretty damn nice on cask.\\t\\tHuge thanks to a noon trader champ103 for this one.\\t\\t</td>\n",
       "    </tr>\n",
       "    <tr>\n",
       "      <th>1579571</th>\n",
       "      <td>\" Thanks out to ArrogantB for this one as part of a big generous trade. \\t\\tPours into my Brooklyn snifter/tulip a clear but fairly dark brown with nice amber tones when held to light. Thin creme head. Nose is figs, raisins, caramelized sugars, leaf tones, and mild earth. Very hearty and very nice. Flavor is malty thick with firm sweet tones. Nice fruit and fig edges, though the alcohol is noticeably present and sits in the back of my mouth. I am sure that age would deal with that though. Feel is quite smooth on liquid and the carbonation is sharp. Very nice to drink. Will have to get some more of these and lay them down.\\t\\t\"</td>\n",
       "    </tr>\n",
       "    <tr>\n",
       "      <th>1580579</th>\n",
       "      <td>\" Pours a slightly fogged, dull hued brownish amber. Minimal head off a soft pour. Nose is a slight syrupy thing with sweet leafy tones. Mild spices. Flavor is fairly robust on the spices with a sweet tone that carries fruit edges. Seems like cherries, but a subdued one. I guess I can see spruce tips in there. I'm a little rusty on my spruce tips memories. Feel has a bit of an attacking carbonation and the liquid is a bit thick and syrupy. Overall a pretty hearty brew that's worthy of being called a winter ale. I'd prefer to drink this by a fire.\\t\\t\"</td>\n",
       "    </tr>\n",
       "    <tr>\n",
       "      <th>1581237</th>\n",
       "      <td>\" Pours a clear goldish amber with a decent creme head. Nose is malts and floral tones. Flavor is salty and acidic really. There are earthy and leafy tones with some minor backside citrus oily hops to it, but it's not really the level of balance that would make me happy. Feel has a full and biting carbonation to it and the liquid is about typical. A decent IPA, but lacking a slight touch of balance and grace to make it easier to drink.\\t\\t\"</td>\n",
       "    </tr>\n",
       "    <tr>\n",
       "      <th>1581823</th>\n",
       "      <td>\" 2005 Release. Sampled 11-23-06 \\t\\tPours very dark brown that no light can pass through. Slightly smoky nose that reminds me of being in Ireland and riding in the van of a peat deliveryman. Flavor is just the same, but more. Very strong smoke flavor, that I think is very overdone and shows no balance. Feel is decent, but I think overall there is no balance and the smoke completely leans it too far to one side. Low Drinkability. \\t\\tI had high expectations but lower results than expected. Would only go back to this if it were a different years release.\\t\\t\"</td>\n",
       "    </tr>\n",
       "    <tr>\n",
       "      <th>1582480</th>\n",
       "      <td>\" Pours a clear but fairly dark brown with a sizeable creme head. The nose is a lot of spices with dough and yeast and just a good overall funk. Hoooh! Hello spices! I'm getting figs and lots of fruit. This is almost like drinking a fruit cake. Nice and spicy and fruity. Feel has a lot of carbonation, but it doesn't really interfere with anything here. Very nice to drink. A good winter treat.\\t\\t\"</td>\n",
       "    </tr>\n",
       "    <tr>\n",
       "      <th>1582914</th>\n",
       "      <td>\" Pours a dark brown with a creme head. Nose is like tea leaves! Amazing. That's a first. Flavor is tea as well. Wtf? Sweet, we. But man this is like drinking iced tea beer. And I hate iced tea. Smooth feel on both sides. Nice to drink, but this tea thing trips me out. Is it really like this, or is this a fluke, I wonder.\\t\\t\"</td>\n",
       "    </tr>\n",
       "    <tr>\n",
       "      <th>1583492</th>\n",
       "      <td>\" Pours a light gold and is much lighter and doesn't have the punch and flavor of the brown ale. Which is absolutely normal since this is the pale ale. Overall, pale ales are less my style and I would tend to side with the brown, which I admit I am biased towards because of personal preference. Rating it on it's style, it is very well made and is definitely worth trying. It is just not my most favorite style is all.\\t\\t\"</td>\n",
       "    </tr>\n",
       "    <tr>\n",
       "      <th>1584303</th>\n",
       "      <td>\" Pours a foggy gold. Nose is an orange citrus earthy thing. Flavor is nice and earthy. Kind of a muddy thing. Pretty smooth, but very robust. Caramel is in there as well. Smooth liquid feel. Nice carbonation. I like this beer. A nice asy drinking IPA. This is what an IPA can be when it's not an outlandish American version.\\t\\t\"</td>\n",
       "    </tr>\n",
       "    <tr>\n",
       "      <th>1585116</th>\n",
       "      <td>\" Pours dark with a real thin tan head. Nose is coffee and sickly sweet malts. Too sweet really. Flavor is nice and robust, yes. There is coffee, yes. But the sweetness of the whole thing is just too much of a kick in the mouth. There's also that odd almost citrus back tone. Feel is slick on liquid and the carbonation is lower but smooth. IMO this is lacking the right balance to be able to pull it off. Perhaps it needs some time to even out, but I guess I'll never know since this is the only bottle I have. Oh well.\\t\\t\"</td>\n",
       "    </tr>\n",
       "    <tr>\n",
       "      <th>1585567</th>\n",
       "      <td>\" Pours a cloudy orange/brown with a thick creme head. Nose is mildly woody with some citrusy hops. Very, very smooth citrus, bitter, hoppy profile. Bitter but smooth. Feel is the same. Smooth and slightly sticky liquid and an appropriate carbonation. A great drinker. Some beers were meant to be served via cask.\\t\\t\"</td>\n",
       "    </tr>\n",
       "    <tr>\n",
       "      <th>1585574</th>\n",
       "      <td>\" Pours a very foggy orange/brown/amber. No head. Just a slight foam thing. Nice perfumed flavor profile with a biting citric edge. Firmly defined bitter tone. Even though it's pretty strong, I want to say it s well balanced in its strong bitterness. Nice carbonation and a well bodied liquid feel. Extremely drinkable. Be prepared to order another after 3 minutes.\\t\\t\"</td>\n",
       "    </tr>\n",
       "    <tr>\n",
       "      <th>1585604</th>\n",
       "      <td>\" Pours a straw yellow. Smells like dried straw too! Slight citrus. When I smell this, I just think about farms and fields and butterflies and stepping in cow patties. Actually I dontctjonk about butterflies or cow parties at all. Flavor is slightly cereal sweet. Grain is there. Grass too. Slick smooth feel. Pretty easy to drink despite the earthy tones.\\t\\t\"</td>\n",
       "    </tr>\n",
       "    <tr>\n",
       "      <th>1585644</th>\n",
       "      <td>\" Pours a barely hazes amber. Nose is sticky hops. Flavor is the same. Sticky and stringent. Pine and citrus hop tones are there, but it's out of whack. Also a bit of a salty back end. There's no balance from what I gather. Feel is smooth ok liquid and carbonation is lower. Eh. This doesn't suck. But it's a bit too wacky for me. It does mellow out a bit as it warms, but still. Doesn't make too much sense really.\\t\\t\"</td>\n",
       "    </tr>\n",
       "    <tr>\n",
       "      <th>1585727</th>\n",
       "      <td>\" Pours pitch black with a minimal tan head. Malty nose. Flavor is thicj. Great molasses tones and a noticeable coffee. Robust, great flavor profile, and firm. Hooooieee! I get a coffee aftertaste that hits late and stays for some time. Lovely. Nice carbonation with a good liquid feel. Very drinkable. Full robust qualities. An excellent stout.\\t\\t\"</td>\n",
       "    </tr>\n",
       "    <tr>\n",
       "      <th>1585742</th>\n",
       "      <td>\" Pours pitch brown. Nice tan head. Nice creamy nose. Minor coffee tones are there. Flavor is smooth. The malty body doesn't bowl you over with crazy character, but it does deliver a smooth profile. Seems to be an appropriate bitter edge. The feel is smooth, as is the overall drinkability. An easy drinking porter with just enough oomph to keep it interesting.\\t\\t\"</td>\n",
       "    </tr>\n",
       "    <tr>\n",
       "      <th>1585761</th>\n",
       "      <td>Sampled 4-23-2007. Pours pitch black with a dark tan/brown head. Nose is pretty mild. Not much going on here. Flavor is milder and smooth. More of a sweet tone with an underlying bitter edge. Feel is thick on liquid and low on bubble. Definitely drinkable. A smooth stout that delivers a calm experience.\\t\\t</td>\n",
       "    </tr>\n",
       "    <tr>\n",
       "      <th>1585808</th>\n",
       "      <td>\" Pours a foggy amber (surprise!). Flavor has a mild citrus tang to it and an overall leafy and earthy thing. Brings a nice level of complexity to it, but nothing Earth-shattering. Gives a biting carbonation with a smooth liquid feel. This is a very nice beer that is a pleasure to drink. Quite tasty.\\t\\t\"</td>\n",
       "    </tr>\n",
       "  </tbody>\n",
       "</table>\n",
       "<p>1891 rows × 1 columns</p>\n",
       "</div>"
      ],
      "text/plain": [
       "                                                                                                                                                                                                                                                                                                                                                                                                                                                                                                                                                                                                                                                                                                                                                                                                                        text\n",
       "2484                                                                                                                                                                                                                                                                                                                                                      \" Pours a clear, but darker ruby hued brown. Thin light tan head. Flavor is sweet, and too much so I have to say. Calms down a bit over time, but the memory of it sticks with me. Fruit tones and a tart bitterness ride on the backside of things. Feel is slick on liquid and the carbonation is slightly subdued. This is an okay beer. As it warms it's initially abrasive qualities seem to calm down a bit and I enjoy it more than I thought I would.\\t\\t\"\n",
       "2485     \" Quite the schnazzy label we've got here. \\t\\tPours a foggy orange gold with a decent off-white head. Nose is like fruit that's been sitting out too long. Wow. Flavor is clearly smoked. This is like a rauchbier, yet Belgian in style. Defined meat tones and smoky as well. As I drink more of it, I see where it comes from on the nose. Besides everything else so far, there is a clear sweet edge with fruit tones as well. As time goes on the rauch qualities fade away and a sweet tone really sets in. Yet occasionally the rauch character hits me in the back of the mouth as an aftertaste ever so subtly. Feel is slick and smooth, yet a bit thick, on liquid. Carbonation is middle of the road. Well this was an interesting beer. I definitely suggest you try it if you have the chance.\\t\\t\"\n",
       "2487                                                                                                                                                                                                                                                                                                                                                                                                                                                                           \" Pours a foggy orange with a brown touch and a thicker light head. Nose is like citrus rinds and concentrated orange as well. Flavor is intense orange, almost like the flavor of Tang. A bit too much IMO. Feel has a fuller carbonation. Liquid is about right. This beer just doesn't work for me. Way too much tang and unbalanced.\\t\\t\"\n",
       "2488                                                                                                                                                                                                                                                                                                                                                                                                                                                  \" Pours a foggy orange gold with a decent sized crme head. Nose is quite sweet, but not overpowering. Definite citrus as well. Flavor is interestingly complex. Sweet tones are firmly there with numerous fruit layers. Feel is a bit thicker on liquid. Carbonation is full enough, though not abrasive. I like this beer. Quite tasty and a pleasure to drink.\\t\\t\"\n",
       "2989                                                                                                                                                                                                                                                                                                                                                                                                                                                               Pours a slightly hazed orange amber. Nose is a lot of dough and spices. Flavor is tangy with citrus. Nice level of sweetness. Spices are backing it up. Smooth and nice really. Much better than I was expecting. Feel is smooth on liquid. But the one detractor is the carbonation. A bit too much IMO. However. This is still a pretty tasty brew.\\t\\t\n",
       "3229                                                                                                                                                                                                                                                                               \" Pours a clear very dark amber with brown and reddish tints. Minimal tannish head doesn't really stay long, but leaves decent lacing on the way down. Nose is super floral hops. Strong and unrelenting. Flavor is very strong. Acidic almost at first. Firm woody edges. Very, very earthy. Feel is sticky on liquid and the carbonation is good. Surprisingly, this ends up being a pretty drinkable DIPA as I tore through the bottle and was finished well before I wished. A nice DIPA, though a bit heavy on the robust side.\\t\\t\"\n",
       "3874                                                                                                                                                                                                                                \" Pours a clear amber with a full creme head that sticks around and leaves nice lace on the way down. Nose is hoppy, of course, but has a soapy edge. Overall fragrances are not very powerful and carry very minor pine character. Flavor is smooth. Balanced bitter tones with noticeable leafy and woody hop tones, though not firm or anywhere near overpowering. Seems like some alcohol is there as well. Feel is nice. Pretty full carbonation on a slick liquid feel. This is a nice drinker. More woody than most other things. I think this on cask would be interesting.\\t\\t\"\n",
       "5568                                                                                                \" Pours pitch black and thick with a smaller dark tan head that forms and falls to nothing. No lacing. Malty tones on the nose. Extremely slight amount of roasted edge to it. Flavor is extremely smooth. Unbelievably smooth. Thick malts accented by mild oat. Sweet tone almost like a molasses that's more smooth and sweet than thick and bitter with a biting edge. Man, oh man. Very mild amount of alcohol biting on the back side. On the aftertaste I feel it burning just a slight bit as well. Feel is thick on liquid and carries a low, but smooth enough carbonation. Is this easy to drink? You better believe it. Truly exceptional. I wish I had a case of this instead of just this one bottle.\\t\\t\"\n",
       "6887                                                                                                                                                                                                                                                                                                                                                                                    \" Pours a clouded amber. Light tan head. Nose is fruity with some kriek and raspberry lambic kind of tones. Flavor is a slight fruit with a sourness on the same level. This is like a lambic, a flanders red, and a Belgian ale mixed into one. But more so leaning towards the flanders. Feel is smooth on the liquid, but a bit thin. Nice carbonation to it. Overall very drinkable. Smooth and well defined. Worth trying.\\t\\t\"\n",
       "7054                                                                                                                                                                                                                                                                              \" Love the graphics on this bottle. Love the bottle cap. Pours a clouded brown hued orange/gold with a decent purely white head. Nose is mainly citrus. Also seems strongly like some kind of citrus toned cleaning product. Flavor is oddly doughy with strong floral tones. Unique. Very floral-forward. Feel is smooth on liquid. Carbonation bites and nips at the mouth rather sharply. This is a nice ale to drink. A bit robust and intense, but carries some good characteristics that makes it an interesting ale to sip on.\\t\\t\"\n",
       "8495                                                                                                                                                                                                                                                                                                                                                                                                                               \" Pours a foggy orange hued brown. Decent creme head. Nutty nose. Flavor is unusual. A bit tangy with citrus and a very noticeable nutty character. Feel has a sharp carbonation that nips the tongue. Liquid is a bit thicker and sticky. An interesting APA. Doesn't really fit what I consider the style to be, but it works. \\t\\tThanks to Cresant for a chance to try this one.\\t\\t\"\n",
       "8752                                                                                                                                                                                                                                           \" Pours black with a light brown head. Nose is sweet molasses with dark baking chocolate. Flavor is roasted and smoked a bit. Bourbon kicks a slight bit, yes. Smooths out over subsequent sips. Thick malts. Warming aftertaste.as it warms it gets much better, displayin cocoa character and a thick, even, and lasting flavor profile. (it's enough to bump up the score .5) Feel is thick on liquid but appropriately lower on carbonation. An easy to drink stout. I wonder what age would do to this.\\t\\tThanks to Grafter for this one on a very generous trade.\\t\\t\"\n",
       "10149                                                                                                                                                                                                                                                                                                               \" Thanks to DHGranstrand for this bottle in a recent trade. Pours like midnight with a decent sized tan head. Nose is like molasses and tar, but really there isn't a whole lot of it there. Flavor is thick with molasses tones. Noticeable roasted aspect to it is there. Nice thick flavor profile that stays consistent. Just a slightly biting carbonation to it. Liquid is slick. Pretty nice to drink on this one. A very robust and well made stout. A nice sipper and a pleasure to drink.\\t\\t\"\n",
       "11555                                                                                                                                                                                                                                                                                                                                                                                                                                     \" Pours a clear yellow with a white head. Nose is almost non-existent. Flavor is smooth. Decent grain tones with a bit of an earthy bite. Feel is smooth on liquid. Carbonation is decent and jut slightly high. Overall an easy drinker. There are certainly some bad examples of this style out there and this isn't one of them. Not going to blow you away, but it works.\\t\\t\"\n",
       "12820                                                                                                                                                                                                                                                                                                                                                                                                                                                                                                                                 I got the last bit of this one out of the cask. Pours a slightly clouded amber with a frothy creme head. Nose is fruity nuts. Flavor oddly reminds me of a white wine. Chalky dryness. Feel is smooth and drier like a cotton ball. Very nice ESB. Could go for numerous of these.\\t\\t\n",
       "12987                                                                                                                                                                                                                                                                                                                                                                                                                                      Pours a clear dark amber brown. No head. Nose is like almost a caramel that has been overcooked. Bordering on burnt. Flavor is leafy. Kind of a dead leaf kind of thing. A bit rustic and worn down. Kind of slightly sweet on the side. Feel is thick on the liquid with standard carbonation. Overall this is one you wouldn't miss much on if you passed. No great shakes.\\t\\t\n",
       "13357                                                                                                                                                                                                                                                                                                                                                                         Pours a dark brown with basically no head. Nose is like roasted qualities. Flavor is roasted and just an old coffee bean kinda flavor profile. Feel is standard. Just feels a touch light. Lots of carbonation. Overall this is an odd porter. I can't really put it up against others I have had as far as similarities go. The body seems lighter for a porter. Overall though it is pretty drinkable. I would just never go back to it.\\t\\t\n",
       "15472                                                                                                                                                                                                                                                                                                                                                                                                          \" Pours an almost opaque black with ruby lining the edges. Nose is strong with chocolatey roasted goodness. Flavor is slightly bold with coffee tones, but also an interesting infusion of hops at the end after the coffee hits you. Feel is silky over the tongue. Definitely drinkable. Smooth and pleasurable. This wont go down as the world's greatest porter, but it's a pretty good one overall.\\t\\t\"\n",
       "15782                                                                                        \" Off notes from 3-2007. Pours a clouded garnet/ruby with a nice tan head that falls. Nose is beautiful. Strong wood influence with cherry tones. You can tell this was made with care. Flavor is a mild wood with a stronger cherry profile. Feel has a thick bubble to it that hits the back of my mouth and leaves quickly. The liquid feel seems a bit thin. This reminds me oh so much of a lambic. Overall, very drinkable. It might have to be your cup of tea, but I dig it. If you like lambics, you will like this. After two 9 ounce beers and a burger, this was my dessert. As it got closer to the end, I wished there would have been more. \\t\\tI weep for you if you go in and this beer is not available.\\t\\t\"\n",
       "16115                                                                                                                                                                                                                                                                                                            \" Pours a very slightly clouded amber with a white head. Nose is smooth hops with the expected citrus tones. Flavor is slightly bitter with a somewhat strong hop edge that lingers. I am convinced there is an underlying apricot flavor here. It never punches you in the mouth, but it continually caresses the palate. Feel is good with the bubble on my tongue and meaty on the liquid. Drinkable. Though the mature bitter edge seems to detract just a touch. Overall, it's still pretty good.\\t\\t\"\n",
       "17586                                                                                                                                                                                                                                                                                 \" Pours a foggy darker brown/amber with a ruby hue and a thick creme head. Nose is clogged with character. Globs of hops and malts with alcohol in the mix as well. Flavor is fully hops. It reminds me a lot of the DFH 120. Just thick hop character that needs some time to calm down. Sickly sweet aftertaste lingers after the ridonkulous hop invasion. Feel is pretty smooth.\\t\\tThis needs time to mellow. I say don't drink it immediately, but feel free to grab a couple bottles so that you can observe it over time.\\t\\t\"\n",
       "18367                                                                                                                                                                                                                                                                                                                                                                                                                                                                                                                                     \" Pours pinkish red. Pink head. Nose is bland. Cherry and one-dimensional. Flavor is cherry, and it is so-so. Too much fruit juice, not enough beer. Feel is thin on liquid and the carbonation is fairly vibrant. I don't dig this. Too much fruity and not enough beerness.\\t\\t\"\n",
       "19288                                                                                                                                                                                                                                                                                Pours a dark ruby hued brown with a thin tan head. Nose is malty with an almost cardboard tree kind of thing going on. The first thing I thought when I took a sip was,\" boozy! Thankfully that seems to fade away as time goes on. What I get after that is a thick malty backbone with a sweet earthy edge. Peaty edge on the backside. Full flavor profile, not a mass of complexity. Feel is smooth on liquid and carbonation is lower. After the booze calms down here this gets better.\\t\\tThanks to tburkhart for this one.\\t\\t\"\n",
       "20234                                                                                                                                \" Pours black with a brownish head. Nose is boozy with touches of molasses. Flavor is intense coffee off the first hit. Lots of roasted malts. Just a punch in the mouth nearly. Mellows out and gives a lot of molasses too fairly quickly. Thick and robust. Seems a bit too boisterous to be bringing the subtleties that you might be able to draw off the other \"\"biggies.\"\" Either way, who cares. It's still hearty and robust and carries a great flavor profile. Thick molasses and quite malty. (But mostly, it's bringing the molasses.) Feel is thick and smooth on liquid. Carbonation is low. A pretty intense and hearty RIS. Another Founders beer I have enjoyed.\\t\\t\"\n",
       "20968                                                                                                                                                                             \" Pours a quite foggy orange gold with a thinner light creme head. Nose is pungent pine and salty hops. Flavor is quite salty and intense. Not precisely the \"\"wet-hopped\"\" characters I would expect, but really\",\" how wet can the hops be upon delivery to Michigan? Not hatin', just sayin'. On the powerfully salty hops with minor pine tones there seems like some obliterated lemon tang as well. Feel is smooth and slightly thick on liquid and the carbonation is middle of the road. This is super hoppy and I can dig it. But the label says \"\"wet-hopped ale\"\" and I would have never guessed so in a blind taste test.\\t\\t\"\n",
       "22191                                                                                                                                                                                                                                                                                                                                                                                                                                                 \" Pours pitch black with a dark tan head. Nose is coffee, molasses. Flavor is oustanding. Unbelievably thick and complex. Loads of coffee. Good amount of molasses. Massive malts. It's like a meal in a bottle. Feel is smooth on liquid and with a minimal carbonation. This is a damn good beer. Simply amazing and much better than I recall it being on-tap.\\t\\t\"\n",
       "22412                                                                                                                                                                                                                                                                                                                                                                                                                                                                                                                           \" Pours pitch black with a tan head. Flavor is woody, earthy, but mostly malts with some coffee in the mix. Nice bitter edge that is very noticeable, but works well. Feel has a biting carbonation and a nice enough liquid feel. For what it is, very easy to drink. Vedy, vedy nice.\\t\\t\"\n",
       "24074                                                                                                                                                                                                                                                                                                                         \" Pours a reddish/pinkish hue with a very small pink head. Nose is definitely raspberries. Nice and full edge. Flavor is definitely fruity and full of raspberries. But this tastes like Kool-Aid with alcohol in it to me. A bit too one sided with not a lot of complexity to it. The feel has a great level of carbonation that just soothes the mouth. Overall though, this leaves a lot to be desired. No complexity and too much kool-aid-ness. I'd pass on this next time I think.\\t\\t\"\n",
       "25389                                                                     \" Listen kids. Do as I say and not as I do. Do not pour firmly with this one unless you want a six inch head. \\t\\tPours dark brown with a tan head that is massive from way too firm a pour. Nose is a mass of complexity. Definite malts here. Caramel, wood tones, and just a good amount of things to take in. Flavor is pretty meaty with a consistent wood character going on. Thick caramel sweetness is there as well. Nice and robust. It seems like I am getting a small amount of alcohol on the flavor though. Feel has a decent carbonation and a smooth liquid feel. Overall pretty good. Nice and hearty and pretty rustic. I can't say it is really lacking, but I can't say it is the smoothest of the style I have ever had.\\t\\t\"\n",
       "25981                                                                                                                                                                                                                                                                          \" Pours like carbonated Kool-Aid. Foggy red, and absolutely no head. Weird. Nose is raspberry toned for sure and not much else. Flavor is overpowering raspberries. In your face, in your mouth, and up in everything else it can get into. Very tangy and distinct. Feel has a lot of carbonation and a decent liquid feel, but it leaves a real sticky feel in the mouth that seems odd. This is a decently well made beer that goes way overboard with the raspberries. It is just too much and creates a one dimensional experience.\\t\\t\"\n",
       "...                                                                                                                                                                                                                                                                                                                                                                                                                                                                                                                                                                                                                                                                                                                                                                                                                      ...\n",
       "1572711                                                                                                                                                                                                                                                                                                                                                                     \" Pours a brown hued orange with a very thin creme head. Nose is biting citrus with hops trailing. Flavor is vibrant. Citrus and hops. Very \"\"bright.\"\" Hops seem to create a bit of a sweet tone, with a minor bitter bite on the back end. Feel is thicker and smooth on liquid. Carbonation is slightly boisterous. A nice pale ale that comes off as an IPA to me. Would probably do well on cask.\\t\\tThanks to tburkhart for this one.\\t\\t\"\n",
       "1572780                                                                                                                                                                                                                                                                 \" Pours black with a very frothy light tan head. Nose is a roasted thing with minor molasses and a good load of coffee. Flavor is earthy and a fair portion of coffee. The flavor is a bit difficult to decipher as the carbonation is so intense and extremely full that it hinders the delivery of flavor. Still though, it's nice. Overall a pretty decent porter, except the issue of the carbonation.\\t\\tThanks to tburkhart for this one.\\t\\tEdit\",\" After warming up, the intense carbonation subdues and the flavor more clearly shows.\\t\\t\"\n",
       "1572844                                                                                                                                                                                                                                                                                                                                     \" The first of a massive horde of beers compliments of tburkhart for the Secret Santa. \\t\\tPours a foggy orange hued brown. Nice creme head. Nose is quite citric. Flavor is the same with pungent salty hops. Almost seems to be a touch of apples on there as well. Feel has a silky smooth kind of carbonation. Liquid is well bodied. This is a nice IPA. Hearty and robust, I think this would be interesting in a cask version.\\t\\t12 ounces of beer down, 286 to go!\\t\\t\"\n",
       "1572878                                                                                                                                                                                                                                                                                                                                                                                                                                                                                                        Pours a slightly hazed golden yellow that gets fairly hazy with sediment from the bottom. This beer reminds me of a lot of Eastern Block lagers. Smooth and slightly sweet. Seems to be a touch of booze as it warms? Still quite easy to drink and smooth. They should can this and mass market it. IMO.\\t\\t\n",
       "1572916                                                                                                                                                                                                                                                                                                                                       \" Thanks to tburkhart, I'll be able to try this one in my Mad Anthony glass while wearing my Mad Anthony sweatshirt.\\t\\tPours a foggy dull amber. Nose is kind of nutty it seems. Flavor brings the same. Overall sweet tone that's not overbearing. But mostly that nutty character is all that shows. Feel has a carbonationcthat nibbles fairly aggressively at the tongue. Liquid is typical, this is a nice enough brew. Well put together and an easy session brew.\\t\\t\"\n",
       "1573001                                                                                                                                                                                                                                                                                                                                                                                                                                                                                                                   \" Pours perfectly clear amber with a nice frothy crme head. Flavor carries a decent grain body. Almost seems to be an alcohol bite there, but in actuality, it's not. Feel is smooth on liquid with a decent carbonation. Not a bad first beer to start off my French artisanal brew trip on.\\t\\t\"\n",
       "1574089                                                                                                                                                                                                                                                                                                          \" Pours extremely dark with a very dark ruby color to it. Whatever head is there after a very firm pour quickly goes away. Nose is firm wood, nut, and caramel. Lots of deep red wood mostly though. Flavor is a faint, but noticeable nut on top of a robust leafy and woody character with a strongly pronounced sweetness. Feel is fairly syrup like on the liquid and low on the carbonation. Overall very drinkable. A good brew. A bit lacking it seems in certain areas, but still pleasurable.\\t\\t\"\n",
       "1574117                                                                                                                                                                                                                                                                                                                                                                                                                                              \" Pours a slightly clouded amber. No head. Nose is slightly sweet with a touch of a dry leaf character. It is definitely a smooth flavor profile though. Feel is good on the liquid and the carbonation as well. Overall a good drinking experience. I just have to say that every altbier I have tried, I don't really dig so much. Maybe the style isn't for me.\\t\\t\"\n",
       "1574167                                                                                                                                                                                                                                                                                                                                                                     \" Pours a clouded gold with very little head. Nose is light fruits with a very faint touch of piney hops. Almost an effervescent orange on there as well. Very light. Flavor has a hoppy tone to it. Full, but not overpowering. Strong, but not shoving it down your throat. I guess I will describe it as full. Feel is a bit thicker on the liquid and high on carbonation. Very drinkable. A well crafted and calmer APA. Worth a shot.\\t\\t\"\n",
       "1574235                                                       \" Pours a fully fogged in amber. Nose is pretty subdued with a metallic edge and slight hops. There is a pretty distinct alcohol edge that peeked out when things got warmer. Flavor is a bit meaty with a fairly prominent alcohol on the tongue. Slight hop character and a bitter tang is there. I would be interested to know the precise ABV on this puppy. Feel is good with the bubble and kind of thick on the liquid. Overall drinkable. Though the hit of alcohol on the tongue doesn't really add. Is kind of a mild DIPA and doesn't really carry any punch in the mouth as far as that goes. Smooth, but doesn't really carry a mass of character. Do away with that alcohol showing up and you'd make things even more interesting I think.\\t\\t\"\n",
       "1574935                                                                                                It's time like these that take me back to my late teenage years when I tasted Spaten for the first time and though to myself,\" \"\"What the hell is this?? This is what beer can be??\"\" \\t\\tPours a very dark brown amber. Looks ruby tinted when held to light. Nose is mild cherry woods. Stays consistent and never waivers. Flavor is mildy sour. Mild wood character. Really; mild is the key word here. Feel is thick a bit on the liquid and good on the bubble. Overall pretty drinkable. Seems a bit rough around the edges (though it isn't much really). Definitely a very good version of the style, but not the absolute greatest. This might be a good introductory beer for newcomers to the style.\\t\\t\"\n",
       "1575710                                                                             \" Strange thing about this is that the name states IPA, but at the Chelsea Cask Festival, it clearly states that it is an English Bitter.\\t\\tPours a murky orange hued brown. No head. Nose is mild with a very slightly roasted tone. Flavor is interesting. I'm getting spices. And they keep coming and coming. Pepper. Clove. Probably a ton of other things I just don't know about as far as spices go. Nice earthy and woody tones. Smooth feel with a low but slightly noticeable carbonation. Damn this is pretty interesting. It struck me as odd that several people didn't care for this beer at the Chelsea Cask Festival. From my point of view, this is definitely worth trying. Just expect an unusual flavor ride.\\t\\t\"\n",
       "1576636                                                                                                                                                                                                                                                                                                                           Sweet. 16 ounce cans. I can dig that. \\t\\tPours a foggy amber brown with a creme head. Nose is an earthy kind of pine. Flavor has a distinct tangy almost resin edge to it. I also get a resin/chalky thing too. It's fairly dry I have to say. Overall pretty pine like (surprise!). Feel is smooth and slick on liquid. Low on carbonation. Pretty easy to drink I have to say. I bet this would be pretty damn nice on cask.\\t\\tHuge thanks to a noon trader champ103 for this one.\\t\\t\n",
       "1579571                                                                                                                                                           \" Thanks out to ArrogantB for this one as part of a big generous trade. \\t\\tPours into my Brooklyn snifter/tulip a clear but fairly dark brown with nice amber tones when held to light. Thin creme head. Nose is figs, raisins, caramelized sugars, leaf tones, and mild earth. Very hearty and very nice. Flavor is malty thick with firm sweet tones. Nice fruit and fig edges, though the alcohol is noticeably present and sits in the back of my mouth. I am sure that age would deal with that though. Feel is quite smooth on liquid and the carbonation is sharp. Very nice to drink. Will have to get some more of these and lay them down.\\t\\t\"\n",
       "1580579                                                                                                                                                                                                                                        \" Pours a slightly fogged, dull hued brownish amber. Minimal head off a soft pour. Nose is a slight syrupy thing with sweet leafy tones. Mild spices. Flavor is fairly robust on the spices with a sweet tone that carries fruit edges. Seems like cherries, but a subdued one. I guess I can see spruce tips in there. I'm a little rusty on my spruce tips memories. Feel has a bit of an attacking carbonation and the liquid is a bit thick and syrupy. Overall a pretty hearty brew that's worthy of being called a winter ale. I'd prefer to drink this by a fire.\\t\\t\"\n",
       "1581237                                                                                                                                                                                                                                                                                                                                                         \" Pours a clear goldish amber with a decent creme head. Nose is malts and floral tones. Flavor is salty and acidic really. There are earthy and leafy tones with some minor backside citrus oily hops to it, but it's not really the level of balance that would make me happy. Feel has a full and biting carbonation to it and the liquid is about typical. A decent IPA, but lacking a slight touch of balance and grace to make it easier to drink.\\t\\t\"\n",
       "1581823                                                                                                                                                                                                                                 \" 2005 Release. Sampled 11-23-06 \\t\\tPours very dark brown that no light can pass through. Slightly smoky nose that reminds me of being in Ireland and riding in the van of a peat deliveryman. Flavor is just the same, but more. Very strong smoke flavor, that I think is very overdone and shows no balance. Feel is decent, but I think overall there is no balance and the smoke completely leans it too far to one side. Low Drinkability. \\t\\tI had high expectations but lower results than expected. Would only go back to this if it were a different years release.\\t\\t\"\n",
       "1582480                                                                                                                                                                                                                                                                                                                                                                                                     \" Pours a clear but fairly dark brown with a sizeable creme head. The nose is a lot of spices with dough and yeast and just a good overall funk. Hoooh! Hello spices! I'm getting figs and lots of fruit. This is almost like drinking a fruit cake. Nice and spicy and fruity. Feel has a lot of carbonation, but it doesn't really interfere with anything here. Very nice to drink. A good winter treat.\\t\\t\"\n",
       "1582914                                                                                                                                                                                                                                                                                                                                                                                                                                                                             \" Pours a dark brown with a creme head. Nose is like tea leaves! Amazing. That's a first. Flavor is tea as well. Wtf? Sweet, we. But man this is like drinking iced tea beer. And I hate iced tea. Smooth feel on both sides. Nice to drink, but this tea thing trips me out. Is it really like this, or is this a fluke, I wonder.\\t\\t\"\n",
       "1583492                                                                                                                                                                                                                                                                                                                                                                             \" Pours a light gold and is much lighter and doesn't have the punch and flavor of the brown ale. Which is absolutely normal since this is the pale ale. Overall, pale ales are less my style and I would tend to side with the brown, which I admit I am biased towards because of personal preference. Rating it on it's style, it is very well made and is definitely worth trying. It is just not my most favorite style is all.\\t\\t\"\n",
       "1584303                                                                                                                                                                                                                                                                                                                                                                                                                                                                           \" Pours a foggy gold. Nose is an orange citrus earthy thing. Flavor is nice and earthy. Kind of a muddy thing. Pretty smooth, but very robust. Caramel is in there as well. Smooth liquid feel. Nice carbonation. I like this beer. A nice asy drinking IPA. This is what an IPA can be when it's not an outlandish American version.\\t\\t\"\n",
       "1585116                                                                                                                                                                                                                                                                        \" Pours dark with a real thin tan head. Nose is coffee and sickly sweet malts. Too sweet really. Flavor is nice and robust, yes. There is coffee, yes. But the sweetness of the whole thing is just too much of a kick in the mouth. There's also that odd almost citrus back tone. Feel is slick on liquid and the carbonation is lower but smooth. IMO this is lacking the right balance to be able to pull it off. Perhaps it needs some time to even out, but I guess I'll never know since this is the only bottle I have. Oh well.\\t\\t\"\n",
       "1585567                                                                                                                                                                                                                                                                                                                                                                                                                                                                                       \" Pours a cloudy orange/brown with a thick creme head. Nose is mildly woody with some citrusy hops. Very, very smooth citrus, bitter, hoppy profile. Bitter but smooth. Feel is the same. Smooth and slightly sticky liquid and an appropriate carbonation. A great drinker. Some beers were meant to be served via cask.\\t\\t\"\n",
       "1585574                                                                                                                                                                                                                                                                                                                                                                                                                                   \" Pours a very foggy orange/brown/amber. No head. Just a slight foam thing. Nice perfumed flavor profile with a biting citric edge. Firmly defined bitter tone. Even though it's pretty strong, I want to say it s well balanced in its strong bitterness. Nice carbonation and a well bodied liquid feel. Extremely drinkable. Be prepared to order another after 3 minutes.\\t\\t\"\n",
       "1585604                                                                                                                                                                                                                                                                                                                                                                                                                                            \" Pours a straw yellow. Smells like dried straw too! Slight citrus. When I smell this, I just think about farms and fields and butterflies and stepping in cow patties. Actually I dontctjonk about butterflies or cow parties at all. Flavor is slightly cereal sweet. Grain is there. Grass too. Slick smooth feel. Pretty easy to drink despite the earthy tones.\\t\\t\"\n",
       "1585644                                                                                                                                                                                                                                                                                                                                                                                 \" Pours a barely hazes amber. Nose is sticky hops. Flavor is the same. Sticky and stringent. Pine and citrus hop tones are there, but it's out of whack. Also a bit of a salty back end. There's no balance from what I gather. Feel is smooth ok liquid and carbonation is lower. Eh. This doesn't suck. But it's a bit too wacky for me. It does mellow out a bit as it warms, but still. Doesn't make too much sense really.\\t\\t\"\n",
       "1585727                                                                                                                                                                                                                                                                                                                                                                                                                                                       \" Pours pitch black with a minimal tan head. Malty nose. Flavor is thicj. Great molasses tones and a noticeable coffee. Robust, great flavor profile, and firm. Hooooieee! I get a coffee aftertaste that hits late and stays for some time. Lovely. Nice carbonation with a good liquid feel. Very drinkable. Full robust qualities. An excellent stout.\\t\\t\"\n",
       "1585742                                                                                                                                                                                                                                                                                                                                                                                                                                       \" Pours pitch brown. Nice tan head. Nice creamy nose. Minor coffee tones are there. Flavor is smooth. The malty body doesn't bowl you over with crazy character, but it does deliver a smooth profile. Seems to be an appropriate bitter edge. The feel is smooth, as is the overall drinkability. An easy drinking porter with just enough oomph to keep it interesting.\\t\\t\"\n",
       "1585761                                                                                                                                                                                                                                                                                                                                                                                                                                                                                                 Sampled 4-23-2007. Pours pitch black with a dark tan/brown head. Nose is pretty mild. Not much going on here. Flavor is milder and smooth. More of a sweet tone with an underlying bitter edge. Feel is thick on liquid and low on bubble. Definitely drinkable. A smooth stout that delivers a calm experience.\\t\\t\n",
       "1585808                                                                                                                                                                                                                                                                                                                                                                                                                                                                                                   \" Pours a foggy amber (surprise!). Flavor has a mild citrus tang to it and an overall leafy and earthy thing. Brings a nice level of complexity to it, but nothing Earth-shattering. Gives a biting carbonation with a smooth liquid feel. This is a very nice beer that is a pleasure to drink. Quite tasty.\\t\\t\"\n",
       "\n",
       "[1891 rows x 1 columns]"
      ]
     },
     "execution_count": 18,
     "metadata": {},
     "output_type": "execute_result"
    }
   ],
   "source": [
    "pd.options.display.max_colwidth = 1000\n",
    "customer1=beer.loc[beer['profile_name'] == ' RblWthACoz',['text']]\n",
    "customer1"
   ]
  },
  {
   "cell_type": "markdown",
   "metadata": {},
   "source": [
    "### JDV it seems that they are differents"
   ]
  },
  {
   "cell_type": "code",
   "execution_count": 19,
   "metadata": {},
   "outputs": [
    {
     "data": {
      "text/html": [
       "<div>\n",
       "<style>\n",
       "    .dataframe thead tr:only-child th {\n",
       "        text-align: right;\n",
       "    }\n",
       "\n",
       "    .dataframe thead th {\n",
       "        text-align: left;\n",
       "    }\n",
       "\n",
       "    .dataframe tbody tr th {\n",
       "        vertical-align: top;\n",
       "    }\n",
       "</style>\n",
       "<table border=\"1\" class=\"dataframe\">\n",
       "  <thead>\n",
       "    <tr style=\"text-align: right;\">\n",
       "      <th></th>\n",
       "      <th>text</th>\n",
       "    </tr>\n",
       "  </thead>\n",
       "  <tbody>\n",
       "    <tr>\n",
       "      <th>605</th>\n",
       "      <td>\" Can from Beerzack. Thanks!\\tPours Semi-clear reddish amber witha big lasting chunky whitish head that leaves lots of lacing. Smell is sweet fruity, fresh and hoppy. Very nice. Taste is smooth with fruity caramel and fresh citrusy, and sweet orange flavored hops and bitter citrus rind. Nice and strongly bittered which lasts in the finish but with a light lingering sweetness too. Very good IPA.\\t\\t\"</td>\n",
       "    </tr>\n",
       "    <tr>\n",
       "      <th>926</th>\n",
       "      <td>\" Bottle shared with Fly, Dewbrewer, Humulone_Red and others. Thanks guys!\\tPours a glowing orange with no head. Funky nose reminiscent of gooey band-aids. Odd taste with sweet guaze like flavor. No carbonation on it either, and this one just wasn't for me.\\t\\t\"</td>\n",
       "    </tr>\n",
       "    <tr>\n",
       "      <th>1104</th>\n",
       "      <td>\" Pours pale yellow with almost no head. Smell is sweet with corn and maltiness in the taste. Very carbonated, and light, obviously, easy to drink, and tastes decent enough. Nothing spectacular, but I don't get all the really low ratings. This wasn't supposed to be a big bold beer that turned out light. Rating it for what it is, this is good for the style.\\t\\t\"</td>\n",
       "    </tr>\n",
       "    <tr>\n",
       "      <th>3004</th>\n",
       "      <td>\" Shared at tasting, courtesy of Beervirgin72. Thank you! \\tPours a rich cloudy goldish color with a light whitish head. Smell is yeasty and wheaty, but without much clove or spiced characteristic. Taste is wheat, honey, yeast, and lemon and feels more like a cross between an American Wheat and a German Hefeweizen, leaning on the American Wheat side, I thought. Very crisp, and drinkable, with a milder characteristic yeast flavor than most hefs. Nice beer!\\t\\t\"</td>\n",
       "    </tr>\n",
       "    <tr>\n",
       "      <th>3208</th>\n",
       "      <td>\" Bottle from Miketd. Thanks for this one, Mike! Pours rich dark amber with a big creamy beige head in a tulip. Smell is fruity, sweet, and light piney hops and a bit of alcohol, and some caramel sweetness. Taste is creamy, rich and balanced for the style with an emphasis on hops of course. Nicely hopped but lightly caramelly sweet on the backend with a bit of an alcohol presence in the flavor. Very nice, and drinkable DIPA I thought, and a very well made beer.\\t\\t\"</td>\n",
       "    </tr>\n",
       "    <tr>\n",
       "      <th>3869</th>\n",
       "      <td>\" Big thanks to miketd for the bottle.-\\tRich but transluscent copper with a lasting off white foamy head. Smell is not as hoppy as expected initially, and more of toffee sweetness, as in an ESB, plus a touch of floral hoppiness. Somewhat of a cantaloupe melony nose after it warms too. Carbonated body, with a more malty than average taste for an IPA, with some light hops and a creaminess to the body despite the slightly bubbly carbonation. A touch of light pepperiness to it as well. Nice IPA overall.\\t\\t\"</td>\n",
       "    </tr>\n",
       "    <tr>\n",
       "      <th>5526</th>\n",
       "      <td>\" Big thanks to Miketd for the bottle!\\tPours a solid dark black with a nice sized creamy but somewhat short lived tan head into a snifter. Smell was big and of oatmeal sweetness, dark roasted malt and I got a big fire roasted marshmallow gooeyness out of it as well. Taste was also fantastic, very nice roasty character with oatmeal creaminess and chewiness making an obvious presence. Very full mouthfeel, and on the sweeter side of an imperial stout, which I tend to like. I got a big marshmallow like character in the taste as well and overall this was an amazing beer. The hint of alcohol that shows as it warms was pretty mild and unobtrusive.\\t\\t\"</td>\n",
       "    </tr>\n",
       "    <tr>\n",
       "      <th>5867</th>\n",
       "      <td>\" Bottle courtesy of miketd. Thanks man! Pours nice and black with a lasting, creamy tan head. Smell is dusty bittersweet chocolate and dark cherry fruitiness. Taste is bittersweet chocolate and dark fruitiness. Leaning on the sweet side with a chocolate covered cherry flavor. Creamy soft carbonation and a semi-rich body. Very easy drinking. Really nice.\\t\\t\"</td>\n",
       "    </tr>\n",
       "    <tr>\n",
       "      <th>7066</th>\n",
       "      <td>\" Mahogany dark amber color with lacing and white head. Smell of dark malt mostly. A touch of bitterness, toasty malt, but a bit watery though, and light coffee flavors even. Different for a bock, I thought, and ok, but nothing to get too excited about.\\t\\t\"</td>\n",
       "    </tr>\n",
       "    <tr>\n",
       "      <th>7067</th>\n",
       "      <td>\" Pale hazy yellowish pour. Taste was what you'd expect from a hefeweizen to me, and was clovey and spiced. I thought it was boring, and average, and not different from every other standard Hefeweizen I've had. Kind of blah but fits the style for someone looking for a simple example of one..\\t\\t\"</td>\n",
       "    </tr>\n",
       "    <tr>\n",
       "      <th>7073</th>\n",
       "      <td>\" Bright light yellow orangish color. Smells of apple juice, and light malt. Watery, slightly hoppy tastes, with a touch of bitterness and a quick finish. Just ok, but sort of bland. Still probably one of my favorite 2 beers I tried at the San Francisco brewing company.\\t\\t\"</td>\n",
       "    </tr>\n",
       "    <tr>\n",
       "      <th>7083</th>\n",
       "      <td>\" Medium amber color with some lacing and very bright hoppy smell and taste. Flavor is decent overall, but too much hops for the malt used for my liking leaving it a bit unbalanced, and I didn't even finish the sampler. A little thin for the style, and nothing to go out of the way for.\\t\\t\"</td>\n",
       "    </tr>\n",
       "    <tr>\n",
       "      <th>7090</th>\n",
       "      <td>\" Amber pour with a fairly rich hoppy smell. Medium carbonation, quite hoppy taste, but not overly so. A touch bitter for my liking of an amber, but drinkable nonetheless, and one of the better ones I tried at the San Francisco Brewing Co. which unfortunately isn't saying much...\\t\\t\"</td>\n",
       "    </tr>\n",
       "    <tr>\n",
       "      <th>7098</th>\n",
       "      <td>\" Dark brownish black poor. Waaaay too hoppy a smell and taste for a Porter in my opinion, and smells just like an IPA, rather than a dark rich porter. Taste is a touch of roasted malts, with a lot of hops, and rather than the hops \"\"supporting\"\" the malts, they simply dominate them. Not a traditional porter, and didn't fit the style, but not terrible.\\t\\t\"</td>\n",
       "    </tr>\n",
       "    <tr>\n",
       "      <th>8816</th>\n",
       "      <td>\" Bottle from Littlebreeze, I believe...\\tThanks!\\t\\tPours dark black with almost no head. Smell is almost all bourbon with a touch of roast malt peeking from behind. Taste is big on bourbon with some roastiness again in the flavor, but definitely in the back. Slightly thick mouthfeel with low carbonation. Pretty good overall, actually, but could do with a bit less bourbon influence, I think.\\t\\t\"</td>\n",
       "    </tr>\n",
       "    <tr>\n",
       "      <th>10127</th>\n",
       "      <td>\" Bottle in trade from thethrone. Thanks man!\\t\\tPours black with a nice creamy tan head. Smell is dark roasted malt, coffee, a touch of burnt ashiness, some dark chocolate and and some creaminess as well. Very nice. Taste is very much along the lines of the smell with some bitter dark chocolate, burnt malt and rich dark, dry coffee flavors abound. Just a slight twinge of faint fruitiness near the end, but bitterness takes it over and lingers subtly in the end.\\tVery flavorful for what it is, and a solid mouthfeel and drinkability. Very nice stout.\\t\\t\"</td>\n",
       "    </tr>\n",
       "    <tr>\n",
       "      <th>17660</th>\n",
       "      <td>\" 1 year Aged bottle shared by gueuzelover. Thanks!\\t\\t \\tDark caramel to maroon color. Very light beige head. Smell is mellow, malty and creamy with perhaps a bit of vanilla. Taste is dark and malty, but hopped only to balance, I found after the year of age took its toll. Somewhat well hidden alcohol for 13% and drank more like a barley wine than an extremely overhopped beer. Lingering dull earthy hop flavor and some alcohol in the background. I thougt this was ok, but not fantastic.\\t\\t\"</td>\n",
       "    </tr>\n",
       "    <tr>\n",
       "      <th>21141</th>\n",
       "      <td>\" Bottle courtesy of Demitriustown\\tPours cloudy orange with a bright white medium sized head. Smell is sweet orange and caramelly malt with a lively citrusy and fresh hop character. Taste is a bit of a muted, dull, malt with a citrusy orange like hop character. Mouthfeel was about average, and neither thin nor thick. Pleasant and mild hop flavor and bitterness overall. Nice, but I'm unable to tell that this is a fresh hop beer, and don't get that spicy, tingly hop flavor I get in some others. Still, a quality beer that I really enjoyed and am glad I got to try. Thanks for the awesome bonus, Andrew!\\t\\t\"</td>\n",
       "    </tr>\n",
       "    <tr>\n",
       "      <th>22518</th>\n",
       "      <td>\" Thick black pour. Very oily looking out of the bottle. Gives a nice sized brown creamy head in a snifter. Smell is of coffee grinds almost exclusively, and roasted malt. Taste is very coffee like. Not getting any oatmeal or sweetness, but rather big roasty malt, and burnt, slightly bitter coffee grounds. It could use a bit more sweetness to pull it all together in my opinion, but it is still good. Overall, too burnt, and not enough sweetness. Good coffee beer, but I don't get oatmeal or chocolate, nor do I like it as much as I had hoped...\\t\\t\"</td>\n",
       "    </tr>\n",
       "    <tr>\n",
       "      <th>25973</th>\n",
       "      <td>\" Bottle thanks to WeeHeavy\\tPours deep maroon with a big fresh raspberry smell and a touch of malty \"\"beery\"\"ness to it as well. Tart, fresh and sweet raspberry flavor and nicely and crisply carbonated. Some grain like beer flavor in the finish that keeps it short of cloying. Fantastic flavor, and very well done. So far, my favorite beer from Founders. Big thanks for this one Jon!\\t\\t\"</td>\n",
       "    </tr>\n",
       "    <tr>\n",
       "      <th>26259</th>\n",
       "      <td>\" Cloudy, thick maroon with a frothy off white beige head. Smell is bittersweet malt with a lovely rich earthy hop aroma. Taste is somewhat more light bodied than expected, with a smooth earthy, grassy, faint sweetness. Nice rye flavor, and a quality beer that suffers from a metallic finish however.\\t\\t\"</td>\n",
       "    </tr>\n",
       "    <tr>\n",
       "      <th>28455</th>\n",
       "      <td>\" Orange amber sedimenty laden hazy pour with about the biggest meringue like head ever.. Ridiculously carbonated and a HUGE psssstttt sound when popping the cap. Also underfilled bottle. Very strange. That aside it had an earthy, grassy hop aroma and flavor, along with a very light sweetness. Big hop flavor, mild bitterness, kind of over carbonated and felt like champagne in the mouth towards the end of the glass. Flavor needs a bit more body, sweetness, but still a good pale overall.\\t\\t\"</td>\n",
       "    </tr>\n",
       "    <tr>\n",
       "      <th>30703</th>\n",
       "      <td>\" Bottle courtesy of demitriustown. Thanks for this awesome beer! \\tSlightly hazy reddish amber color with a creamy offwhite head atop. Smell is light, fruity hops mostly with a citusy focus. Taste is somewhat bright, and fruity with a good hop character. Some citrus flavors and an appropriate malt backing. Good mouthfeel and carbonation level round this one out into a really classic and well done IPA. Very fresh tasting and quite drinkable.\\t\\t\"</td>\n",
       "    </tr>\n",
       "    <tr>\n",
       "      <th>33760</th>\n",
       "      <td>\" bottles courtesy of hoppymeal and prototypic. Thanks!!\\tPours pitch black with a big medium lived dark brown head. Smell is strong coffee, mild bourbon and oak. Very well balanced smell and not overly bourbony. Taste is equally as well balanced with rich dark chocolate like roasty malt, a touch of vanilla, stong oak flavor, a touch of bourbon, and bold coffee flavors. This is really nice, and quite a bit more enjoyable than the original breakfast stout. Medium to thick body and moderate to light carbonation. Awesome beer.\\t\\t\"</td>\n",
       "    </tr>\n",
       "    <tr>\n",
       "      <th>35889</th>\n",
       "      <td>\" Bottle in trade from ROBORB. Thanks man! Pours a rich dark black with a medium lived tan head. Smell is roasty malt, coffee and is quite nutty as well. Taste is very richly roasted, dark bitter chocolate, roasted coffee beans, bitter charred malt, and just really nice. A pretty substantial amount of bitterness either from the hops or the charred malt. Body is medium to full with medium carbonation. Damn tasty and easily one of the best porters I've had. How is this not a stout, and why is it not a year round beer?\\t\\t\"</td>\n",
       "    </tr>\n",
       "    <tr>\n",
       "      <th>37546</th>\n",
       "      <td>\" 12 oz. bottle thanks to gregis\\tBlack pour with a fizzy cola like tan head. Smell is very subtly smoked malt. Taste is mild, but noticeable smoke presence with a decent sweetness to it. Nice balance of getting the smoke in without making it overpowering. A touch thin, but still well done overall and a quality smoked beer that I enjoyed.\\t\\t\"</td>\n",
       "    </tr>\n",
       "    <tr>\n",
       "      <th>38075</th>\n",
       "      <td>\" Pours cloudy orangish honey colored with a nice white head. Smell is wheaty, and peach as to be expected with some mustiness too. Has that thick wheaty feel to it, and a light nice fruitiness to it, but is dry and not sweet cloying like some fruit beers. Kind of a lemony peach flavor that is quite nice actually. Full mouthfeel for a fruit beer, bubbly, easy to drink, and a good summer beer\\t\\t\"</td>\n",
       "    </tr>\n",
       "    <tr>\n",
       "      <th>44592</th>\n",
       "      <td>\" from City Beer Store in S.F. Poured a rich dark brown in a weizen glass with a nice light tan head. Good lacing too. Smell was very reminiscent of salted and peppered beef jerky and smoked bbq, and although it was very obvious, it wasn't as extremely overpowering or offensive as I feared. I found it extremely enticing and the taste was not a letdown either. The base of the beer itself was smooth, perfectly malty and sweet with a touch of lingering smokiness and light bitterness in the finish. It was very full flavored, not overdone and perfectly crisp from the carbonation, and I was shocked at how drinkable this stuff was. I expected this to be a letdown b/c I was quite excited to try it, but I was very pleasantly surprised. Very good, and I can't wait to try the other 2 varieties.\\t\\t\"</td>\n",
       "    </tr>\n",
       "    <tr>\n",
       "      <th>46276</th>\n",
       "      <td>\" Pours nice golden with white head that doesn't last. Smell is sweet honey maltiness , and very doughy breadiness, with maybe a faint touch of hops. Taste is a touch hoppy, with a firm bitter bite up front with a doughy, yeasty aftertaste that I don't care for. Very light bodied and ends slightly fuller with the aftertaste. Not great, I thought after having it a second time.\\t\\t\"</td>\n",
       "    </tr>\n",
       "    <tr>\n",
       "      <th>50930</th>\n",
       "      <td>\" An almost 6 month old bottle in trade from raverjames. Specifically requested a fresh bottle before trading and this is not what I had hoped for. Pours an orange amber color, cloudy, and with a nice lasting light beige head. Smell is mild and nondescript light, stale hops. Taste is bitter, grassy and alcoholic with some dull stale fruitiness and prominent malt flavor, but mostly alcoholic and unimpressive. No citrus notes or crisp hop flavors in this beer at all. Best case, a stale DIPA, and worst case, just another overly hot, unimpressively flavored DIPA. A notch above \"\"drainpour\"\", but still not worth finishing.\\t\\t\"</td>\n",
       "    </tr>\n",
       "    <tr>\n",
       "      <th>...</th>\n",
       "      <td>...</td>\n",
       "    </tr>\n",
       "    <tr>\n",
       "      <th>1518738</th>\n",
       "      <td>\" Thanks to aceofhearts for sharing this awesome beer!\\t\"\"The diablo\"\" pours a light muddy chocolate brown with a light beige head. Smell is light and bright, fresh malt with just a hint of alcohol. Taste is pretty hoppy up front with earthy and piney hops and dark and toasty malt. Beyond that, there is an oaky drying characteristic. Slightly bubbly mouthfeel. Really nice woodsy and hoppy toasty malt combo. As good as it is unique. Thanks again.\\t\\t\"</td>\n",
       "    </tr>\n",
       "    <tr>\n",
       "      <th>1527198</th>\n",
       "      <td>\" Bottle courtesy of davehoward\\tBlack, oily pour with a nice brown head that lasts for a bit. Smell is nicely rich, dark roastiness, and some dark chocolate as well. Alcohol is well hidden in the nose, I thought. Taste is dark roast, and a noticeable amount of acidity and light tartness giving it a uniqueness from other Imperial Stouts. A bit of a prickly carbonated mouthfeel at first, which subsides later. Slightly thick mouthfeel, with a dry dark chocolate finish. Just a hint warming. Ever so slightly tart, dark chocolate flavor as it warms. Overall a really good imperial stout that I would like to try again, especially aged to see how it differs. Thanks a lot for the bottle, Dave!\\t\\t\"</td>\n",
       "    </tr>\n",
       "    <tr>\n",
       "      <th>1529651</th>\n",
       "      <td>\" bottles from emacgee and The_Epeeist. Thanks!\\tPours semi clear dark maroon with a medium sized lasting light beige head. Smell is alcohol, and sweaty, dirty, B.O. like malt. Odd, and unappealing, really. Taste is rich, strong and moderately alcoholic with toasty malt. Sweaty, mustiness again, and slightly syrupy with a bubbly mouthfeel. Not very appealing flavorwise, and boring and bland at the same time. I would not recoment this barely wine at all.\\t\\t\"</td>\n",
       "    </tr>\n",
       "    <tr>\n",
       "      <th>1530519</th>\n",
       "      <td>\" Thanks to miketd for this bonused beer from my want list-\\tLight clear orange pour with a large offwhite head. Mild pumpkin spice smell, perhaps a bit less so than average. Body is watery, thin and flavorwise is probably the blandest pumpkin beer I've had. Very low carbonation as well adds to the lifelessness of it. Not offensively flavored at all, just a poor pumpkin beer, I thought.\\t\\t\"</td>\n",
       "    </tr>\n",
       "    <tr>\n",
       "      <th>1532247</th>\n",
       "      <td>\" Thanks to davehoward for the bottle! Pours a dark brown color with ruby edges on the glass. Light tan fizzy head. Smell is toasty, semi roasty malt. Hint of chocolate and coffee round it out and a mild roastiness is present in the taste as will along with a slight sour bitterness. Very thin body I thought. Not bad, but just not impressive especially for what I was expecting.\\t\\t\"</td>\n",
       "    </tr>\n",
       "    <tr>\n",
       "      <th>1533241</th>\n",
       "      <td>\" Bottle shared at tasting courtesy of Dewbrewer. Thanks! \\tPours medium light golden with a big lasting white head. Very Duvel like in appearance. Smell is dusty, light sweetness in a somewhat floral and honey way and cobwebby. Taste is honey sweetness, but not cloying for me, subtle, delicate floral flavors as well with a noticeble light spiced characteristic that is hard to place. Unique and nicely drinkable.\\t\\t\"</td>\n",
       "    </tr>\n",
       "    <tr>\n",
       "      <th>1533826</th>\n",
       "      <td>\" Bottle shared at a tasting. Pours dark maroon with a thin beige head. Smell is dark fruit, bubble gum and is slightly vinuous in the nose as well. Taste is dark fruit, winelike and semi dry in the finish with some belgian candi-sugar. Medium to thin body and lightly prickly carbonation. A touch boozy, and pretty nice for the style, though.\\t\\t\"</td>\n",
       "    </tr>\n",
       "    <tr>\n",
       "      <th>1537486</th>\n",
       "      <td>\" Bottle shared at Draught House tasting. \\tPours dark chocolately brown to black. Smell is fresh, bright, yet chocolatey. Taste is more caramel than roasty chocolate, and is mildly fizzy with a medium body. Pretty average, and not very interesting or flavorful.\\t\\t\"</td>\n",
       "    </tr>\n",
       "    <tr>\n",
       "      <th>1538957</th>\n",
       "      <td>\" On tap at CIty Beer Store in S.F. Thanks to Craig for the sample of this. Smell was somehow of a spiced cream corn, and not corn in the way that cheap beers smell or taste of corn. Light clearish yellow color with a unique taste to match the smell. Has a nice almost spiced maybe subtle bitter bite to it, and was quite nice. An interesting beer worth trying if you can get a shot at it.\\t\\t\"</td>\n",
       "    </tr>\n",
       "    <tr>\n",
       "      <th>1542699</th>\n",
       "      <td>\" Rich copperish amber pour with a nice offwhite head. Light fresh, somewhat unique hop smell with some light sweetness in there too. Fairly sweet and mild for an IPA with some fresh, grassy hops. Could be slightly more flavorful, and really isn't that bold at all. One of the milder IPAs I've had and I'm not fanatical about insane amounts of hops. A friendly, easy, good IPA, but surely nothing worth a top 2-3% of beers ever...\\t\\t\"</td>\n",
       "    </tr>\n",
       "    <tr>\n",
       "      <th>1546815</th>\n",
       "      <td>\" Bottle courtesy of DrBayern - Rich thick nicely viscous black pour in a snifter with a short lived brown head. Smell is of some dark roasted malt, but the big hoppiness of this came off as extremely metallic to me. As it warmed this lessened, and it was more roasty with a sharp hoppiness. Taste was fairly hopped, dark and roasty with very little sweetness, and with alcohol only lightly noticeable, but pleasant. A mild tasting finish with a good bitterness and a nicely thick pleasant mouthfeel. As far as stouts go, I'm starting to think I enjoy the sweeter and/or less hoppy stouts, because to me the dark roast character and the big hoppiness seem to clash. Rather than the citrusy, light, aromatic floral qualities as present in Pales, IPAs, etc.. I rather find the hops tasting bland bitter and metallic if predominant in bigger stouts. Not bad at all, but just not my speed. \\t\\tRe-rate - enjoyed on draght and really liked the dry roastiness to it. Solid mouthfeel and body and an enj...</td>\n",
       "    </tr>\n",
       "    <tr>\n",
       "      <th>1550596</th>\n",
       "      <td>\" White short lasting head, with a nice balanced smell. Decent amount of bitterness up front with a honey, malty sweetness following and a yeasty flavor. Good hop presence that fades into a semi quick slight bitter finish. Would try again, but not my favorite pilsner.\\t\\t\"</td>\n",
       "    </tr>\n",
       "    <tr>\n",
       "      <th>1553031</th>\n",
       "      <td>\" Bottle courtesy of DrJay\\tPours a clear dark brown to black color with a light tan head. Smell is cardboard like stale dark malts and not much else. Flavor is roasty with an ashy flavor component as well. Higher than average hopping as well, but the flavor of this didn't do anything for me unfortunately. Wouldn't recommend.\\t\\t\"</td>\n",
       "    </tr>\n",
       "    <tr>\n",
       "      <th>1553570</th>\n",
       "      <td>\" Pours copper, clear, with foamy white head. Smell is sweet, grainy, and mild resiny hops for a IIPA. Taste fair amount of sweet initially masked by the bitter, piney and soapy hops. Leaves a bit of an oily hoppy bitterness coating over the entire tongue, and hops fade leaving the bitterness and the creamy sweetness reappears. Although quite bitter, it doesn't have a huge hop flavor, I thought, and comes with a bigger than average, but nice maltiness as well. Pretty good IIPA, I thought.\\t\\t\"</td>\n",
       "    </tr>\n",
       "    <tr>\n",
       "      <th>1559211</th>\n",
       "      <td>\" Light medium clearish orange pour with white short lived head. Nice orange smell with light spice/metallic notes as well. Flavor is of arange, and body is highly carbonated. Lightly flavored overall, but the orange is quite noticeable. Prickly mouthfeel, and a bit boring overall\\t\\t\"</td>\n",
       "    </tr>\n",
       "    <tr>\n",
       "      <th>1559838</th>\n",
       "      <td>\" Saw this for the 1st time in the area yesterday and decided to pick it up. Clear medium to dark orange color with light head. Smell is nicely aromatic pumpkin and spices and is very pie like. Flavor is nicely of pumpkin, with a solid spiced flavor in the aftertaste. Mouthfeel is somewhat thin, and average. Nothing too outstanding, but I find this to be a pretty decent pumpkin beer all around. I'd prefer a touch more sweetness, but as it stands, its ok.\\t\\t\"</td>\n",
       "    </tr>\n",
       "    <tr>\n",
       "      <th>1561049</th>\n",
       "      <td>\" bottle generously shared at tasting. Thanks!\\tPours a golden hazy color. Smell is bright lager like malt. Taste is rich maltiness, lightly hoppy and lager like. Medium bodied and like an amped up pilsner, as to be expected. Not over the top. Pretty good.\\t\\t\"</td>\n",
       "    </tr>\n",
       "    <tr>\n",
       "      <th>1561970</th>\n",
       "      <td>\" bottle shared at tasting with Dewbrewer. Thank you! \\tPours a rich, cloudy amber with not much head mustering up in my sample. Smell is malty toastiness, but light and a fair amount of hops in the nose too for the style. Taste is somewhat thin with a uniquely prominent lemony hop characteristic in the end. Thin bodied overall, and mild maltiness. Different from what I'd expect of the style, but not bad.\\t\\t\"</td>\n",
       "    </tr>\n",
       "    <tr>\n",
       "      <th>1569157</th>\n",
       "      <td>\" Deep ruby brown, medium light tan head that didn't last. Smell at first was like a ball of foil, and after a minute or two, turned to a rich malt, grassy, lightly metallic smell, with stick soy and peaty notes. Taste was similar, with a slight sourness. Maybe it wasn't so fresh, but I drank it within a couple days of buying it. Didn't taste the alcohol really, but it was still pretty poor I thought, and not what I was hoping or thinking it'd be.\\t\\t\"</td>\n",
       "    </tr>\n",
       "    <tr>\n",
       "      <th>1571381</th>\n",
       "      <td>\" Transluscent maroon pour with offwhite head. Smells skunky, like a heineken or st. pauli girl would, then a bit sour, vinegar-ish smell. A bit of the band-aid smell I've read about, but this was my first experience actually noticing it. Taste is a thin boring very lightly malty flavor that was much weaker than I expected, but at least I didn't taste the skunkiness. Even if this one weren't bad, the flavor was a very diluted brown ale.\\t\\t\"</td>\n",
       "    </tr>\n",
       "    <tr>\n",
       "      <th>1574926</th>\n",
       "      <td>\" bottle shared by guezelover\\t'07 bottle Pours a ruby color with mild offwhite head. Smell is oaky and sour cherry. Taste is mainly the same two flavors as in the nose with no real offensive funkiness at all. Still tart and some vinegar qualities, but one of the more drinkable sours that I've had, for sure. Nice as far as sours go, overall I thought, but still not my cup of tea.\\t\\t\"</td>\n",
       "    </tr>\n",
       "    <tr>\n",
       "      <th>1575866</th>\n",
       "      <td>\" Bottle courtesy of alexgash, I believe. Thanks!\\tPours black with a smallish tan head that fades quickly. Smell is strong coffee, thin roasty malt and an almost cardboard-like component. Flavor is coffee up front and roasted malt, but very thin. Thin malt flavor, roastiness and body, despite the strong coffee flavor. Not great, but drinkable.\\t\\t\"</td>\n",
       "    </tr>\n",
       "    <tr>\n",
       "      <th>1576340</th>\n",
       "      <td>\" Pours a nice dark black with a small tan head. Smell is nice and strong with dark roasted malt, coffee and chocolate notes. Taste is as expected with roasty dark malt and bitter chocolate. Medium to full body with light to normal carbonation and no alcohol presence. Very respectable brew.\\t\\t\"</td>\n",
       "    </tr>\n",
       "    <tr>\n",
       "      <th>1576719</th>\n",
       "      <td>\" Can courtesy of BgThang. Thanks man!\\t\\tPours a rich, thick amber with a reddish tint and nice head. \\tSmell is big and fruity hoppiness with loads of grapefruit in the nose too. Taste is fruity, caramelly smooth maltiness, and nice citrusy hop flavor and a solid, but mildish bitterness that works great for a pale ale. Less hoppy tasting than the nose might indicate, but still pretty nice and clean. Drinkability is awesome, and this is a great, refreshing sessionable pale that I'd be happy to have again.\\t\\t\"</td>\n",
       "    </tr>\n",
       "    <tr>\n",
       "      <th>1579386</th>\n",
       "      <td>\" Bottle courtesy of Bitterbill in trade. Thanks!\\tPours black with a lasting light tan head. Smell is unique, but with some thin chocolate and some sort of creamy \"\"greenness\"\" to it like an unripe banana. Taste is very lightly roasted thin malt and some metallic notes and an odd green tartness. Mouthfeel is lacking and is too thin as is the flavor. Just a very strange beer, overall.\\t\\t\"</td>\n",
       "    </tr>\n",
       "    <tr>\n",
       "      <th>1579654</th>\n",
       "      <td>\" Pours rich maroon with a slight hazed look and a thin beige head. Smell is very fresh with dark malty sweetness comin in along with balancing hops in the form of grassy and vegetal notes, almost. Taste is moderately sweet but not syrupy at all, and balanced by the grassy hop flavor and a touch of alcohol. Something in this beer seemed a bit odd to me, and once I got \"\"vegetal\"\" in my mind, I couldn't shake that and enjoy it as much.\\t\\t\"</td>\n",
       "    </tr>\n",
       "    <tr>\n",
       "      <th>1579984</th>\n",
       "      <td>\" Thanks to Fordest for this one- Pours a Rich, orange amber color with a some nice head to it. Smell is nice and toasty sweet malt and toffee. Mouthfeel is very smooth and creamy. Tastes is good and heavily on the malty side of ambers. No real sign of hops to speak of, but it is a nice, tasty easy drinking beer. I definitely enjoyed this one.\\t\\t\"</td>\n",
       "    </tr>\n",
       "    <tr>\n",
       "      <th>1580608</th>\n",
       "      <td>\" Bottle courtesy of bitterbill. Thanks!\\tPours a clear orange to copper color with a thin white head. Smell is mostly malty with some spiced character in the way of the spruce tips, I'm guessing. Taste is malty and refreshingly minty almost and cool feeling in the mouth. Unique mouthfeel and flavor but not particularly fantastic either. Medium to thin bodied and somewhat easy drinking.\\t\\t\"</td>\n",
       "    </tr>\n",
       "    <tr>\n",
       "      <th>1580937</th>\n",
       "      <td>\" Thanks to Fordest for this- Dark yellow to light gold pour in a Kolsch glass. Big lasting white head, and a faint grassy, sweet malt smell. Was refreshing, sweet and nicely but mildly flavored of crisp malt. A bit watery especially in the finish, but still enough flavor to keep from being boring. This is a good Kolsch, but I'm starting to crave more flavorful beers as its cooling off.\\t\\t\"</td>\n",
       "    </tr>\n",
       "    <tr>\n",
       "      <th>1585132</th>\n",
       "      <td>\" Black pour with big brown fluffy head in a snifter. Lots of staying head and lacing. Smells hoppy, roasted dark malt, and smells like it will be bitter. Alcohol comes out more as it sits, which I tend to hate in any beer. Taste is fairly muted for what I expected. Taste is dark roastiness, licorice, quite mild bitterness, alcohol, and a medium lengthed finish. Smooth, but strong. Ok beer.\\t\\t\"</td>\n",
       "    </tr>\n",
       "  </tbody>\n",
       "</table>\n",
       "<p>1171 rows × 1 columns</p>\n",
       "</div>"
      ],
      "text/plain": [
       "                                                                                                                                                                                                                                                                                                                                                                                                                                                                                                                                                                                                                                                                                                                                                                                                                                                                                                                                                                                                                                            text\n",
       "605                                                                                                                                                                                                                                                                                                                                                                                                                                                                                                                                                                                                                           \" Can from Beerzack. Thanks!\\tPours Semi-clear reddish amber witha big lasting chunky whitish head that leaves lots of lacing. Smell is sweet fruity, fresh and hoppy. Very nice. Taste is smooth with fruity caramel and fresh citrusy, and sweet orange flavored hops and bitter citrus rind. Nice and strongly bittered which lasts in the finish but with a light lingering sweetness too. Very good IPA.\\t\\t\"\n",
       "926                                                                                                                                                                                                                                                                                                                                                                                                                                                                                                                                                                                                                                                                                                                                                                       \" Bottle shared with Fly, Dewbrewer, Humulone_Red and others. Thanks guys!\\tPours a glowing orange with no head. Funky nose reminiscent of gooey band-aids. Odd taste with sweet guaze like flavor. No carbonation on it either, and this one just wasn't for me.\\t\\t\"\n",
       "1104                                                                                                                                                                                                                                                                                                                                                                                                                                                                                                                                                                                                                                                                 \" Pours pale yellow with almost no head. Smell is sweet with corn and maltiness in the taste. Very carbonated, and light, obviously, easy to drink, and tastes decent enough. Nothing spectacular, but I don't get all the really low ratings. This wasn't supposed to be a big bold beer that turned out light. Rating it for what it is, this is good for the style.\\t\\t\"\n",
       "3004                                                                                                                                                                                                                                                                                                                                                                                                                                                                                                                                                            \" Shared at tasting, courtesy of Beervirgin72. Thank you! \\tPours a rich cloudy goldish color with a light whitish head. Smell is yeasty and wheaty, but without much clove or spiced characteristic. Taste is wheat, honey, yeast, and lemon and feels more like a cross between an American Wheat and a German Hefeweizen, leaning on the American Wheat side, I thought. Very crisp, and drinkable, with a milder characteristic yeast flavor than most hefs. Nice beer!\\t\\t\"\n",
       "3208                                                                                                                                                                                                                                                                                                                                                                                                                                                                                                                                                      \" Bottle from Miketd. Thanks for this one, Mike! Pours rich dark amber with a big creamy beige head in a tulip. Smell is fruity, sweet, and light piney hops and a bit of alcohol, and some caramel sweetness. Taste is creamy, rich and balanced for the style with an emphasis on hops of course. Nicely hopped but lightly caramelly sweet on the backend with a bit of an alcohol presence in the flavor. Very nice, and drinkable DIPA I thought, and a very well made beer.\\t\\t\"\n",
       "3869                                                                                                                                                                                                                                                                                                                                                                                                                                                                                                              \" Big thanks to miketd for the bottle.-\\tRich but transluscent copper with a lasting off white foamy head. Smell is not as hoppy as expected initially, and more of toffee sweetness, as in an ESB, plus a touch of floral hoppiness. Somewhat of a cantaloupe melony nose after it warms too. Carbonated body, with a more malty than average taste for an IPA, with some light hops and a creaminess to the body despite the slightly bubbly carbonation. A touch of light pepperiness to it as well. Nice IPA overall.\\t\\t\"\n",
       "5526                                                                                                                                                                                                                                                                                                                                                              \" Big thanks to Miketd for the bottle!\\tPours a solid dark black with a nice sized creamy but somewhat short lived tan head into a snifter. Smell was big and of oatmeal sweetness, dark roasted malt and I got a big fire roasted marshmallow gooeyness out of it as well. Taste was also fantastic, very nice roasty character with oatmeal creaminess and chewiness making an obvious presence. Very full mouthfeel, and on the sweeter side of an imperial stout, which I tend to like. I got a big marshmallow like character in the taste as well and overall this was an amazing beer. The hint of alcohol that shows as it warms was pretty mild and unobtrusive.\\t\\t\"\n",
       "5867                                                                                                                                                                                                                                                                                                                                                                                                                                                                                                                                                                                                                                                                   \" Bottle courtesy of miketd. Thanks man! Pours nice and black with a lasting, creamy tan head. Smell is dusty bittersweet chocolate and dark cherry fruitiness. Taste is bittersweet chocolate and dark fruitiness. Leaning on the sweet side with a chocolate covered cherry flavor. Creamy soft carbonation and a semi-rich body. Very easy drinking. Really nice.\\t\\t\"\n",
       "7066                                                                                                                                                                                                                                                                                                                                                                                                                                                                                                                                                                                                                                                                                                                                                                          \" Mahogany dark amber color with lacing and white head. Smell of dark malt mostly. A touch of bitterness, toasty malt, but a bit watery though, and light coffee flavors even. Different for a bock, I thought, and ok, but nothing to get too excited about.\\t\\t\"\n",
       "7067                                                                                                                                                                                                                                                                                                                                                                                                                                                                                                                                                                                                                                                                                                                                   \" Pale hazy yellowish pour. Taste was what you'd expect from a hefeweizen to me, and was clovey and spiced. I thought it was boring, and average, and not different from every other standard Hefeweizen I've had. Kind of blah but fits the style for someone looking for a simple example of one..\\t\\t\"\n",
       "7073                                                                                                                                                                                                                                                                                                                                                                                                                                                                                                                                                                                                                                                                                                                                                         \" Bright light yellow orangish color. Smells of apple juice, and light malt. Watery, slightly hoppy tastes, with a touch of bitterness and a quick finish. Just ok, but sort of bland. Still probably one of my favorite 2 beers I tried at the San Francisco brewing company.\\t\\t\"\n",
       "7083                                                                                                                                                                                                                                                                                                                                                                                                                                                                                                                                                                                                                                                                                                                                         \" Medium amber color with some lacing and very bright hoppy smell and taste. Flavor is decent overall, but too much hops for the malt used for my liking leaving it a bit unbalanced, and I didn't even finish the sampler. A little thin for the style, and nothing to go out of the way for.\\t\\t\"\n",
       "7090                                                                                                                                                                                                                                                                                                                                                                                                                                                                                                                                                                                                                                                                                                                                               \" Amber pour with a fairly rich hoppy smell. Medium carbonation, quite hoppy taste, but not overly so. A touch bitter for my liking of an amber, but drinkable nonetheless, and one of the better ones I tried at the San Francisco Brewing Co. which unfortunately isn't saying much...\\t\\t\"\n",
       "7098                                                                                                                                                                                                                                                                                                                                                                                                                                                                                                                                                                                                                                                                     \" Dark brownish black poor. Waaaay too hoppy a smell and taste for a Porter in my opinion, and smells just like an IPA, rather than a dark rich porter. Taste is a touch of roasted malts, with a lot of hops, and rather than the hops \"\"supporting\"\" the malts, they simply dominate them. Not a traditional porter, and didn't fit the style, but not terrible.\\t\\t\"\n",
       "8816                                                                                                                                                                                                                                                                                                                                                                                                                                                                                                                                                                                                                            \" Bottle from Littlebreeze, I believe...\\tThanks!\\t\\tPours dark black with almost no head. Smell is almost all bourbon with a touch of roast malt peeking from behind. Taste is big on bourbon with some roastiness again in the flavor, but definitely in the back. Slightly thick mouthfeel with low carbonation. Pretty good overall, actually, but could do with a bit less bourbon influence, I think.\\t\\t\"\n",
       "10127                                                                                                                                                                                                                                                                                                                                                                                                                                                            \" Bottle in trade from thethrone. Thanks man!\\t\\tPours black with a nice creamy tan head. Smell is dark roasted malt, coffee, a touch of burnt ashiness, some dark chocolate and and some creaminess as well. Very nice. Taste is very much along the lines of the smell with some bitter dark chocolate, burnt malt and rich dark, dry coffee flavors abound. Just a slight twinge of faint fruitiness near the end, but bitterness takes it over and lingers subtly in the end.\\tVery flavorful for what it is, and a solid mouthfeel and drinkability. Very nice stout.\\t\\t\"\n",
       "17660                                                                                                                                                                                                                                                                                                                                                                                                                                                                                                                             \" 1 year Aged bottle shared by gueuzelover. Thanks!\\t\\t \\tDark caramel to maroon color. Very light beige head. Smell is mellow, malty and creamy with perhaps a bit of vanilla. Taste is dark and malty, but hopped only to balance, I found after the year of age took its toll. Somewhat well hidden alcohol for 13% and drank more like a barley wine than an extremely overhopped beer. Lingering dull earthy hop flavor and some alcohol in the background. I thougt this was ok, but not fantastic.\\t\\t\"\n",
       "21141                                                                                                                                                                                                                                                                                                                                                                                                        \" Bottle courtesy of Demitriustown\\tPours cloudy orange with a bright white medium sized head. Smell is sweet orange and caramelly malt with a lively citrusy and fresh hop character. Taste is a bit of a muted, dull, malt with a citrusy orange like hop character. Mouthfeel was about average, and neither thin nor thick. Pleasant and mild hop flavor and bitterness overall. Nice, but I'm unable to tell that this is a fresh hop beer, and don't get that spicy, tingly hop flavor I get in some others. Still, a quality beer that I really enjoyed and am glad I got to try. Thanks for the awesome bonus, Andrew!\\t\\t\"\n",
       "22518                                                                                                                                                                                                                                                                                                                                                                                                                                                                   \" Thick black pour. Very oily looking out of the bottle. Gives a nice sized brown creamy head in a snifter. Smell is of coffee grinds almost exclusively, and roasted malt. Taste is very coffee like. Not getting any oatmeal or sweetness, but rather big roasty malt, and burnt, slightly bitter coffee grounds. It could use a bit more sweetness to pull it all together in my opinion, but it is still good. Overall, too burnt, and not enough sweetness. Good coffee beer, but I don't get oatmeal or chocolate, nor do I like it as much as I had hoped...\\t\\t\"\n",
       "25973                                                                                                                                                                                                                                                                                                                                                                                                                                                                                                                                                                                                                                      \" Bottle thanks to WeeHeavy\\tPours deep maroon with a big fresh raspberry smell and a touch of malty \"\"beery\"\"ness to it as well. Tart, fresh and sweet raspberry flavor and nicely and crisply carbonated. Some grain like beer flavor in the finish that keeps it short of cloying. Fantastic flavor, and very well done. So far, my favorite beer from Founders. Big thanks for this one Jon!\\t\\t\"\n",
       "26259                                                                                                                                                                                                                                                                                                                                                                                                                                                                                                                                                                                                                                                                                                                          \" Cloudy, thick maroon with a frothy off white beige head. Smell is bittersweet malt with a lovely rich earthy hop aroma. Taste is somewhat more light bodied than expected, with a smooth earthy, grassy, faint sweetness. Nice rye flavor, and a quality beer that suffers from a metallic finish however.\\t\\t\"\n",
       "28455                                                                                                                                                                                                                                                                                                                                                                                                                                                                                                                            \" Orange amber sedimenty laden hazy pour with about the biggest meringue like head ever.. Ridiculously carbonated and a HUGE psssstttt sound when popping the cap. Also underfilled bottle. Very strange. That aside it had an earthy, grassy hop aroma and flavor, along with a very light sweetness. Big hop flavor, mild bitterness, kind of over carbonated and felt like champagne in the mouth towards the end of the glass. Flavor needs a bit more body, sweetness, but still a good pale overall.\\t\\t\"\n",
       "30703                                                                                                                                                                                                                                                                                                                                                                                                                                                                                                                                                                         \" Bottle courtesy of demitriustown. Thanks for this awesome beer! \\tSlightly hazy reddish amber color with a creamy offwhite head atop. Smell is light, fruity hops mostly with a citusy focus. Taste is somewhat bright, and fruity with a good hop character. Some citrus flavors and an appropriate malt backing. Good mouthfeel and carbonation level round this one out into a really classic and well done IPA. Very fresh tasting and quite drinkable.\\t\\t\"\n",
       "33760                                                                                                                                                                                                                                                                                                                                                                                                                                                                                     \" bottles courtesy of hoppymeal and prototypic. Thanks!!\\tPours pitch black with a big medium lived dark brown head. Smell is strong coffee, mild bourbon and oak. Very well balanced smell and not overly bourbony. Taste is equally as well balanced with rich dark chocolate like roasty malt, a touch of vanilla, stong oak flavor, a touch of bourbon, and bold coffee flavors. This is really nice, and quite a bit more enjoyable than the original breakfast stout. Medium to thick body and moderate to light carbonation. Awesome beer.\\t\\t\"\n",
       "35889                                                                                                                                                                                                                                                                                                                                                                                                                                                                                             \" Bottle in trade from ROBORB. Thanks man! Pours a rich dark black with a medium lived tan head. Smell is roasty malt, coffee and is quite nutty as well. Taste is very richly roasted, dark bitter chocolate, roasted coffee beans, bitter charred malt, and just really nice. A pretty substantial amount of bitterness either from the hops or the charred malt. Body is medium to full with medium carbonation. Damn tasty and easily one of the best porters I've had. How is this not a stout, and why is it not a year round beer?\\t\\t\"\n",
       "37546                                                                                                                                                                                                                                                                                                                                                                                                                                                                                                                                                                                                                                                                                  \" 12 oz. bottle thanks to gregis\\tBlack pour with a fizzy cola like tan head. Smell is very subtly smoked malt. Taste is mild, but noticeable smoke presence with a decent sweetness to it. Nice balance of getting the smoke in without making it overpowering. A touch thin, but still well done overall and a quality smoked beer that I enjoyed.\\t\\t\"\n",
       "38075                                                                                                                                                                                                                                                                                                                                                                                                                                                                                                                                                                                                                            \" Pours cloudy orangish honey colored with a nice white head. Smell is wheaty, and peach as to be expected with some mustiness too. Has that thick wheaty feel to it, and a light nice fruitiness to it, but is dry and not sweet cloying like some fruit beers. Kind of a lemony peach flavor that is quite nice actually. Full mouthfeel for a fruit beer, bubbly, easy to drink, and a good summer beer\\t\\t\"\n",
       "44592                                                                                                                                                                                                            \" from City Beer Store in S.F. Poured a rich dark brown in a weizen glass with a nice light tan head. Good lacing too. Smell was very reminiscent of salted and peppered beef jerky and smoked bbq, and although it was very obvious, it wasn't as extremely overpowering or offensive as I feared. I found it extremely enticing and the taste was not a letdown either. The base of the beer itself was smooth, perfectly malty and sweet with a touch of lingering smokiness and light bitterness in the finish. It was very full flavored, not overdone and perfectly crisp from the carbonation, and I was shocked at how drinkable this stuff was. I expected this to be a letdown b/c I was quite excited to try it, but I was very pleasantly surprised. Very good, and I can't wait to try the other 2 varieties.\\t\\t\"\n",
       "46276                                                                                                                                                                                                                                                                                                                                                                                                                                                                                                                                                                                                                                            \" Pours nice golden with white head that doesn't last. Smell is sweet honey maltiness , and very doughy breadiness, with maybe a faint touch of hops. Taste is a touch hoppy, with a firm bitter bite up front with a doughy, yeasty aftertaste that I don't care for. Very light bodied and ends slightly fuller with the aftertaste. Not great, I thought after having it a second time.\\t\\t\"\n",
       "50930                                                                                                                                                                                                                                                                                                                                                                                     \" An almost 6 month old bottle in trade from raverjames. Specifically requested a fresh bottle before trading and this is not what I had hoped for. Pours an orange amber color, cloudy, and with a nice lasting light beige head. Smell is mild and nondescript light, stale hops. Taste is bitter, grassy and alcoholic with some dull stale fruitiness and prominent malt flavor, but mostly alcoholic and unimpressive. No citrus notes or crisp hop flavors in this beer at all. Best case, a stale DIPA, and worst case, just another overly hot, unimpressively flavored DIPA. A notch above \"\"drainpour\"\", but still not worth finishing.\\t\\t\"\n",
       "...                                                                                                                                                                                                                                                                                                                                                                                                                                                                                                                                                                                                                                                                                                                                                                                                                                                                                                                                                                                                                                          ...\n",
       "1518738                                                                                                                                                                                                                                                                                                                                                                                                                                                                                                                                                                   \" Thanks to aceofhearts for sharing this awesome beer!\\t\"\"The diablo\"\" pours a light muddy chocolate brown with a light beige head. Smell is light and bright, fresh malt with just a hint of alcohol. Taste is pretty hoppy up front with earthy and piney hops and dark and toasty malt. Beyond that, there is an oaky drying characteristic. Slightly bubbly mouthfeel. Really nice woodsy and hoppy toasty malt combo. As good as it is unique. Thanks again.\\t\\t\"\n",
       "1527198                                                                                                                                                                                                                                                                                                               \" Bottle courtesy of davehoward\\tBlack, oily pour with a nice brown head that lasts for a bit. Smell is nicely rich, dark roastiness, and some dark chocolate as well. Alcohol is well hidden in the nose, I thought. Taste is dark roast, and a noticeable amount of acidity and light tartness giving it a uniqueness from other Imperial Stouts. A bit of a prickly carbonated mouthfeel at first, which subsides later. Slightly thick mouthfeel, with a dry dark chocolate finish. Just a hint warming. Ever so slightly tart, dark chocolate flavor as it warms. Overall a really good imperial stout that I would like to try again, especially aged to see how it differs. Thanks a lot for the bottle, Dave!\\t\\t\"\n",
       "1529651                                                                                                                                                                                                                                                                                                                                                                                                                                                                                                                                                           \" bottles from emacgee and The_Epeeist. Thanks!\\tPours semi clear dark maroon with a medium sized lasting light beige head. Smell is alcohol, and sweaty, dirty, B.O. like malt. Odd, and unappealing, really. Taste is rich, strong and moderately alcoholic with toasty malt. Sweaty, mustiness again, and slightly syrupy with a bubbly mouthfeel. Not very appealing flavorwise, and boring and bland at the same time. I would not recoment this barely wine at all.\\t\\t\"\n",
       "1530519                                                                                                                                                                                                                                                                                                                                                                                                                                                                                                                                                                                                                               \" Thanks to miketd for this bonused beer from my want list-\\tLight clear orange pour with a large offwhite head. Mild pumpkin spice smell, perhaps a bit less so than average. Body is watery, thin and flavorwise is probably the blandest pumpkin beer I've had. Very low carbonation as well adds to the lifelessness of it. Not offensively flavored at all, just a poor pumpkin beer, I thought.\\t\\t\"\n",
       "1532247                                                                                                                                                                                                                                                                                                                                                                                                                                                                                                                                                                                                                                         \" Thanks to davehoward for the bottle! Pours a dark brown color with ruby edges on the glass. Light tan fizzy head. Smell is toasty, semi roasty malt. Hint of chocolate and coffee round it out and a mild roastiness is present in the taste as will along with a slight sour bitterness. Very thin body I thought. Not bad, but just not impressive especially for what I was expecting.\\t\\t\"\n",
       "1533241                                                                                                                                                                                                                                                                                                                                                                                                                                                                                                                                                                                                     \" Bottle shared at tasting courtesy of Dewbrewer. Thanks! \\tPours medium light golden with a big lasting white head. Very Duvel like in appearance. Smell is dusty, light sweetness in a somewhat floral and honey way and cobwebby. Taste is honey sweetness, but not cloying for me, subtle, delicate floral flavors as well with a noticeble light spiced characteristic that is hard to place. Unique and nicely drinkable.\\t\\t\"\n",
       "1533826                                                                                                                                                                                                                                                                                                                                                                                                                                                                                                                                                                                                                                                                             \" Bottle shared at a tasting. Pours dark maroon with a thin beige head. Smell is dark fruit, bubble gum and is slightly vinuous in the nose as well. Taste is dark fruit, winelike and semi dry in the finish with some belgian candi-sugar. Medium to thin body and lightly prickly carbonation. A touch boozy, and pretty nice for the style, though.\\t\\t\"\n",
       "1537486                                                                                                                                                                                                                                                                                                                                                                                                                                                                                                                                                                                                                                                                                                                                                              \" Bottle shared at Draught House tasting. \\tPours dark chocolately brown to black. Smell is fresh, bright, yet chocolatey. Taste is more caramel than roasty chocolate, and is mildly fizzy with a medium body. Pretty average, and not very interesting or flavorful.\\t\\t\"\n",
       "1538957                                                                                                                                                                                                                                                                                                                                                                                                                                                                                                                                                                                                                               \" On tap at CIty Beer Store in S.F. Thanks to Craig for the sample of this. Smell was somehow of a spiced cream corn, and not corn in the way that cheap beers smell or taste of corn. Light clearish yellow color with a unique taste to match the smell. Has a nice almost spiced maybe subtle bitter bite to it, and was quite nice. An interesting beer worth trying if you can get a shot at it.\\t\\t\"\n",
       "1542699                                                                                                                                                                                                                                                                                                                                                                                                                                                                                                                                                                                      \" Rich copperish amber pour with a nice offwhite head. Light fresh, somewhat unique hop smell with some light sweetness in there too. Fairly sweet and mild for an IPA with some fresh, grassy hops. Could be slightly more flavorful, and really isn't that bold at all. One of the milder IPAs I've had and I'm not fanatical about insane amounts of hops. A friendly, easy, good IPA, but surely nothing worth a top 2-3% of beers ever...\\t\\t\"\n",
       "1546815  \" Bottle courtesy of DrBayern - Rich thick nicely viscous black pour in a snifter with a short lived brown head. Smell is of some dark roasted malt, but the big hoppiness of this came off as extremely metallic to me. As it warmed this lessened, and it was more roasty with a sharp hoppiness. Taste was fairly hopped, dark and roasty with very little sweetness, and with alcohol only lightly noticeable, but pleasant. A mild tasting finish with a good bitterness and a nicely thick pleasant mouthfeel. As far as stouts go, I'm starting to think I enjoy the sweeter and/or less hoppy stouts, because to me the dark roast character and the big hoppiness seem to clash. Rather than the citrusy, light, aromatic floral qualities as present in Pales, IPAs, etc.. I rather find the hops tasting bland bitter and metallic if predominant in bigger stouts. Not bad at all, but just not my speed. \\t\\tRe-rate - enjoyed on draght and really liked the dry roastiness to it. Solid mouthfeel and body and an enj...\n",
       "1550596                                                                                                                                                                                                                                                                                                                                                                                                                                                                                                                                                                                                                                                                                                                                                        \" White short lasting head, with a nice balanced smell. Decent amount of bitterness up front with a honey, malty sweetness following and a yeasty flavor. Good hop presence that fades into a semi quick slight bitter finish. Would try again, but not my favorite pilsner.\\t\\t\"\n",
       "1553031                                                                                                                                                                                                                                                                                                                                                                                                                                                                                                                                                                                                                                                                                             \" Bottle courtesy of DrJay\\tPours a clear dark brown to black color with a light tan head. Smell is cardboard like stale dark malts and not much else. Flavor is roasty with an ashy flavor component as well. Higher than average hopping as well, but the flavor of this didn't do anything for me unfortunately. Wouldn't recommend.\\t\\t\"\n",
       "1553570                                                                                                                                                                                                                                                                                                                                                                                                                                                                                                                       \" Pours copper, clear, with foamy white head. Smell is sweet, grainy, and mild resiny hops for a IIPA. Taste fair amount of sweet initially masked by the bitter, piney and soapy hops. Leaves a bit of an oily hoppy bitterness coating over the entire tongue, and hops fade leaving the bitterness and the creamy sweetness reappears. Although quite bitter, it doesn't have a huge hop flavor, I thought, and comes with a bigger than average, but nice maltiness as well. Pretty good IIPA, I thought.\\t\\t\"\n",
       "1559211                                                                                                                                                                                                                                                                                                                                                                                                                                                                                                                                                                                                                                                                                                                                           \" Light medium clearish orange pour with white short lived head. Nice orange smell with light spice/metallic notes as well. Flavor is of arange, and body is highly carbonated. Lightly flavored overall, but the orange is quite noticeable. Prickly mouthfeel, and a bit boring overall\\t\\t\"\n",
       "1559838                                                                                                                                                                                                                                                                                                                                                                                                                                                                                                                                                          \" Saw this for the 1st time in the area yesterday and decided to pick it up. Clear medium to dark orange color with light head. Smell is nicely aromatic pumpkin and spices and is very pie like. Flavor is nicely of pumpkin, with a solid spiced flavor in the aftertaste. Mouthfeel is somewhat thin, and average. Nothing too outstanding, but I find this to be a pretty decent pumpkin beer all around. I'd prefer a touch more sweetness, but as it stands, its ok.\\t\\t\"\n",
       "1561049                                                                                                                                                                                                                                                                                                                                                                                                                                                                                                                                                                                                                                                                                                                                                                    \" bottle generously shared at tasting. Thanks!\\tPours a golden hazy color. Smell is bright lager like malt. Taste is rich maltiness, lightly hoppy and lager like. Medium bodied and like an amped up pilsner, as to be expected. Not over the top. Pretty good.\\t\\t\"\n",
       "1561970                                                                                                                                                                                                                                                                                                                                                                                                                                                                                                                                                                                                            \" bottle shared at tasting with Dewbrewer. Thank you! \\tPours a rich, cloudy amber with not much head mustering up in my sample. Smell is malty toastiness, but light and a fair amount of hops in the nose too for the style. Taste is somewhat thin with a uniquely prominent lemony hop characteristic in the end. Thin bodied overall, and mild maltiness. Different from what I'd expect of the style, but not bad.\\t\\t\"\n",
       "1569157                                                                                                                                                                                                                                                                                                                                                                                                                                                                                                                                                                 \" Deep ruby brown, medium light tan head that didn't last. Smell at first was like a ball of foil, and after a minute or two, turned to a rich malt, grassy, lightly metallic smell, with stick soy and peaty notes. Taste was similar, with a slight sourness. Maybe it wasn't so fresh, but I drank it within a couple days of buying it. Didn't taste the alcohol really, but it was still pretty poor I thought, and not what I was hoping or thinking it'd be.\\t\\t\"\n",
       "1571381                                                                                                                                                                                                                                                                                                                                                                                                                                                                                                                                                                            \" Transluscent maroon pour with offwhite head. Smells skunky, like a heineken or st. pauli girl would, then a bit sour, vinegar-ish smell. A bit of the band-aid smell I've read about, but this was my first experience actually noticing it. Taste is a thin boring very lightly malty flavor that was much weaker than I expected, but at least I didn't taste the skunkiness. Even if this one weren't bad, the flavor was a very diluted brown ale.\\t\\t\"\n",
       "1574926                                                                                                                                                                                                                                                                                                                                                                                                                                                                                                                                                                                                                                      \" bottle shared by guezelover\\t'07 bottle Pours a ruby color with mild offwhite head. Smell is oaky and sour cherry. Taste is mainly the same two flavors as in the nose with no real offensive funkiness at all. Still tart and some vinegar qualities, but one of the more drinkable sours that I've had, for sure. Nice as far as sours go, overall I thought, but still not my cup of tea.\\t\\t\"\n",
       "1575866                                                                                                                                                                                                                                                                                                                                                                                                                                                                                                                                                                                                                                                                          \" Bottle courtesy of alexgash, I believe. Thanks!\\tPours black with a smallish tan head that fades quickly. Smell is strong coffee, thin roasty malt and an almost cardboard-like component. Flavor is coffee up front and roasted malt, but very thin. Thin malt flavor, roastiness and body, despite the strong coffee flavor. Not great, but drinkable.\\t\\t\"\n",
       "1576340                                                                                                                                                                                                                                                                                                                                                                                                                                                                                                                                                                                                                                                                                                                                 \" Pours a nice dark black with a small tan head. Smell is nice and strong with dark roasted malt, coffee and chocolate notes. Taste is as expected with roasty dark malt and bitter chocolate. Medium to full body with light to normal carbonation and no alcohol presence. Very respectable brew.\\t\\t\"\n",
       "1576719                                                                                                                                                                                                                                                                                                                                                                                                                                                                                                     \" Can courtesy of BgThang. Thanks man!\\t\\tPours a rich, thick amber with a reddish tint and nice head. \\tSmell is big and fruity hoppiness with loads of grapefruit in the nose too. Taste is fruity, caramelly smooth maltiness, and nice citrusy hop flavor and a solid, but mildish bitterness that works great for a pale ale. Less hoppy tasting than the nose might indicate, but still pretty nice and clean. Drinkability is awesome, and this is a great, refreshing sessionable pale that I'd be happy to have again.\\t\\t\"\n",
       "1579386                                                                                                                                                                                                                                                                                                                                                                                                                                                                                                                                                                                                                                 \" Bottle courtesy of Bitterbill in trade. Thanks!\\tPours black with a lasting light tan head. Smell is unique, but with some thin chocolate and some sort of creamy \"\"greenness\"\" to it like an unripe banana. Taste is very lightly roasted thin malt and some metallic notes and an odd green tartness. Mouthfeel is lacking and is too thin as is the flavor. Just a very strange beer, overall.\\t\\t\"\n",
       "1579654                                                                                                                                                                                                                                                                                                                                                                                                                                                                                                                                                                              \" Pours rich maroon with a slight hazed look and a thin beige head. Smell is very fresh with dark malty sweetness comin in along with balancing hops in the form of grassy and vegetal notes, almost. Taste is moderately sweet but not syrupy at all, and balanced by the grassy hop flavor and a touch of alcohol. Something in this beer seemed a bit odd to me, and once I got \"\"vegetal\"\" in my mind, I couldn't shake that and enjoy it as much.\\t\\t\"\n",
       "1579984                                                                                                                                                                                                                                                                                                                                                                                                                                                                                                                                                                                                                                                                           \" Thanks to Fordest for this one- Pours a Rich, orange amber color with a some nice head to it. Smell is nice and toasty sweet malt and toffee. Mouthfeel is very smooth and creamy. Tastes is good and heavily on the malty side of ambers. No real sign of hops to speak of, but it is a nice, tasty easy drinking beer. I definitely enjoyed this one.\\t\\t\"\n",
       "1580608                                                                                                                                                                                                                                                                                                                                                                                                                                                                                                                                                                                                                               \" Bottle courtesy of bitterbill. Thanks!\\tPours a clear orange to copper color with a thin white head. Smell is mostly malty with some spiced character in the way of the spruce tips, I'm guessing. Taste is malty and refreshingly minty almost and cool feeling in the mouth. Unique mouthfeel and flavor but not particularly fantastic either. Medium to thin bodied and somewhat easy drinking.\\t\\t\"\n",
       "1580937                                                                                                                                                                                                                                                                                                                                                                                                                                                                                                                                                                                                                               \" Thanks to Fordest for this- Dark yellow to light gold pour in a Kolsch glass. Big lasting white head, and a faint grassy, sweet malt smell. Was refreshing, sweet and nicely but mildly flavored of crisp malt. A bit watery especially in the finish, but still enough flavor to keep from being boring. This is a good Kolsch, but I'm starting to crave more flavorful beers as its cooling off.\\t\\t\"\n",
       "1585132                                                                                                                                                                                                                                                                                                                                                                                                                                                                                                                                                                                                                           \" Black pour with big brown fluffy head in a snifter. Lots of staying head and lacing. Smells hoppy, roasted dark malt, and smells like it will be bitter. Alcohol comes out more as it sits, which I tend to hate in any beer. Taste is fairly muted for what I expected. Taste is dark roastiness, licorice, quite mild bitterness, alcohol, and a medium lengthed finish. Smooth, but strong. Ok beer.\\t\\t\"\n",
       "\n",
       "[1171 rows x 1 columns]"
      ]
     },
     "execution_count": 19,
     "metadata": {},
     "output_type": "execute_result"
    }
   ],
   "source": [
    "pd.options.display.max_colwidth = 1000\n",
    "customer2=beer.loc[beer['profile_name'] == ' JDV',['text']]\n",
    "customer2"
   ]
  },
  {
   "cell_type": "markdown",
   "metadata": {},
   "source": [
    "### Let's check the ratios "
   ]
  },
  {
   "cell_type": "code",
   "execution_count": 20,
   "metadata": {},
   "outputs": [
    {
     "data": {
      "text/html": [
       "<div>\n",
       "<style>\n",
       "    .dataframe thead tr:only-child th {\n",
       "        text-align: right;\n",
       "    }\n",
       "\n",
       "    .dataframe thead th {\n",
       "        text-align: left;\n",
       "    }\n",
       "\n",
       "    .dataframe tbody tr th {\n",
       "        vertical-align: top;\n",
       "    }\n",
       "</style>\n",
       "<table border=\"1\" class=\"dataframe\">\n",
       "  <thead>\n",
       "    <tr style=\"text-align: right;\">\n",
       "      <th></th>\n",
       "      <th>profile_name</th>\n",
       "      <th>total_by_customer</th>\n",
       "    </tr>\n",
       "  </thead>\n",
       "  <tbody>\n",
       "    <tr>\n",
       "      <th>0</th>\n",
       "      <td>007</td>\n",
       "      <td>5</td>\n",
       "    </tr>\n",
       "    <tr>\n",
       "      <th>1</th>\n",
       "      <td>00766</td>\n",
       "      <td>2</td>\n",
       "    </tr>\n",
       "    <tr>\n",
       "      <th>2</th>\n",
       "      <td>01001111</td>\n",
       "      <td>5</td>\n",
       "    </tr>\n",
       "    <tr>\n",
       "      <th>3</th>\n",
       "      <td>0110x011</td>\n",
       "      <td>139</td>\n",
       "    </tr>\n",
       "    <tr>\n",
       "      <th>4</th>\n",
       "      <td>01121987</td>\n",
       "      <td>29</td>\n",
       "    </tr>\n",
       "  </tbody>\n",
       "</table>\n",
       "</div>"
      ],
      "text/plain": [
       "  profile_name  total_by_customer\n",
       "0          007                  5\n",
       "1        00766                  2\n",
       "2     01001111                  5\n",
       "3     0110x011                139\n",
       "4     01121987                 29"
      ]
     },
     "execution_count": 20,
     "metadata": {},
     "output_type": "execute_result"
    }
   ],
   "source": [
    "totales=beer.groupby(['profile_name'])['names'].count()\n",
    "total_by_customer=totales.to_frame('total_by_customer') \n",
    "total_by_customer.reset_index(inplace=True)\n",
    "total_by_customer.head()"
   ]
  },
  {
   "cell_type": "code",
   "execution_count": 22,
   "metadata": {},
   "outputs": [
    {
     "data": {
      "text/html": [
       "<div>\n",
       "<style>\n",
       "    .dataframe thead tr:only-child th {\n",
       "        text-align: right;\n",
       "    }\n",
       "\n",
       "    .dataframe thead th {\n",
       "        text-align: left;\n",
       "    }\n",
       "\n",
       "    .dataframe tbody tr th {\n",
       "        vertical-align: top;\n",
       "    }\n",
       "</style>\n",
       "<table border=\"1\" class=\"dataframe\">\n",
       "  <thead>\n",
       "    <tr style=\"text-align: right;\">\n",
       "      <th></th>\n",
       "      <th>profile_name</th>\n",
       "      <th>year</th>\n",
       "      <th>month</th>\n",
       "      <th>day</th>\n",
       "      <th>total_customer_day</th>\n",
       "    </tr>\n",
       "  </thead>\n",
       "  <tbody>\n",
       "    <tr>\n",
       "      <th>0</th>\n",
       "      <td>007</td>\n",
       "      <td>2008</td>\n",
       "      <td>9</td>\n",
       "      <td>4</td>\n",
       "      <td>1</td>\n",
       "    </tr>\n",
       "    <tr>\n",
       "      <th>1</th>\n",
       "      <td>007</td>\n",
       "      <td>2010</td>\n",
       "      <td>9</td>\n",
       "      <td>30</td>\n",
       "      <td>1</td>\n",
       "    </tr>\n",
       "    <tr>\n",
       "      <th>2</th>\n",
       "      <td>007</td>\n",
       "      <td>2010</td>\n",
       "      <td>10</td>\n",
       "      <td>12</td>\n",
       "      <td>1</td>\n",
       "    </tr>\n",
       "    <tr>\n",
       "      <th>3</th>\n",
       "      <td>007</td>\n",
       "      <td>2010</td>\n",
       "      <td>10</td>\n",
       "      <td>27</td>\n",
       "      <td>1</td>\n",
       "    </tr>\n",
       "    <tr>\n",
       "      <th>4</th>\n",
       "      <td>007</td>\n",
       "      <td>2010</td>\n",
       "      <td>12</td>\n",
       "      <td>8</td>\n",
       "      <td>1</td>\n",
       "    </tr>\n",
       "  </tbody>\n",
       "</table>\n",
       "</div>"
      ],
      "text/plain": [
       "  profile_name  year  month  day  total_customer_day\n",
       "0          007  2008      9    4                   1\n",
       "1          007  2010      9   30                   1\n",
       "2          007  2010     10   12                   1\n",
       "3          007  2010     10   27                   1\n",
       "4          007  2010     12    8                   1"
      ]
     },
     "execution_count": 22,
     "metadata": {},
     "output_type": "execute_result"
    }
   ],
   "source": [
    "totales2=beer.groupby(['profile_name', 'year', 'month', 'day'])['names'].count()\n",
    "total_by_day=totales2.to_frame('total_customer_day') \n",
    "total_by_day.reset_index(inplace=True)\n",
    "total_by_day.head()"
   ]
  },
  {
   "cell_type": "code",
   "execution_count": 23,
   "metadata": {},
   "outputs": [
    {
     "data": {
      "text/html": [
       "<div>\n",
       "<style>\n",
       "    .dataframe thead tr:only-child th {\n",
       "        text-align: right;\n",
       "    }\n",
       "\n",
       "    .dataframe thead th {\n",
       "        text-align: left;\n",
       "    }\n",
       "\n",
       "    .dataframe tbody tr th {\n",
       "        vertical-align: top;\n",
       "    }\n",
       "</style>\n",
       "<table border=\"1\" class=\"dataframe\">\n",
       "  <thead>\n",
       "    <tr style=\"text-align: right;\">\n",
       "      <th></th>\n",
       "      <th>profile_name</th>\n",
       "      <th>total_by_customer</th>\n",
       "      <th>year</th>\n",
       "      <th>month</th>\n",
       "      <th>day</th>\n",
       "      <th>total_customer_day</th>\n",
       "      <th>rating_percent</th>\n",
       "    </tr>\n",
       "  </thead>\n",
       "  <tbody>\n",
       "    <tr>\n",
       "      <th>0</th>\n",
       "      <td>007</td>\n",
       "      <td>5</td>\n",
       "      <td>2008</td>\n",
       "      <td>9</td>\n",
       "      <td>4</td>\n",
       "      <td>1</td>\n",
       "      <td>20.0</td>\n",
       "    </tr>\n",
       "    <tr>\n",
       "      <th>1</th>\n",
       "      <td>007</td>\n",
       "      <td>5</td>\n",
       "      <td>2010</td>\n",
       "      <td>9</td>\n",
       "      <td>30</td>\n",
       "      <td>1</td>\n",
       "      <td>20.0</td>\n",
       "    </tr>\n",
       "    <tr>\n",
       "      <th>2</th>\n",
       "      <td>007</td>\n",
       "      <td>5</td>\n",
       "      <td>2010</td>\n",
       "      <td>10</td>\n",
       "      <td>12</td>\n",
       "      <td>1</td>\n",
       "      <td>20.0</td>\n",
       "    </tr>\n",
       "    <tr>\n",
       "      <th>3</th>\n",
       "      <td>007</td>\n",
       "      <td>5</td>\n",
       "      <td>2010</td>\n",
       "      <td>10</td>\n",
       "      <td>27</td>\n",
       "      <td>1</td>\n",
       "      <td>20.0</td>\n",
       "    </tr>\n",
       "    <tr>\n",
       "      <th>4</th>\n",
       "      <td>007</td>\n",
       "      <td>5</td>\n",
       "      <td>2010</td>\n",
       "      <td>12</td>\n",
       "      <td>8</td>\n",
       "      <td>1</td>\n",
       "      <td>20.0</td>\n",
       "    </tr>\n",
       "  </tbody>\n",
       "</table>\n",
       "</div>"
      ],
      "text/plain": [
       "  profile_name  total_by_customer  year  month  day  total_customer_day  \\\n",
       "0          007                  5  2008      9    4                   1   \n",
       "1          007                  5  2010      9   30                   1   \n",
       "2          007                  5  2010     10   12                   1   \n",
       "3          007                  5  2010     10   27                   1   \n",
       "4          007                  5  2010     12    8                   1   \n",
       "\n",
       "   rating_percent  \n",
       "0            20.0  \n",
       "1            20.0  \n",
       "2            20.0  \n",
       "3            20.0  \n",
       "4            20.0  "
      ]
     },
     "execution_count": 23,
     "metadata": {},
     "output_type": "execute_result"
    }
   ],
   "source": [
    "customer_percent=pd.merge(total_by_customer, total_by_day, on='profile_name', how='outer')\n",
    "customer_percent['rating_percent'] = ((customer_percent['total_customer_day'] / customer_percent['total_by_customer'])*100).round(decimals=2)\n",
    "customer_percent.head()"
   ]
  },
  {
   "cell_type": "markdown",
   "metadata": {},
   "source": [
    "### There are customers that one day rated more than their 40% of total ratings"
   ]
  },
  {
   "cell_type": "code",
   "execution_count": 24,
   "metadata": {},
   "outputs": [
    {
     "data": {
      "text/html": [
       "<div>\n",
       "<style>\n",
       "    .dataframe thead tr:only-child th {\n",
       "        text-align: right;\n",
       "    }\n",
       "\n",
       "    .dataframe thead th {\n",
       "        text-align: left;\n",
       "    }\n",
       "\n",
       "    .dataframe tbody tr th {\n",
       "        vertical-align: top;\n",
       "    }\n",
       "</style>\n",
       "<table border=\"1\" class=\"dataframe\">\n",
       "  <thead>\n",
       "    <tr style=\"text-align: right;\">\n",
       "      <th></th>\n",
       "      <th>profile_name</th>\n",
       "      <th>year</th>\n",
       "      <th>month</th>\n",
       "      <th>day</th>\n",
       "      <th>total_customer_day</th>\n",
       "      <th>total_by_customer</th>\n",
       "      <th>rating_percent</th>\n",
       "    </tr>\n",
       "  </thead>\n",
       "  <tbody>\n",
       "    <tr>\n",
       "      <th>22936</th>\n",
       "      <td>BMan1113VR</td>\n",
       "      <td>2008</td>\n",
       "      <td>2</td>\n",
       "      <td>7</td>\n",
       "      <td>102</td>\n",
       "      <td>133</td>\n",
       "      <td>76.69</td>\n",
       "    </tr>\n",
       "    <tr>\n",
       "      <th>278034</th>\n",
       "      <td>RSRIZZO</td>\n",
       "      <td>2008</td>\n",
       "      <td>11</td>\n",
       "      <td>23</td>\n",
       "      <td>57</td>\n",
       "      <td>140</td>\n",
       "      <td>40.71</td>\n",
       "    </tr>\n",
       "    <tr>\n",
       "      <th>298964</th>\n",
       "      <td>Samp01</td>\n",
       "      <td>2010</td>\n",
       "      <td>11</td>\n",
       "      <td>24</td>\n",
       "      <td>69</td>\n",
       "      <td>165</td>\n",
       "      <td>41.82</td>\n",
       "    </tr>\n",
       "    <tr>\n",
       "      <th>356619</th>\n",
       "      <td>Vendetta</td>\n",
       "      <td>2008</td>\n",
       "      <td>12</td>\n",
       "      <td>7</td>\n",
       "      <td>86</td>\n",
       "      <td>193</td>\n",
       "      <td>44.56</td>\n",
       "    </tr>\n",
       "    <tr>\n",
       "      <th>543416</th>\n",
       "      <td>femALEist</td>\n",
       "      <td>2010</td>\n",
       "      <td>3</td>\n",
       "      <td>25</td>\n",
       "      <td>88</td>\n",
       "      <td>152</td>\n",
       "      <td>57.89</td>\n",
       "    </tr>\n",
       "    <tr>\n",
       "      <th>630580</th>\n",
       "      <td>kdoc8</td>\n",
       "      <td>2007</td>\n",
       "      <td>3</td>\n",
       "      <td>13</td>\n",
       "      <td>68</td>\n",
       "      <td>157</td>\n",
       "      <td>43.31</td>\n",
       "    </tr>\n",
       "  </tbody>\n",
       "</table>\n",
       "</div>"
      ],
      "text/plain": [
       "       profile_name  year  month  day  total_customer_day  total_by_customer  \\\n",
       "22936    BMan1113VR  2008      2    7                 102                133   \n",
       "278034      RSRIZZO  2008     11   23                  57                140   \n",
       "298964       Samp01  2010     11   24                  69                165   \n",
       "356619     Vendetta  2008     12    7                  86                193   \n",
       "543416    femALEist  2010      3   25                  88                152   \n",
       "630580        kdoc8  2007      3   13                  68                157   \n",
       "\n",
       "        rating_percent  \n",
       "22936            76.69  \n",
       "278034           40.71  \n",
       "298964           41.82  \n",
       "356619           44.56  \n",
       "543416           57.89  \n",
       "630580           43.31  "
      ]
     },
     "execution_count": 24,
     "metadata": {},
     "output_type": "execute_result"
    }
   ],
   "source": [
    "customer_percent_grouped=customer_percent.groupby(['profile_name', 'year', 'month', 'day'])\n",
    "result_customer_percent_grouped=customer_percent_grouped['total_customer_day','total_by_customer','rating_percent'].max()\n",
    "result_customer_percent_grouped.reset_index(inplace=True)\n",
    "\n",
    "only_few_beers_rated=result_customer_percent_grouped.loc[(result_customer_percent_grouped['rating_percent'] >=40) & (result_customer_percent_grouped['rating_percent'] <100) & (result_customer_percent_grouped['total_by_customer']>120)]\n",
    "only_few_beers_rated"
   ]
  },
  {
   "cell_type": "markdown",
   "metadata": {},
   "source": [
    "### There are  10.437 customers that have rated a maximun of one beer by day, and the total beers rated by those customers are 30.674. It represents the 91,9 % of the total of beers rated in the dataset (33.381)"
   ]
  },
  {
   "cell_type": "code",
   "execution_count": 26,
   "metadata": {
    "scrolled": true
   },
   "outputs": [
    {
     "data": {
      "text/html": [
       "<div>\n",
       "<style>\n",
       "    .dataframe thead tr:only-child th {\n",
       "        text-align: right;\n",
       "    }\n",
       "\n",
       "    .dataframe thead th {\n",
       "        text-align: left;\n",
       "    }\n",
       "\n",
       "    .dataframe tbody tr th {\n",
       "        vertical-align: top;\n",
       "    }\n",
       "</style>\n",
       "<table border=\"1\" class=\"dataframe\">\n",
       "  <thead>\n",
       "    <tr style=\"text-align: right;\">\n",
       "      <th></th>\n",
       "      <th>profile_name</th>\n",
       "      <th>total_by_customer</th>\n",
       "    </tr>\n",
       "  </thead>\n",
       "  <tbody>\n",
       "    <tr>\n",
       "      <th>0</th>\n",
       "      <td>007</td>\n",
       "      <td>5</td>\n",
       "    </tr>\n",
       "    <tr>\n",
       "      <th>1</th>\n",
       "      <td>00766</td>\n",
       "      <td>2</td>\n",
       "    </tr>\n",
       "    <tr>\n",
       "      <th>2</th>\n",
       "      <td>01001111</td>\n",
       "      <td>5</td>\n",
       "    </tr>\n",
       "    <tr>\n",
       "      <th>3</th>\n",
       "      <td>0110x011</td>\n",
       "      <td>139</td>\n",
       "    </tr>\n",
       "    <tr>\n",
       "      <th>4</th>\n",
       "      <td>01121987</td>\n",
       "      <td>29</td>\n",
       "    </tr>\n",
       "  </tbody>\n",
       "</table>\n",
       "</div>"
      ],
      "text/plain": [
       "  profile_name  total_by_customer\n",
       "0          007                  5\n",
       "1        00766                  2\n",
       "2     01001111                  5\n",
       "3     0110x011                139\n",
       "4     01121987                 29"
      ]
     },
     "execution_count": 26,
     "metadata": {},
     "output_type": "execute_result"
    }
   ],
   "source": [
    "total_by_customer.head()"
   ]
  },
  {
   "cell_type": "code",
   "execution_count": 27,
   "metadata": {},
   "outputs": [
    {
     "data": {
      "text/plain": [
       "total_by_customer\n",
       "1    10437\n",
       "2     4110\n",
       "3     2424\n",
       "4     1601\n",
       "5     1245\n",
       "6      932\n",
       "Name: profile_name, dtype: int64"
      ]
     },
     "execution_count": 27,
     "metadata": {},
     "output_type": "execute_result"
    }
   ],
   "source": [
    "num_ratings_customer=total_by_customer.groupby(['total_by_customer'])['profile_name'].nunique()\n",
    "num_ratings_customer.nlargest(6)"
   ]
  },
  {
   "cell_type": "code",
   "execution_count": 28,
   "metadata": {},
   "outputs": [
    {
     "data": {
      "text/plain": [
       "30674"
      ]
     },
     "execution_count": 28,
     "metadata": {},
     "output_type": "execute_result"
    }
   ],
   "source": [
    "only_one_beer=total_by_day.loc[total_by_day['total_customer_day'] ==1]\n",
    "only_one_beer.groupby(['profile_name'])['profile_name'].nunique().count()"
   ]
  },
  {
   "cell_type": "code",
   "execution_count": 29,
   "metadata": {
    "collapsed": true
   },
   "outputs": [],
   "source": [
    "final_customers=only_one_beer.drop_duplicates(subset='profile_name', keep='first', inplace=False)"
   ]
  },
  {
   "cell_type": "code",
   "execution_count": 30,
   "metadata": {},
   "outputs": [
    {
     "data": {
      "text/html": [
       "<div>\n",
       "<style>\n",
       "    .dataframe thead tr:only-child th {\n",
       "        text-align: right;\n",
       "    }\n",
       "\n",
       "    .dataframe thead th {\n",
       "        text-align: left;\n",
       "    }\n",
       "\n",
       "    .dataframe tbody tr th {\n",
       "        vertical-align: top;\n",
       "    }\n",
       "</style>\n",
       "<table border=\"1\" class=\"dataframe\">\n",
       "  <thead>\n",
       "    <tr style=\"text-align: right;\">\n",
       "      <th></th>\n",
       "      <th>profile_name</th>\n",
       "      <th>year</th>\n",
       "      <th>month</th>\n",
       "      <th>day</th>\n",
       "      <th>total_customer_day</th>\n",
       "    </tr>\n",
       "  </thead>\n",
       "  <tbody>\n",
       "    <tr>\n",
       "      <th>0</th>\n",
       "      <td>007</td>\n",
       "      <td>2008</td>\n",
       "      <td>9</td>\n",
       "      <td>4</td>\n",
       "      <td>1</td>\n",
       "    </tr>\n",
       "    <tr>\n",
       "      <th>5</th>\n",
       "      <td>00766</td>\n",
       "      <td>2011</td>\n",
       "      <td>10</td>\n",
       "      <td>11</td>\n",
       "      <td>1</td>\n",
       "    </tr>\n",
       "    <tr>\n",
       "      <th>8</th>\n",
       "      <td>01001111</td>\n",
       "      <td>2012</td>\n",
       "      <td>1</td>\n",
       "      <td>2</td>\n",
       "      <td>1</td>\n",
       "    </tr>\n",
       "    <tr>\n",
       "      <th>11</th>\n",
       "      <td>0110x011</td>\n",
       "      <td>2008</td>\n",
       "      <td>3</td>\n",
       "      <td>15</td>\n",
       "      <td>1</td>\n",
       "    </tr>\n",
       "    <tr>\n",
       "      <th>129</th>\n",
       "      <td>01121987</td>\n",
       "      <td>2009</td>\n",
       "      <td>4</td>\n",
       "      <td>8</td>\n",
       "      <td>1</td>\n",
       "    </tr>\n",
       "  </tbody>\n",
       "</table>\n",
       "</div>"
      ],
      "text/plain": [
       "    profile_name  year  month  day  total_customer_day\n",
       "0            007  2008      9    4                   1\n",
       "5          00766  2011     10   11                   1\n",
       "8       01001111  2012      1    2                   1\n",
       "11      0110x011  2008      3   15                   1\n",
       "129     01121987  2009      4    8                   1"
      ]
     },
     "execution_count": 30,
     "metadata": {},
     "output_type": "execute_result"
    }
   ],
   "source": [
    "final_customers.head()"
   ]
  },
  {
   "cell_type": "code",
   "execution_count": 31,
   "metadata": {
    "collapsed": true
   },
   "outputs": [],
   "source": [
    "final_customers=final_customers.filter(items=['profile_name'])"
   ]
  },
  {
   "cell_type": "code",
   "execution_count": 32,
   "metadata": {},
   "outputs": [
    {
     "data": {
      "text/plain": [
       "30674"
      ]
     },
     "execution_count": 32,
     "metadata": {},
     "output_type": "execute_result"
    }
   ],
   "source": [
    "final_dataset=pd.merge(final_customers, beer, on='profile_name', how='left')\n",
    "final_dataset.groupby(['profile_name'])['profile_name'].nunique().count()"
   ]
  },
  {
   "cell_type": "code",
   "execution_count": 33,
   "metadata": {},
   "outputs": [
    {
     "data": {
      "text/html": [
       "<div>\n",
       "<style>\n",
       "    .dataframe thead tr:only-child th {\n",
       "        text-align: right;\n",
       "    }\n",
       "\n",
       "    .dataframe thead th {\n",
       "        text-align: left;\n",
       "    }\n",
       "\n",
       "    .dataframe tbody tr th {\n",
       "        vertical-align: top;\n",
       "    }\n",
       "</style>\n",
       "<table border=\"1\" class=\"dataframe\">\n",
       "  <thead>\n",
       "    <tr style=\"text-align: right;\">\n",
       "      <th></th>\n",
       "      <th>profile_name</th>\n",
       "      <th>Unnamed: 0</th>\n",
       "      <th>Unnamed: 0.1</th>\n",
       "      <th>Unnamed: 0.1.1</th>\n",
       "      <th>names</th>\n",
       "      <th>Id</th>\n",
       "      <th>brewerId</th>\n",
       "      <th>ABV</th>\n",
       "      <th>style</th>\n",
       "      <th>appearance</th>\n",
       "      <th>aroma</th>\n",
       "      <th>palate</th>\n",
       "      <th>taste</th>\n",
       "      <th>overall</th>\n",
       "      <th>time</th>\n",
       "      <th>text</th>\n",
       "      <th>time2</th>\n",
       "      <th>day</th>\n",
       "      <th>month</th>\n",
       "      <th>year</th>\n",
       "    </tr>\n",
       "  </thead>\n",
       "  <tbody>\n",
       "    <tr>\n",
       "      <th>0</th>\n",
       "      <td>007</td>\n",
       "      <td>985797</td>\n",
       "      <td>985797</td>\n",
       "      <td>985797</td>\n",
       "      <td>Fraoch Heather Ale</td>\n",
       "      <td>245</td>\n",
       "      <td>12142</td>\n",
       "      <td>5.0</td>\n",
       "      <td>Scottish Gruit / Ancient Herbed Ale</td>\n",
       "      <td>3.5</td>\n",
       "      <td>2.5</td>\n",
       "      <td>3.5</td>\n",
       "      <td>4.0</td>\n",
       "      <td>4.5</td>\n",
       "      <td>1220542724</td>\n",
       "      <td>\" First tried this as part of a mix case several years ago and had been wanting more ever since. Found it by the case and eagerly bought it.\\t\\tAppearance - pale to amber, slightly cloudy, weak head\\t\\tSmell - faint floral or herbal notes\\t\\tTaste - Again, floral and herbal notes, lacking the typical bitter hops finish\\t\\tMouthfeel - smooth, almost watery\\t\\tDrinkability - I think this is a must-try beer, if only for it's unique ingredients and taste. I will enjoy drinking it while I have it, but wouldn't make it a staple.\\t\\t\"</td>\n",
       "      <td>2008-09-04</td>\n",
       "      <td>4</td>\n",
       "      <td>9</td>\n",
       "      <td>2008</td>\n",
       "    </tr>\n",
       "    <tr>\n",
       "      <th>1</th>\n",
       "      <td>007</td>\n",
       "      <td>1539730</td>\n",
       "      <td>1539730</td>\n",
       "      <td>1539730</td>\n",
       "      <td>Saison Du BUFF</td>\n",
       "      <td>61351</td>\n",
       "      <td>345</td>\n",
       "      <td>6.8</td>\n",
       "      <td>Saison / Farmhouse Ale</td>\n",
       "      <td>4.0</td>\n",
       "      <td>3.5</td>\n",
       "      <td>4.5</td>\n",
       "      <td>3.5</td>\n",
       "      <td>4.5</td>\n",
       "      <td>1285854092</td>\n",
       "      <td>\" Poured from bottle into pint glass. \\t\\tHazy golden color with 1-2 finger head that lingered.\\t\\tAroma was floral in character and more powerful than other saisons.\\t\\tVarious spice flavors followed by mild hop bitterness made this very enjoyable to drink. The floral aromas, however, make this a brew that I could enjoy in quality, but not in quantity.\\t\\tWell done.\\t\\t\"</td>\n",
       "      <td>2010-09-30</td>\n",
       "      <td>30</td>\n",
       "      <td>9</td>\n",
       "      <td>2010</td>\n",
       "    </tr>\n",
       "    <tr>\n",
       "      <th>2</th>\n",
       "      <td>007</td>\n",
       "      <td>1544437</td>\n",
       "      <td>1544437</td>\n",
       "      <td>1544437</td>\n",
       "      <td>HopDevil Ale</td>\n",
       "      <td>1005</td>\n",
       "      <td>345</td>\n",
       "      <td>6.7</td>\n",
       "      <td>American IPA</td>\n",
       "      <td>4.5</td>\n",
       "      <td>5.0</td>\n",
       "      <td>4.5</td>\n",
       "      <td>5.0</td>\n",
       "      <td>5.0</td>\n",
       "      <td>1286891828</td>\n",
       "      <td>\" A- dark amber, lasting head, delicate ephemeral lacing\\tS - piney, citrusy \\tT - bitter...no sweet...no spicy...no, wait bitter again...\\tM - smooth, balanced carbonation, clean finish\\tD - 5.0 exceptional, never disappointing\\t\\tWith apologies to Sir Arthur Conan Doyle...\\t\\tTo 007, she was always the beer. I have seldom heard him mention her under any other name. In his eyes she eclipses and predominates the whole of her style. It was not that he felt any emotion akin to love for HopDevil. All emotions,and that one particularly, were abhorrent to his cold, precise but admirably balanced mind. He was, I take it, the most perfect reasoning and observing machine that the world has seen, but as a beer-lover he would have placed himself in a false position. He never spoke of the softer passions, save with a gibe and a sneer.\\t\\tThey were admirable things for the observer -- excellent for drawing the veil from beer's motives and actions. But for the trained reasoner to admit such int...</td>\n",
       "      <td>2010-10-12</td>\n",
       "      <td>12</td>\n",
       "      <td>10</td>\n",
       "      <td>2010</td>\n",
       "    </tr>\n",
       "    <tr>\n",
       "      <th>3</th>\n",
       "      <td>007</td>\n",
       "      <td>1545868</td>\n",
       "      <td>1545868</td>\n",
       "      <td>1545868</td>\n",
       "      <td>Helios  (V Saison)</td>\n",
       "      <td>47776</td>\n",
       "      <td>345</td>\n",
       "      <td>7.5</td>\n",
       "      <td>Saison / Farmhouse Ale</td>\n",
       "      <td>4.0</td>\n",
       "      <td>3.5</td>\n",
       "      <td>3.5</td>\n",
       "      <td>4.0</td>\n",
       "      <td>4.0</td>\n",
       "      <td>1291840287</td>\n",
       "      <td>\" A. Hazy orange, little head retention but nice lacing\\tS. Funky citrus\\tT. Lemony malt/hops balance\\tM. balanced carbonation, creamy finish\\tD. at 7.5% it's a bit heavy, but I could drink this all summer long. Sorry I didn't find it until the end of the season.\\t\\t\"</td>\n",
       "      <td>2010-12-08</td>\n",
       "      <td>8</td>\n",
       "      <td>12</td>\n",
       "      <td>2010</td>\n",
       "    </tr>\n",
       "    <tr>\n",
       "      <th>4</th>\n",
       "      <td>007</td>\n",
       "      <td>1549890</td>\n",
       "      <td>1549890</td>\n",
       "      <td>1549890</td>\n",
       "      <td>Victory Lager</td>\n",
       "      <td>1002</td>\n",
       "      <td>345</td>\n",
       "      <td>4.8</td>\n",
       "      <td>Munich Helles Lager</td>\n",
       "      <td>3.0</td>\n",
       "      <td>3.5</td>\n",
       "      <td>3.5</td>\n",
       "      <td>4.0</td>\n",
       "      <td>4.0</td>\n",
       "      <td>1288210632</td>\n",
       "      <td>\" Victory Lager was my introduction to craft beer in the mid-90s. Back in the day, the Victory brewpub was more low-key and the draft selection was limited to five or six flagships and a seasonal, compared to 15+ today. The Lager had such big flavor and aroma compared to the macro-brews I was used to (and didn't particularly like).\\t\\tI've moved on to other styles, but recently revisited my first. It poured golden and clear with little head and slight effervescence. Clean sweet aroma and crisp, clean malt flavor. On the watery side compared to other styles, but fine for a lager. Overall, very drinkable.\\t\\t\"</td>\n",
       "      <td>2010-10-27</td>\n",
       "      <td>27</td>\n",
       "      <td>10</td>\n",
       "      <td>2010</td>\n",
       "    </tr>\n",
       "  </tbody>\n",
       "</table>\n",
       "</div>"
      ],
      "text/plain": [
       "  profile_name  Unnamed: 0  Unnamed: 0.1  Unnamed: 0.1.1                names  \\\n",
       "0          007      985797        985797          985797   Fraoch Heather Ale   \n",
       "1          007     1539730       1539730         1539730       Saison Du BUFF   \n",
       "2          007     1544437       1544437         1544437         HopDevil Ale   \n",
       "3          007     1545868       1545868         1545868   Helios  (V Saison)   \n",
       "4          007     1549890       1549890         1549890        Victory Lager   \n",
       "\n",
       "      Id  brewerId  ABV                                 style  appearance  \\\n",
       "0    245     12142  5.0   Scottish Gruit / Ancient Herbed Ale         3.5   \n",
       "1  61351       345  6.8                Saison / Farmhouse Ale         4.0   \n",
       "2   1005       345  6.7                          American IPA         4.5   \n",
       "3  47776       345  7.5                Saison / Farmhouse Ale         4.0   \n",
       "4   1002       345  4.8                   Munich Helles Lager         3.0   \n",
       "\n",
       "   aroma  palate  taste  overall        time  \\\n",
       "0    2.5     3.5    4.0      4.5  1220542724   \n",
       "1    3.5     4.5    3.5      4.5  1285854092   \n",
       "2    5.0     4.5    5.0      5.0  1286891828   \n",
       "3    3.5     3.5    4.0      4.0  1291840287   \n",
       "4    3.5     3.5    4.0      4.0  1288210632   \n",
       "\n",
       "                                                                                                                                                                                                                                                                                                                                                                                                                                                                                                                                                                                                                                                                                                                                                                                                                                                                                                                                                                                                                                      text  \\\n",
       "0                                                                                                                                                                                                                                                                                                                                                                                                                                                                                    \" First tried this as part of a mix case several years ago and had been wanting more ever since. Found it by the case and eagerly bought it.\\t\\tAppearance - pale to amber, slightly cloudy, weak head\\t\\tSmell - faint floral or herbal notes\\t\\tTaste - Again, floral and herbal notes, lacking the typical bitter hops finish\\t\\tMouthfeel - smooth, almost watery\\t\\tDrinkability - I think this is a must-try beer, if only for it's unique ingredients and taste. I will enjoy drinking it while I have it, but wouldn't make it a staple.\\t\\t\"   \n",
       "1                                                                                                                                                                                                                                                                                                                                                                                                                                                                                                                                                                                                                                                   \" Poured from bottle into pint glass. \\t\\tHazy golden color with 1-2 finger head that lingered.\\t\\tAroma was floral in character and more powerful than other saisons.\\t\\tVarious spice flavors followed by mild hop bitterness made this very enjoyable to drink. The floral aromas, however, make this a brew that I could enjoy in quality, but not in quantity.\\t\\tWell done.\\t\\t\"   \n",
       "2  \" A- dark amber, lasting head, delicate ephemeral lacing\\tS - piney, citrusy \\tT - bitter...no sweet...no spicy...no, wait bitter again...\\tM - smooth, balanced carbonation, clean finish\\tD - 5.0 exceptional, never disappointing\\t\\tWith apologies to Sir Arthur Conan Doyle...\\t\\tTo 007, she was always the beer. I have seldom heard him mention her under any other name. In his eyes she eclipses and predominates the whole of her style. It was not that he felt any emotion akin to love for HopDevil. All emotions,and that one particularly, were abhorrent to his cold, precise but admirably balanced mind. He was, I take it, the most perfect reasoning and observing machine that the world has seen, but as a beer-lover he would have placed himself in a false position. He never spoke of the softer passions, save with a gibe and a sneer.\\t\\tThey were admirable things for the observer -- excellent for drawing the veil from beer's motives and actions. But for the trained reasoner to admit such int...   \n",
       "3                                                                                                                                                                                                                                                                                                                                                                                                                                                                                                                                                                                                                                                                                                                                                             \" A. Hazy orange, little head retention but nice lacing\\tS. Funky citrus\\tT. Lemony malt/hops balance\\tM. balanced carbonation, creamy finish\\tD. at 7.5% it's a bit heavy, but I could drink this all summer long. Sorry I didn't find it until the end of the season.\\t\\t\"   \n",
       "4                                                                                                                                                                                                                                                                                                                                                                                                  \" Victory Lager was my introduction to craft beer in the mid-90s. Back in the day, the Victory brewpub was more low-key and the draft selection was limited to five or six flagships and a seasonal, compared to 15+ today. The Lager had such big flavor and aroma compared to the macro-brews I was used to (and didn't particularly like).\\t\\tI've moved on to other styles, but recently revisited my first. It poured golden and clear with little head and slight effervescence. Clean sweet aroma and crisp, clean malt flavor. On the watery side compared to other styles, but fine for a lager. Overall, very drinkable.\\t\\t\"   \n",
       "\n",
       "        time2  day  month  year  \n",
       "0  2008-09-04    4      9  2008  \n",
       "1  2010-09-30   30      9  2010  \n",
       "2  2010-10-12   12     10  2010  \n",
       "3  2010-12-08    8     12  2010  \n",
       "4  2010-10-27   27     10  2010  "
      ]
     },
     "execution_count": 33,
     "metadata": {},
     "output_type": "execute_result"
    }
   ],
   "source": [
    "final_dataset.head()"
   ]
  },
  {
   "cell_type": "code",
   "execution_count": 34,
   "metadata": {
    "collapsed": true
   },
   "outputs": [],
   "source": [
    "final_dataset.to_csv('beer_prueba1.csv')"
   ]
  }
 ],
 "metadata": {
  "kernelspec": {
   "display_name": "Python 2",
   "language": "python",
   "name": "python2"
  },
  "language_info": {
   "codemirror_mode": {
    "name": "ipython",
    "version": 2
   },
   "file_extension": ".py",
   "mimetype": "text/x-python",
   "name": "python",
   "nbconvert_exporter": "python",
   "pygments_lexer": "ipython2",
   "version": "2.7.13"
  }
 },
 "nbformat": 4,
 "nbformat_minor": 2
}
