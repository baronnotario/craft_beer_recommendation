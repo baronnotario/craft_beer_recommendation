{
 "cells": [
  {
   "cell_type": "markdown",
   "metadata": {},
   "source": [
    "# Treating missing values"
   ]
  },
  {
   "cell_type": "code",
   "execution_count": 1,
   "metadata": {
    "collapsed": true
   },
   "outputs": [],
   "source": [
    "import csv\n",
    "import pandas as pd\n",
    "import numpy as np"
   ]
  },
  {
   "cell_type": "code",
   "execution_count": 2,
   "metadata": {},
   "outputs": [
    {
     "data": {
      "text/html": [
       "<div>\n",
       "<table border=\"1\" class=\"dataframe\">\n",
       "  <thead>\n",
       "    <tr style=\"text-align: right;\">\n",
       "      <th></th>\n",
       "      <th>Unnamed: 0</th>\n",
       "      <th>names</th>\n",
       "      <th>Id</th>\n",
       "      <th>brewerId</th>\n",
       "      <th>ABV</th>\n",
       "      <th>style</th>\n",
       "      <th>appearance</th>\n",
       "      <th>aroma</th>\n",
       "      <th>palate</th>\n",
       "      <th>taste</th>\n",
       "      <th>overall</th>\n",
       "      <th>time</th>\n",
       "      <th>profile_name</th>\n",
       "      <th>text</th>\n",
       "      <th>time2</th>\n",
       "      <th>day</th>\n",
       "      <th>month</th>\n",
       "      <th>year</th>\n",
       "    </tr>\n",
       "  </thead>\n",
       "  <tbody>\n",
       "    <tr>\n",
       "      <th>0</th>\n",
       "      <td>0</td>\n",
       "      <td>Sausa Weizen</td>\n",
       "      <td>47986</td>\n",
       "      <td>10325</td>\n",
       "      <td>5.0</td>\n",
       "      <td>Hefeweizen</td>\n",
       "      <td>2.5</td>\n",
       "      <td>2.0</td>\n",
       "      <td>1.5</td>\n",
       "      <td>1.5</td>\n",
       "      <td>1.5</td>\n",
       "      <td>1234817823</td>\n",
       "      <td>stcules</td>\n",
       "      <td>\" A lot of foam. But a lot.\\tIn the smell some...</td>\n",
       "      <td>2009-02-16</td>\n",
       "      <td>16</td>\n",
       "      <td>2</td>\n",
       "      <td>2009</td>\n",
       "    </tr>\n",
       "    <tr>\n",
       "      <th>1</th>\n",
       "      <td>1</td>\n",
       "      <td>Red Moon</td>\n",
       "      <td>48213</td>\n",
       "      <td>10325</td>\n",
       "      <td>6.2</td>\n",
       "      <td>English Strong Ale</td>\n",
       "      <td>3.0</td>\n",
       "      <td>2.5</td>\n",
       "      <td>3.0</td>\n",
       "      <td>3.0</td>\n",
       "      <td>3.0</td>\n",
       "      <td>1235915097</td>\n",
       "      <td>stcules</td>\n",
       "      <td>\" Dark red color, light beige foam, average.\\t...</td>\n",
       "      <td>2009-03-01</td>\n",
       "      <td>1</td>\n",
       "      <td>3</td>\n",
       "      <td>2009</td>\n",
       "    </tr>\n",
       "  </tbody>\n",
       "</table>\n",
       "</div>"
      ],
      "text/plain": [
       "   Unnamed: 0          names     Id  brewerId  ABV                style  \\\n",
       "0           0   Sausa Weizen  47986     10325  5.0           Hefeweizen   \n",
       "1           1       Red Moon  48213     10325  6.2   English Strong Ale   \n",
       "\n",
       "   appearance  aroma  palate  taste  overall        time profile_name  \\\n",
       "0         2.5    2.0     1.5    1.5      1.5  1234817823      stcules   \n",
       "1         3.0    2.5     3.0    3.0      3.0  1235915097      stcules   \n",
       "\n",
       "                                                text       time2  day  month  \\\n",
       "0  \" A lot of foam. But a lot.\\tIn the smell some...  2009-02-16   16      2   \n",
       "1  \" Dark red color, light beige foam, average.\\t...  2009-03-01    1      3   \n",
       "\n",
       "   year  \n",
       "0  2009  \n",
       "1  2009  "
      ]
     },
     "execution_count": 2,
     "metadata": {},
     "output_type": "execute_result"
    }
   ],
   "source": [
    "f = open(\"E:/master/beerdate.csv\",'rb')\n",
    "reader = csv.reader(f)\n",
    "beer = pd.read_csv (f, sep =\",\")\n",
    "beer.head(2)"
   ]
  },
  {
   "cell_type": "markdown",
   "metadata": {},
   "source": [
    "### Is there any column with missing values?"
   ]
  },
  {
   "cell_type": "code",
   "execution_count": 3,
   "metadata": {
    "scrolled": true
   },
   "outputs": [
    {
     "data": {
      "text/plain": [
       "['ABV', 'profile_name', 'text']"
      ]
     },
     "execution_count": 3,
     "metadata": {},
     "output_type": "execute_result"
    }
   ],
   "source": [
    "beer.columns[beer.isnull().any()].tolist() "
   ]
  },
  {
   "cell_type": "markdown",
   "metadata": {},
   "source": [
    "### How many missing values are in each of those columns?"
   ]
  },
  {
   "cell_type": "code",
   "execution_count": 4,
   "metadata": {},
   "outputs": [
    {
     "data": {
      "text/plain": [
       "Unnamed: 0          0\n",
       "names               0\n",
       "Id                  0\n",
       "brewerId            0\n",
       "ABV             67756\n",
       "style               0\n",
       "appearance          0\n",
       "aroma               0\n",
       "palate              0\n",
       "taste               0\n",
       "overall             0\n",
       "time                0\n",
       "profile_name      348\n",
       "text              353\n",
       "time2               0\n",
       "day                 0\n",
       "month               0\n",
       "year                0\n",
       "dtype: int64"
      ]
     },
     "execution_count": 4,
     "metadata": {},
     "output_type": "execute_result"
    }
   ],
   "source": [
    "pd.isnull(beer).sum()"
   ]
  },
  {
   "cell_type": "markdown",
   "metadata": {},
   "source": [
    "### How to proceed with the missing values?\n",
    "1.We are going to delete the profile name rows with missing values, since if we do not know which consumer it is, the associated data to that rows are not useful for our  recommendation system   \n",
    "2.The missing  ABV  values will be replace for a \"99\" which is easy to identify and is not going to mixed up with the real values   \n",
    "3.Lastly, the missing text values are going to be recoded as \"no comments\""
   ]
  },
  {
   "cell_type": "code",
   "execution_count": 11,
   "metadata": {},
   "outputs": [
    {
     "data": {
      "text/plain": [
       "0"
      ]
     },
     "execution_count": 11,
     "metadata": {},
     "output_type": "execute_result"
    }
   ],
   "source": [
    "beer.ABV=beer.ABV.fillna(value=99)\n",
    "beer.ABV.isnull().sum()"
   ]
  },
  {
   "cell_type": "code",
   "execution_count": 13,
   "metadata": {},
   "outputs": [
    {
     "data": {
      "text/plain": [
       "0"
      ]
     },
     "execution_count": 13,
     "metadata": {},
     "output_type": "execute_result"
    }
   ],
   "source": [
    "beer.text=beer.text.fillna(value=\"no comments\")\n",
    "beer.text.isnull().sum()"
   ]
  },
  {
   "cell_type": "code",
   "execution_count": 15,
   "metadata": {},
   "outputs": [],
   "source": [
    "beer=beer.dropna(axis=0)"
   ]
  },
  {
   "cell_type": "code",
   "execution_count": 17,
   "metadata": {
    "scrolled": true
   },
   "outputs": [
    {
     "data": {
      "text/plain": [
       "[]"
      ]
     },
     "execution_count": 17,
     "metadata": {},
     "output_type": "execute_result"
    }
   ],
   "source": [
    "beer.columns[beer.isnull().any()].tolist() "
   ]
  },
  {
   "cell_type": "code",
   "execution_count": 18,
   "metadata": {
    "scrolled": true
   },
   "outputs": [
    {
     "data": {
      "text/html": [
       "<div>\n",
       "<table border=\"1\" class=\"dataframe\">\n",
       "  <thead>\n",
       "    <tr style=\"text-align: right;\">\n",
       "      <th></th>\n",
       "      <th>Unnamed: 0</th>\n",
       "      <th>names</th>\n",
       "      <th>Id</th>\n",
       "      <th>brewerId</th>\n",
       "      <th>ABV</th>\n",
       "      <th>style</th>\n",
       "      <th>appearance</th>\n",
       "      <th>aroma</th>\n",
       "      <th>palate</th>\n",
       "      <th>taste</th>\n",
       "      <th>overall</th>\n",
       "      <th>time</th>\n",
       "      <th>profile_name</th>\n",
       "      <th>text</th>\n",
       "      <th>time2</th>\n",
       "      <th>day</th>\n",
       "      <th>month</th>\n",
       "      <th>year</th>\n",
       "    </tr>\n",
       "  </thead>\n",
       "  <tbody>\n",
       "    <tr>\n",
       "      <th>0</th>\n",
       "      <td>0</td>\n",
       "      <td>Sausa Weizen</td>\n",
       "      <td>47986</td>\n",
       "      <td>10325</td>\n",
       "      <td>5.0</td>\n",
       "      <td>Hefeweizen</td>\n",
       "      <td>2.5</td>\n",
       "      <td>2.0</td>\n",
       "      <td>1.5</td>\n",
       "      <td>1.5</td>\n",
       "      <td>1.5</td>\n",
       "      <td>1234817823</td>\n",
       "      <td>stcules</td>\n",
       "      <td>\" A lot of foam. But a lot.\\tIn the smell some...</td>\n",
       "      <td>2009-02-16</td>\n",
       "      <td>16</td>\n",
       "      <td>2</td>\n",
       "      <td>2009</td>\n",
       "    </tr>\n",
       "    <tr>\n",
       "      <th>1</th>\n",
       "      <td>1</td>\n",
       "      <td>Red Moon</td>\n",
       "      <td>48213</td>\n",
       "      <td>10325</td>\n",
       "      <td>6.2</td>\n",
       "      <td>English Strong Ale</td>\n",
       "      <td>3.0</td>\n",
       "      <td>2.5</td>\n",
       "      <td>3.0</td>\n",
       "      <td>3.0</td>\n",
       "      <td>3.0</td>\n",
       "      <td>1235915097</td>\n",
       "      <td>stcules</td>\n",
       "      <td>\" Dark red color, light beige foam, average.\\t...</td>\n",
       "      <td>2009-03-01</td>\n",
       "      <td>1</td>\n",
       "      <td>3</td>\n",
       "      <td>2009</td>\n",
       "    </tr>\n",
       "  </tbody>\n",
       "</table>\n",
       "</div>"
      ],
      "text/plain": [
       "   Unnamed: 0          names     Id  brewerId  ABV                style  \\\n",
       "0           0   Sausa Weizen  47986     10325  5.0           Hefeweizen   \n",
       "1           1       Red Moon  48213     10325  6.2   English Strong Ale   \n",
       "\n",
       "   appearance  aroma  palate  taste  overall        time profile_name  \\\n",
       "0         2.5    2.0     1.5    1.5      1.5  1234817823      stcules   \n",
       "1         3.0    2.5     3.0    3.0      3.0  1235915097      stcules   \n",
       "\n",
       "                                                text       time2  day  month  \\\n",
       "0  \" A lot of foam. But a lot.\\tIn the smell some...  2009-02-16   16      2   \n",
       "1  \" Dark red color, light beige foam, average.\\t...  2009-03-01    1      3   \n",
       "\n",
       "   year  \n",
       "0  2009  \n",
       "1  2009  "
      ]
     },
     "execution_count": 18,
     "metadata": {},
     "output_type": "execute_result"
    }
   ],
   "source": [
    "beer.head(2)"
   ]
  },
  {
   "cell_type": "code",
   "execution_count": 20,
   "metadata": {},
   "outputs": [],
   "source": [
    "beer.to_csv ('E:/master/beerna.csv', index=False, na_rep='NA')"
   ]
  },
  {
   "cell_type": "code",
   "execution_count": null,
   "metadata": {
    "collapsed": true,
    "scrolled": false
   },
   "outputs": [],
   "source": [
    "brand_by_name22=brand_by_name2.groupby(['style'])['Id'].nunique()\n",
    "brand_by_name22"
   ]
  },
  {
   "cell_type": "code",
   "execution_count": null,
   "metadata": {
    "collapsed": true
   },
   "outputs": [],
   "source": [
    "brand_by_name23=brand_by_name2.groupby(['style'])['brewerId'].nunique()\n",
    "brand_by_name23"
   ]
  },
  {
   "cell_type": "code",
   "execution_count": null,
   "metadata": {
    "collapsed": true
   },
   "outputs": [],
   "source": [
    "brand_by_name4=brand_by_name2.groupby(['style','ABV'])['Id'].nunique()\n",
    "brand_by_name4"
   ]
  },
  {
   "cell_type": "markdown",
   "metadata": {},
   "source": [
    "### TODO more checks\n",
    "1. Check if the variable --> names, has weird characters"
   ]
  },
  {
   "cell_type": "markdown",
   "metadata": {},
   "source": [
    "## ______________________________________________________"
   ]
  },
  {
   "cell_type": "markdown",
   "metadata": {},
   "source": [
    "## Another statistics"
   ]
  },
  {
   "cell_type": "markdown",
   "metadata": {},
   "source": [
    "There are 104 styles, lets see how many beers (names) there are inside each style"
   ]
  },
  {
   "cell_type": "code",
   "execution_count": null,
   "metadata": {
    "collapsed": true,
    "scrolled": true
   },
   "outputs": [],
   "source": [
    "names_by_styles=beer.groupby(['style'])['names'].nunique()\n",
    "names_by_styles.sort_values(ascending = False).head(10)"
   ]
  },
  {
   "cell_type": "code",
   "execution_count": null,
   "metadata": {
    "collapsed": true
   },
   "outputs": [],
   "source": [
    "names_by_styles.sort_values(ascending = False).tail(10)"
   ]
  },
  {
   "cell_type": "markdown",
   "metadata": {},
   "source": [
    "#### Maybe we can skip those styles with few beers"
   ]
  },
  {
   "cell_type": "markdown",
   "metadata": {},
   "source": [
    "### Num of beers (brand/names)  by style: American IPA and American Pale Ale are the most rated"
   ]
  },
  {
   "cell_type": "code",
   "execution_count": null,
   "metadata": {
    "collapsed": true
   },
   "outputs": [],
   "source": [
    "# Num of beers (brand/names) broup by style\n",
    "brand_by_style=beer.groupby('style')['names'].nunique()\n",
    "brand_by_style.sort_values(ascending = False).head(10)"
   ]
  },
  {
   "cell_type": "code",
   "execution_count": null,
   "metadata": {
    "collapsed": true,
    "scrolled": true
   },
   "outputs": [],
   "source": [
    "brand_by_style2=beer.groupby('style').get_group('American IPA')['names'].nunique()\n",
    "brand_by_style2"
   ]
  },
  {
   "cell_type": "code",
   "execution_count": null,
   "metadata": {
    "collapsed": true
   },
   "outputs": [],
   "source": [
    "prueba=beer.groupby('style').get_group('American IPA')\n",
    "type(prueba)\n",
    "prueba2=prueba.groupby('names')['Id'].nunique()\n",
    "prueba2.sort_values(ascending = False).head(10)"
   ]
  },
  {
   "cell_type": "code",
   "execution_count": null,
   "metadata": {
    "collapsed": true,
    "scrolled": false
   },
   "outputs": [],
   "source": [
    "# Beers most rated by style\n",
    "most_rated_style=beer.groupby('style')['profile_name'].count()\n",
    "most_rated_style.sort_values(ascending = False).head(10)"
   ]
  },
  {
   "cell_type": "markdown",
   "metadata": {},
   "source": [
    "### Top 10 customers (those who rated more)"
   ]
  },
  {
   "cell_type": "code",
   "execution_count": null,
   "metadata": {
    "collapsed": true,
    "scrolled": true
   },
   "outputs": [],
   "source": [
    "# Customer preferences \n",
    "customerPreferences=beer.groupby('profile_name')['overall'].agg(['min', 'max','count'])\n",
    "customerPreferences\n",
    "# max =best rated, min = worst rated, count= num of beers rated by each customer\n",
    "customerPreferences.sort(['count'], ascending=False).head(300)"
   ]
  },
  {
   "cell_type": "code",
   "execution_count": null,
   "metadata": {
    "collapsed": true
   },
   "outputs": [],
   "source": [
    "# total beers by name\n",
    "beer_names=beer['names'].nunique()\n",
    "beer_names"
   ]
  },
  {
   "cell_type": "code",
   "execution_count": null,
   "metadata": {
    "collapsed": true
   },
   "outputs": [],
   "source": [
    "beer_Id=beer['Id'].nunique()\n",
    "beer_Id"
   ]
  },
  {
   "cell_type": "markdown",
   "metadata": {},
   "source": [
    "### Customers ratings by month, year... and so"
   ]
  },
  {
   "cell_type": "markdown",
   "metadata": {},
   "source": [
    "Should we keep those customers eg: RblWthACozwho have rated more than 100 beers in one day??"
   ]
  },
  {
   "cell_type": "code",
   "execution_count": null,
   "metadata": {
    "collapsed": true
   },
   "outputs": [],
   "source": [
    "# Customers that have rated more beers (breaking down by year and month)\n",
    "beer_by_customer=beer.groupby(['profile_name', 'year', 'month', 'day'])['names'].count()\n",
    "beer_by_customer.sort_values(ascending = False).head(100)"
   ]
  },
  {
   "cell_type": "code",
   "execution_count": null,
   "metadata": {
    "collapsed": true,
    "scrolled": false
   },
   "outputs": [],
   "source": [
    "# Customers that have rated more beers (breaking down by year and month)\n",
    "beer_by_customer=beer.groupby(['profile_name', 'year', 'month'])['names'].count()\n",
    "beer_by_customer.sort_values(ascending = False).head(10)"
   ]
  },
  {
   "cell_type": "code",
   "execution_count": null,
   "metadata": {
    "collapsed": true,
    "scrolled": true
   },
   "outputs": [],
   "source": [
    "# Customers that have rated more beers (breaking down by year)\n",
    "beer_by_customer2=beer.groupby(['profile_name', 'year'])['names'].count()"
   ]
  },
  {
   "cell_type": "code",
   "execution_count": null,
   "metadata": {
    "collapsed": true
   },
   "outputs": [],
   "source": [
    "# Customers that have rated more beers (total)\n",
    "beer_by_customer3=beer.groupby(['profile_name'])['names'].count()\n",
    "beer_by_customer3.sort_values(ascending = False).head(10)"
   ]
  },
  {
   "cell_type": "code",
   "execution_count": null,
   "metadata": {
    "collapsed": true
   },
   "outputs": [],
   "source": [
    "beer_by_customer3.sort_values(ascending = False).tail(10)"
   ]
  },
  {
   "cell_type": "markdown",
   "metadata": {},
   "source": [
    "### Beers best and worst rated --- avg of the overall variable "
   ]
  },
  {
   "cell_type": "code",
   "execution_count": null,
   "metadata": {
    "collapsed": true,
    "scrolled": false
   },
   "outputs": [],
   "source": [
    "# Beers best and worst rated \n",
    "rated_beers=beer.groupby('style')['overall'].agg(['min', 'max','mean', 'count'])\n",
    "rated_beers.head()"
   ]
  },
  {
   "cell_type": "code",
   "execution_count": null,
   "metadata": {
    "collapsed": true
   },
   "outputs": [],
   "source": [
    "rated_beers2=beer.groupby(['style'])['overall'].mean()\n",
    "rated_beers2.sort_values(ascending = False).head(10)"
   ]
  },
  {
   "cell_type": "code",
   "execution_count": null,
   "metadata": {
    "collapsed": true,
    "scrolled": true
   },
   "outputs": [],
   "source": [
    "rated_beers2=beer.groupby(['style'])['overall'].mean()\n",
    "rated_beers2.sort_values(ascending = False).tail(10)"
   ]
  }
 ],
 "metadata": {
  "kernelspec": {
   "display_name": "Python 2",
   "language": "python",
   "name": "python2"
  },
  "language_info": {
   "codemirror_mode": {
    "name": "ipython",
    "version": 2
   },
   "file_extension": ".py",
   "mimetype": "text/x-python",
   "name": "python",
   "nbconvert_exporter": "python",
   "pygments_lexer": "ipython2",
   "version": "2.7.13"
  }
 },
 "nbformat": 4,
 "nbformat_minor": 2
}
